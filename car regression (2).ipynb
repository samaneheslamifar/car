{
 "cells": [
  {
   "cell_type": "code",
   "execution_count": 1328,
   "id": "1794f4db",
   "metadata": {},
   "outputs": [],
   "source": [
    "import pandas as pd\n",
    "import numpy as np\n",
    "import matplotlib.pyplot as plt\n",
    "import seaborn as sns\n",
    "from sklearn.model_selection import train_test_split\n",
    "from sklearn.linear_model import LinearRegression\n",
    "from sklearn import metrics"
   ]
  },
  {
   "cell_type": "code",
   "execution_count": 1329,
   "id": "bbe39d4c",
   "metadata": {},
   "outputs": [],
   "source": [
    "data = pd.read_csv(\"C:/data sets/cardata.csv\")"
   ]
  },
  {
   "cell_type": "code",
   "execution_count": 1330,
   "id": "ba54973d",
   "metadata": {},
   "outputs": [
    {
     "data": {
      "text/html": [
       "<div>\n",
       "<style scoped>\n",
       "    .dataframe tbody tr th:only-of-type {\n",
       "        vertical-align: middle;\n",
       "    }\n",
       "\n",
       "    .dataframe tbody tr th {\n",
       "        vertical-align: top;\n",
       "    }\n",
       "\n",
       "    .dataframe thead th {\n",
       "        text-align: right;\n",
       "    }\n",
       "</style>\n",
       "<table border=\"1\" class=\"dataframe\">\n",
       "  <thead>\n",
       "    <tr style=\"text-align: right;\">\n",
       "      <th></th>\n",
       "      <th>Car_Name</th>\n",
       "      <th>Year</th>\n",
       "      <th>Selling_Price</th>\n",
       "      <th>Present_Price</th>\n",
       "      <th>Kms_Driven</th>\n",
       "      <th>Fuel_Type</th>\n",
       "      <th>Seller_Type</th>\n",
       "      <th>Transmission</th>\n",
       "      <th>Owner</th>\n",
       "    </tr>\n",
       "  </thead>\n",
       "  <tbody>\n",
       "    <tr>\n",
       "      <th>0</th>\n",
       "      <td>ritz</td>\n",
       "      <td>2014</td>\n",
       "      <td>3.35</td>\n",
       "      <td>5.59</td>\n",
       "      <td>27000</td>\n",
       "      <td>Petrol</td>\n",
       "      <td>Dealer</td>\n",
       "      <td>Manual</td>\n",
       "      <td>0</td>\n",
       "    </tr>\n",
       "    <tr>\n",
       "      <th>1</th>\n",
       "      <td>sx4</td>\n",
       "      <td>2013</td>\n",
       "      <td>4.75</td>\n",
       "      <td>9.54</td>\n",
       "      <td>43000</td>\n",
       "      <td>Diesel</td>\n",
       "      <td>Dealer</td>\n",
       "      <td>Manual</td>\n",
       "      <td>0</td>\n",
       "    </tr>\n",
       "    <tr>\n",
       "      <th>2</th>\n",
       "      <td>ciaz</td>\n",
       "      <td>2017</td>\n",
       "      <td>7.25</td>\n",
       "      <td>9.85</td>\n",
       "      <td>6900</td>\n",
       "      <td>Petrol</td>\n",
       "      <td>Dealer</td>\n",
       "      <td>Manual</td>\n",
       "      <td>0</td>\n",
       "    </tr>\n",
       "    <tr>\n",
       "      <th>3</th>\n",
       "      <td>wagon r</td>\n",
       "      <td>2011</td>\n",
       "      <td>2.85</td>\n",
       "      <td>4.15</td>\n",
       "      <td>5200</td>\n",
       "      <td>Petrol</td>\n",
       "      <td>Dealer</td>\n",
       "      <td>Manual</td>\n",
       "      <td>0</td>\n",
       "    </tr>\n",
       "    <tr>\n",
       "      <th>4</th>\n",
       "      <td>swift</td>\n",
       "      <td>2014</td>\n",
       "      <td>4.60</td>\n",
       "      <td>6.87</td>\n",
       "      <td>42450</td>\n",
       "      <td>Diesel</td>\n",
       "      <td>Dealer</td>\n",
       "      <td>Manual</td>\n",
       "      <td>0</td>\n",
       "    </tr>\n",
       "    <tr>\n",
       "      <th>...</th>\n",
       "      <td>...</td>\n",
       "      <td>...</td>\n",
       "      <td>...</td>\n",
       "      <td>...</td>\n",
       "      <td>...</td>\n",
       "      <td>...</td>\n",
       "      <td>...</td>\n",
       "      <td>...</td>\n",
       "      <td>...</td>\n",
       "    </tr>\n",
       "    <tr>\n",
       "      <th>296</th>\n",
       "      <td>city</td>\n",
       "      <td>2016</td>\n",
       "      <td>9.50</td>\n",
       "      <td>11.60</td>\n",
       "      <td>33988</td>\n",
       "      <td>Diesel</td>\n",
       "      <td>Dealer</td>\n",
       "      <td>Manual</td>\n",
       "      <td>0</td>\n",
       "    </tr>\n",
       "    <tr>\n",
       "      <th>297</th>\n",
       "      <td>brio</td>\n",
       "      <td>2015</td>\n",
       "      <td>4.00</td>\n",
       "      <td>5.90</td>\n",
       "      <td>60000</td>\n",
       "      <td>Petrol</td>\n",
       "      <td>Dealer</td>\n",
       "      <td>Manual</td>\n",
       "      <td>0</td>\n",
       "    </tr>\n",
       "    <tr>\n",
       "      <th>298</th>\n",
       "      <td>city</td>\n",
       "      <td>2009</td>\n",
       "      <td>3.35</td>\n",
       "      <td>11.00</td>\n",
       "      <td>87934</td>\n",
       "      <td>Petrol</td>\n",
       "      <td>Dealer</td>\n",
       "      <td>Manual</td>\n",
       "      <td>0</td>\n",
       "    </tr>\n",
       "    <tr>\n",
       "      <th>299</th>\n",
       "      <td>city</td>\n",
       "      <td>2017</td>\n",
       "      <td>11.50</td>\n",
       "      <td>12.50</td>\n",
       "      <td>9000</td>\n",
       "      <td>Diesel</td>\n",
       "      <td>Dealer</td>\n",
       "      <td>Manual</td>\n",
       "      <td>0</td>\n",
       "    </tr>\n",
       "    <tr>\n",
       "      <th>300</th>\n",
       "      <td>brio</td>\n",
       "      <td>2016</td>\n",
       "      <td>5.30</td>\n",
       "      <td>5.90</td>\n",
       "      <td>5464</td>\n",
       "      <td>Petrol</td>\n",
       "      <td>Dealer</td>\n",
       "      <td>Manual</td>\n",
       "      <td>0</td>\n",
       "    </tr>\n",
       "  </tbody>\n",
       "</table>\n",
       "<p>301 rows × 9 columns</p>\n",
       "</div>"
      ],
      "text/plain": [
       "    Car_Name  Year  Selling_Price  Present_Price  Kms_Driven Fuel_Type  \\\n",
       "0       ritz  2014           3.35           5.59       27000    Petrol   \n",
       "1        sx4  2013           4.75           9.54       43000    Diesel   \n",
       "2       ciaz  2017           7.25           9.85        6900    Petrol   \n",
       "3    wagon r  2011           2.85           4.15        5200    Petrol   \n",
       "4      swift  2014           4.60           6.87       42450    Diesel   \n",
       "..       ...   ...            ...            ...         ...       ...   \n",
       "296     city  2016           9.50          11.60       33988    Diesel   \n",
       "297     brio  2015           4.00           5.90       60000    Petrol   \n",
       "298     city  2009           3.35          11.00       87934    Petrol   \n",
       "299     city  2017          11.50          12.50        9000    Diesel   \n",
       "300     brio  2016           5.30           5.90        5464    Petrol   \n",
       "\n",
       "    Seller_Type Transmission  Owner  \n",
       "0        Dealer       Manual      0  \n",
       "1        Dealer       Manual      0  \n",
       "2        Dealer       Manual      0  \n",
       "3        Dealer       Manual      0  \n",
       "4        Dealer       Manual      0  \n",
       "..          ...          ...    ...  \n",
       "296      Dealer       Manual      0  \n",
       "297      Dealer       Manual      0  \n",
       "298      Dealer       Manual      0  \n",
       "299      Dealer       Manual      0  \n",
       "300      Dealer       Manual      0  \n",
       "\n",
       "[301 rows x 9 columns]"
      ]
     },
     "execution_count": 1330,
     "metadata": {},
     "output_type": "execute_result"
    }
   ],
   "source": [
    "df=pd.DataFrame(data)\n",
    "df"
   ]
  },
  {
   "cell_type": "code",
   "execution_count": 1331,
   "id": "d6e483a7",
   "metadata": {},
   "outputs": [
    {
     "name": "stdout",
     "output_type": "stream",
     "text": [
      "<class 'pandas.core.frame.DataFrame'>\n",
      "RangeIndex: 301 entries, 0 to 300\n",
      "Data columns (total 9 columns):\n",
      " #   Column         Non-Null Count  Dtype  \n",
      "---  ------         --------------  -----  \n",
      " 0   Car_Name       301 non-null    object \n",
      " 1   Year           301 non-null    int64  \n",
      " 2   Selling_Price  301 non-null    float64\n",
      " 3   Present_Price  301 non-null    float64\n",
      " 4   Kms_Driven     301 non-null    int64  \n",
      " 5   Fuel_Type      301 non-null    object \n",
      " 6   Seller_Type    301 non-null    object \n",
      " 7   Transmission   301 non-null    object \n",
      " 8   Owner          301 non-null    int64  \n",
      "dtypes: float64(2), int64(3), object(4)\n",
      "memory usage: 16.5+ KB\n"
     ]
    }
   ],
   "source": [
    "df.info()"
   ]
  },
  {
   "cell_type": "code",
   "execution_count": 1332,
   "id": "4cbf9418",
   "metadata": {},
   "outputs": [
    {
     "data": {
      "text/plain": [
       "Car_Name         0\n",
       "Year             0\n",
       "Selling_Price    0\n",
       "Present_Price    0\n",
       "Kms_Driven       0\n",
       "Fuel_Type        0\n",
       "Seller_Type      0\n",
       "Transmission     0\n",
       "Owner            0\n",
       "dtype: int64"
      ]
     },
     "execution_count": 1332,
     "metadata": {},
     "output_type": "execute_result"
    }
   ],
   "source": [
    "df.isnull().sum()"
   ]
  },
  {
   "cell_type": "code",
   "execution_count": 1333,
   "id": "901b5c7a",
   "metadata": {},
   "outputs": [],
   "source": [
    "df.drop(['Car_Name'],axis=1,inplace = True)"
   ]
  },
  {
   "cell_type": "code",
   "execution_count": 1334,
   "id": "69f3d2e3",
   "metadata": {},
   "outputs": [
    {
     "data": {
      "text/html": [
       "<div>\n",
       "<style scoped>\n",
       "    .dataframe tbody tr th:only-of-type {\n",
       "        vertical-align: middle;\n",
       "    }\n",
       "\n",
       "    .dataframe tbody tr th {\n",
       "        vertical-align: top;\n",
       "    }\n",
       "\n",
       "    .dataframe thead th {\n",
       "        text-align: right;\n",
       "    }\n",
       "</style>\n",
       "<table border=\"1\" class=\"dataframe\">\n",
       "  <thead>\n",
       "    <tr style=\"text-align: right;\">\n",
       "      <th></th>\n",
       "      <th>Year</th>\n",
       "      <th>Selling_Price</th>\n",
       "      <th>Present_Price</th>\n",
       "      <th>Kms_Driven</th>\n",
       "      <th>Fuel_Type</th>\n",
       "      <th>Seller_Type</th>\n",
       "      <th>Transmission</th>\n",
       "      <th>Owner</th>\n",
       "    </tr>\n",
       "  </thead>\n",
       "  <tbody>\n",
       "    <tr>\n",
       "      <th>0</th>\n",
       "      <td>2014</td>\n",
       "      <td>3.35</td>\n",
       "      <td>5.59</td>\n",
       "      <td>27000</td>\n",
       "      <td>Petrol</td>\n",
       "      <td>Dealer</td>\n",
       "      <td>Manual</td>\n",
       "      <td>0</td>\n",
       "    </tr>\n",
       "    <tr>\n",
       "      <th>1</th>\n",
       "      <td>2013</td>\n",
       "      <td>4.75</td>\n",
       "      <td>9.54</td>\n",
       "      <td>43000</td>\n",
       "      <td>Diesel</td>\n",
       "      <td>Dealer</td>\n",
       "      <td>Manual</td>\n",
       "      <td>0</td>\n",
       "    </tr>\n",
       "    <tr>\n",
       "      <th>2</th>\n",
       "      <td>2017</td>\n",
       "      <td>7.25</td>\n",
       "      <td>9.85</td>\n",
       "      <td>6900</td>\n",
       "      <td>Petrol</td>\n",
       "      <td>Dealer</td>\n",
       "      <td>Manual</td>\n",
       "      <td>0</td>\n",
       "    </tr>\n",
       "    <tr>\n",
       "      <th>3</th>\n",
       "      <td>2011</td>\n",
       "      <td>2.85</td>\n",
       "      <td>4.15</td>\n",
       "      <td>5200</td>\n",
       "      <td>Petrol</td>\n",
       "      <td>Dealer</td>\n",
       "      <td>Manual</td>\n",
       "      <td>0</td>\n",
       "    </tr>\n",
       "    <tr>\n",
       "      <th>4</th>\n",
       "      <td>2014</td>\n",
       "      <td>4.60</td>\n",
       "      <td>6.87</td>\n",
       "      <td>42450</td>\n",
       "      <td>Diesel</td>\n",
       "      <td>Dealer</td>\n",
       "      <td>Manual</td>\n",
       "      <td>0</td>\n",
       "    </tr>\n",
       "  </tbody>\n",
       "</table>\n",
       "</div>"
      ],
      "text/plain": [
       "   Year  Selling_Price  Present_Price  Kms_Driven Fuel_Type Seller_Type  \\\n",
       "0  2014           3.35           5.59       27000    Petrol      Dealer   \n",
       "1  2013           4.75           9.54       43000    Diesel      Dealer   \n",
       "2  2017           7.25           9.85        6900    Petrol      Dealer   \n",
       "3  2011           2.85           4.15        5200    Petrol      Dealer   \n",
       "4  2014           4.60           6.87       42450    Diesel      Dealer   \n",
       "\n",
       "  Transmission  Owner  \n",
       "0       Manual      0  \n",
       "1       Manual      0  \n",
       "2       Manual      0  \n",
       "3       Manual      0  \n",
       "4       Manual      0  "
      ]
     },
     "execution_count": 1334,
     "metadata": {},
     "output_type": "execute_result"
    }
   ],
   "source": [
    "df.head()"
   ]
  },
  {
   "cell_type": "code",
   "execution_count": 1335,
   "id": "b0c114dd",
   "metadata": {},
   "outputs": [
    {
     "data": {
      "text/plain": [
       "Petrol    239\n",
       "Diesel     60\n",
       "CNG         2\n",
       "Name: Fuel_Type, dtype: int64"
      ]
     },
     "execution_count": 1335,
     "metadata": {},
     "output_type": "execute_result"
    }
   ],
   "source": [
    "df.Fuel_Type.value_counts()"
   ]
  },
  {
   "cell_type": "code",
   "execution_count": 1336,
   "id": "4a5eaeec",
   "metadata": {},
   "outputs": [
    {
     "data": {
      "text/plain": [
       "Dealer        195\n",
       "Individual    106\n",
       "Name: Seller_Type, dtype: int64"
      ]
     },
     "execution_count": 1336,
     "metadata": {},
     "output_type": "execute_result"
    }
   ],
   "source": [
    "df.Seller_Type.value_counts()"
   ]
  },
  {
   "cell_type": "code",
   "execution_count": 1337,
   "id": "c47d3318",
   "metadata": {},
   "outputs": [
    {
     "data": {
      "text/plain": [
       "Manual       261\n",
       "Automatic     40\n",
       "Name: Transmission, dtype: int64"
      ]
     },
     "execution_count": 1337,
     "metadata": {},
     "output_type": "execute_result"
    }
   ],
   "source": [
    "df.Transmission.value_counts()"
   ]
  },
  {
   "cell_type": "code",
   "execution_count": 1338,
   "id": "20c2a09a",
   "metadata": {},
   "outputs": [],
   "source": [
    "df = pd.get_dummies(df,columns=['Fuel_Type','Seller_Type','Transmission'],drop_first=True)"
   ]
  },
  {
   "cell_type": "code",
   "execution_count": 1339,
   "id": "62192e01",
   "metadata": {},
   "outputs": [
    {
     "name": "stdout",
     "output_type": "stream",
     "text": [
      "<class 'pandas.core.frame.DataFrame'>\n",
      "RangeIndex: 301 entries, 0 to 300\n",
      "Data columns (total 9 columns):\n",
      " #   Column                  Non-Null Count  Dtype  \n",
      "---  ------                  --------------  -----  \n",
      " 0   Year                    301 non-null    int64  \n",
      " 1   Selling_Price           301 non-null    float64\n",
      " 2   Present_Price           301 non-null    float64\n",
      " 3   Kms_Driven              301 non-null    int64  \n",
      " 4   Owner                   301 non-null    int64  \n",
      " 5   Fuel_Type_Diesel        301 non-null    uint8  \n",
      " 6   Fuel_Type_Petrol        301 non-null    uint8  \n",
      " 7   Seller_Type_Individual  301 non-null    uint8  \n",
      " 8   Transmission_Manual     301 non-null    uint8  \n",
      "dtypes: float64(2), int64(3), uint8(4)\n",
      "memory usage: 13.0 KB\n"
     ]
    }
   ],
   "source": [
    "df.info()"
   ]
  },
  {
   "cell_type": "code",
   "execution_count": 1340,
   "id": "603684a4",
   "metadata": {},
   "outputs": [
    {
     "data": {
      "text/html": [
       "<div>\n",
       "<style scoped>\n",
       "    .dataframe tbody tr th:only-of-type {\n",
       "        vertical-align: middle;\n",
       "    }\n",
       "\n",
       "    .dataframe tbody tr th {\n",
       "        vertical-align: top;\n",
       "    }\n",
       "\n",
       "    .dataframe thead th {\n",
       "        text-align: right;\n",
       "    }\n",
       "</style>\n",
       "<table border=\"1\" class=\"dataframe\">\n",
       "  <thead>\n",
       "    <tr style=\"text-align: right;\">\n",
       "      <th></th>\n",
       "      <th>Year</th>\n",
       "      <th>Selling_Price</th>\n",
       "      <th>Present_Price</th>\n",
       "      <th>Kms_Driven</th>\n",
       "      <th>Owner</th>\n",
       "      <th>Fuel_Type_Diesel</th>\n",
       "      <th>Fuel_Type_Petrol</th>\n",
       "      <th>Seller_Type_Individual</th>\n",
       "      <th>Transmission_Manual</th>\n",
       "    </tr>\n",
       "  </thead>\n",
       "  <tbody>\n",
       "    <tr>\n",
       "      <th>0</th>\n",
       "      <td>2014</td>\n",
       "      <td>3.35</td>\n",
       "      <td>5.59</td>\n",
       "      <td>27000</td>\n",
       "      <td>0</td>\n",
       "      <td>0</td>\n",
       "      <td>1</td>\n",
       "      <td>0</td>\n",
       "      <td>1</td>\n",
       "    </tr>\n",
       "    <tr>\n",
       "      <th>1</th>\n",
       "      <td>2013</td>\n",
       "      <td>4.75</td>\n",
       "      <td>9.54</td>\n",
       "      <td>43000</td>\n",
       "      <td>0</td>\n",
       "      <td>1</td>\n",
       "      <td>0</td>\n",
       "      <td>0</td>\n",
       "      <td>1</td>\n",
       "    </tr>\n",
       "    <tr>\n",
       "      <th>2</th>\n",
       "      <td>2017</td>\n",
       "      <td>7.25</td>\n",
       "      <td>9.85</td>\n",
       "      <td>6900</td>\n",
       "      <td>0</td>\n",
       "      <td>0</td>\n",
       "      <td>1</td>\n",
       "      <td>0</td>\n",
       "      <td>1</td>\n",
       "    </tr>\n",
       "    <tr>\n",
       "      <th>3</th>\n",
       "      <td>2011</td>\n",
       "      <td>2.85</td>\n",
       "      <td>4.15</td>\n",
       "      <td>5200</td>\n",
       "      <td>0</td>\n",
       "      <td>0</td>\n",
       "      <td>1</td>\n",
       "      <td>0</td>\n",
       "      <td>1</td>\n",
       "    </tr>\n",
       "    <tr>\n",
       "      <th>4</th>\n",
       "      <td>2014</td>\n",
       "      <td>4.60</td>\n",
       "      <td>6.87</td>\n",
       "      <td>42450</td>\n",
       "      <td>0</td>\n",
       "      <td>1</td>\n",
       "      <td>0</td>\n",
       "      <td>0</td>\n",
       "      <td>1</td>\n",
       "    </tr>\n",
       "  </tbody>\n",
       "</table>\n",
       "</div>"
      ],
      "text/plain": [
       "   Year  Selling_Price  Present_Price  Kms_Driven  Owner  Fuel_Type_Diesel  \\\n",
       "0  2014           3.35           5.59       27000      0                 0   \n",
       "1  2013           4.75           9.54       43000      0                 1   \n",
       "2  2017           7.25           9.85        6900      0                 0   \n",
       "3  2011           2.85           4.15        5200      0                 0   \n",
       "4  2014           4.60           6.87       42450      0                 1   \n",
       "\n",
       "   Fuel_Type_Petrol  Seller_Type_Individual  Transmission_Manual  \n",
       "0                 1                       0                    1  \n",
       "1                 0                       0                    1  \n",
       "2                 1                       0                    1  \n",
       "3                 1                       0                    1  \n",
       "4                 0                       0                    1  "
      ]
     },
     "execution_count": 1340,
     "metadata": {},
     "output_type": "execute_result"
    }
   ],
   "source": [
    "df.head()"
   ]
  },
  {
   "cell_type": "code",
   "execution_count": 1341,
   "id": "03f541c2",
   "metadata": {},
   "outputs": [
    {
     "data": {
      "text/html": [
       "<div>\n",
       "<style scoped>\n",
       "    .dataframe tbody tr th:only-of-type {\n",
       "        vertical-align: middle;\n",
       "    }\n",
       "\n",
       "    .dataframe tbody tr th {\n",
       "        vertical-align: top;\n",
       "    }\n",
       "\n",
       "    .dataframe thead th {\n",
       "        text-align: right;\n",
       "    }\n",
       "</style>\n",
       "<table border=\"1\" class=\"dataframe\">\n",
       "  <thead>\n",
       "    <tr style=\"text-align: right;\">\n",
       "      <th></th>\n",
       "      <th>Year</th>\n",
       "      <th>Selling_Price</th>\n",
       "      <th>Present_Price</th>\n",
       "      <th>Kms_Driven</th>\n",
       "      <th>Owner</th>\n",
       "      <th>Fuel_Type_Diesel</th>\n",
       "      <th>Fuel_Type_Petrol</th>\n",
       "      <th>Seller_Type_Individual</th>\n",
       "      <th>Transmission_Manual</th>\n",
       "    </tr>\n",
       "  </thead>\n",
       "  <tbody>\n",
       "    <tr>\n",
       "      <th>count</th>\n",
       "      <td>301.000000</td>\n",
       "      <td>301.000000</td>\n",
       "      <td>301.000000</td>\n",
       "      <td>301.000000</td>\n",
       "      <td>301.000000</td>\n",
       "      <td>301.000000</td>\n",
       "      <td>301.000000</td>\n",
       "      <td>301.000000</td>\n",
       "      <td>301.000000</td>\n",
       "    </tr>\n",
       "    <tr>\n",
       "      <th>mean</th>\n",
       "      <td>2013.627907</td>\n",
       "      <td>4.661296</td>\n",
       "      <td>7.628472</td>\n",
       "      <td>36947.205980</td>\n",
       "      <td>0.043189</td>\n",
       "      <td>0.199336</td>\n",
       "      <td>0.794020</td>\n",
       "      <td>0.352159</td>\n",
       "      <td>0.867110</td>\n",
       "    </tr>\n",
       "    <tr>\n",
       "      <th>std</th>\n",
       "      <td>2.891554</td>\n",
       "      <td>5.082812</td>\n",
       "      <td>8.644115</td>\n",
       "      <td>38886.883882</td>\n",
       "      <td>0.247915</td>\n",
       "      <td>0.400166</td>\n",
       "      <td>0.405089</td>\n",
       "      <td>0.478439</td>\n",
       "      <td>0.340021</td>\n",
       "    </tr>\n",
       "    <tr>\n",
       "      <th>min</th>\n",
       "      <td>2003.000000</td>\n",
       "      <td>0.100000</td>\n",
       "      <td>0.320000</td>\n",
       "      <td>500.000000</td>\n",
       "      <td>0.000000</td>\n",
       "      <td>0.000000</td>\n",
       "      <td>0.000000</td>\n",
       "      <td>0.000000</td>\n",
       "      <td>0.000000</td>\n",
       "    </tr>\n",
       "    <tr>\n",
       "      <th>25%</th>\n",
       "      <td>2012.000000</td>\n",
       "      <td>0.900000</td>\n",
       "      <td>1.200000</td>\n",
       "      <td>15000.000000</td>\n",
       "      <td>0.000000</td>\n",
       "      <td>0.000000</td>\n",
       "      <td>1.000000</td>\n",
       "      <td>0.000000</td>\n",
       "      <td>1.000000</td>\n",
       "    </tr>\n",
       "    <tr>\n",
       "      <th>50%</th>\n",
       "      <td>2014.000000</td>\n",
       "      <td>3.600000</td>\n",
       "      <td>6.400000</td>\n",
       "      <td>32000.000000</td>\n",
       "      <td>0.000000</td>\n",
       "      <td>0.000000</td>\n",
       "      <td>1.000000</td>\n",
       "      <td>0.000000</td>\n",
       "      <td>1.000000</td>\n",
       "    </tr>\n",
       "    <tr>\n",
       "      <th>75%</th>\n",
       "      <td>2016.000000</td>\n",
       "      <td>6.000000</td>\n",
       "      <td>9.900000</td>\n",
       "      <td>48767.000000</td>\n",
       "      <td>0.000000</td>\n",
       "      <td>0.000000</td>\n",
       "      <td>1.000000</td>\n",
       "      <td>1.000000</td>\n",
       "      <td>1.000000</td>\n",
       "    </tr>\n",
       "    <tr>\n",
       "      <th>max</th>\n",
       "      <td>2018.000000</td>\n",
       "      <td>35.000000</td>\n",
       "      <td>92.600000</td>\n",
       "      <td>500000.000000</td>\n",
       "      <td>3.000000</td>\n",
       "      <td>1.000000</td>\n",
       "      <td>1.000000</td>\n",
       "      <td>1.000000</td>\n",
       "      <td>1.000000</td>\n",
       "    </tr>\n",
       "  </tbody>\n",
       "</table>\n",
       "</div>"
      ],
      "text/plain": [
       "              Year  Selling_Price  Present_Price     Kms_Driven       Owner  \\\n",
       "count   301.000000     301.000000     301.000000     301.000000  301.000000   \n",
       "mean   2013.627907       4.661296       7.628472   36947.205980    0.043189   \n",
       "std       2.891554       5.082812       8.644115   38886.883882    0.247915   \n",
       "min    2003.000000       0.100000       0.320000     500.000000    0.000000   \n",
       "25%    2012.000000       0.900000       1.200000   15000.000000    0.000000   \n",
       "50%    2014.000000       3.600000       6.400000   32000.000000    0.000000   \n",
       "75%    2016.000000       6.000000       9.900000   48767.000000    0.000000   \n",
       "max    2018.000000      35.000000      92.600000  500000.000000    3.000000   \n",
       "\n",
       "       Fuel_Type_Diesel  Fuel_Type_Petrol  Seller_Type_Individual  \\\n",
       "count        301.000000        301.000000              301.000000   \n",
       "mean           0.199336          0.794020                0.352159   \n",
       "std            0.400166          0.405089                0.478439   \n",
       "min            0.000000          0.000000                0.000000   \n",
       "25%            0.000000          1.000000                0.000000   \n",
       "50%            0.000000          1.000000                0.000000   \n",
       "75%            0.000000          1.000000                1.000000   \n",
       "max            1.000000          1.000000                1.000000   \n",
       "\n",
       "       Transmission_Manual  \n",
       "count           301.000000  \n",
       "mean              0.867110  \n",
       "std               0.340021  \n",
       "min               0.000000  \n",
       "25%               1.000000  \n",
       "50%               1.000000  \n",
       "75%               1.000000  \n",
       "max               1.000000  "
      ]
     },
     "execution_count": 1341,
     "metadata": {},
     "output_type": "execute_result"
    }
   ],
   "source": [
    "df.describe()"
   ]
  },
  {
   "cell_type": "code",
   "execution_count": 1342,
   "id": "a2e29fff",
   "metadata": {},
   "outputs": [],
   "source": [
    "df['current year']=max(df['Year']+1)"
   ]
  },
  {
   "cell_type": "code",
   "execution_count": 1343,
   "id": "3456da43",
   "metadata": {},
   "outputs": [],
   "source": [
    "df['age']=df['current year']-df['Year']"
   ]
  },
  {
   "cell_type": "code",
   "execution_count": 1344,
   "id": "f075cc01",
   "metadata": {},
   "outputs": [],
   "source": [
    "df.drop(['current year','Year'],axis=1,inplace=True)"
   ]
  },
  {
   "cell_type": "code",
   "execution_count": 1345,
   "id": "d609303f",
   "metadata": {
    "scrolled": true
   },
   "outputs": [
    {
     "data": {
      "text/html": [
       "<div>\n",
       "<style scoped>\n",
       "    .dataframe tbody tr th:only-of-type {\n",
       "        vertical-align: middle;\n",
       "    }\n",
       "\n",
       "    .dataframe tbody tr th {\n",
       "        vertical-align: top;\n",
       "    }\n",
       "\n",
       "    .dataframe thead th {\n",
       "        text-align: right;\n",
       "    }\n",
       "</style>\n",
       "<table border=\"1\" class=\"dataframe\">\n",
       "  <thead>\n",
       "    <tr style=\"text-align: right;\">\n",
       "      <th></th>\n",
       "      <th>Selling_Price</th>\n",
       "      <th>Present_Price</th>\n",
       "      <th>Kms_Driven</th>\n",
       "      <th>Owner</th>\n",
       "      <th>Fuel_Type_Diesel</th>\n",
       "      <th>Fuel_Type_Petrol</th>\n",
       "      <th>Seller_Type_Individual</th>\n",
       "      <th>Transmission_Manual</th>\n",
       "      <th>age</th>\n",
       "    </tr>\n",
       "  </thead>\n",
       "  <tbody>\n",
       "    <tr>\n",
       "      <th>0</th>\n",
       "      <td>3.35</td>\n",
       "      <td>5.59</td>\n",
       "      <td>27000</td>\n",
       "      <td>0</td>\n",
       "      <td>0</td>\n",
       "      <td>1</td>\n",
       "      <td>0</td>\n",
       "      <td>1</td>\n",
       "      <td>5</td>\n",
       "    </tr>\n",
       "    <tr>\n",
       "      <th>1</th>\n",
       "      <td>4.75</td>\n",
       "      <td>9.54</td>\n",
       "      <td>43000</td>\n",
       "      <td>0</td>\n",
       "      <td>1</td>\n",
       "      <td>0</td>\n",
       "      <td>0</td>\n",
       "      <td>1</td>\n",
       "      <td>6</td>\n",
       "    </tr>\n",
       "    <tr>\n",
       "      <th>2</th>\n",
       "      <td>7.25</td>\n",
       "      <td>9.85</td>\n",
       "      <td>6900</td>\n",
       "      <td>0</td>\n",
       "      <td>0</td>\n",
       "      <td>1</td>\n",
       "      <td>0</td>\n",
       "      <td>1</td>\n",
       "      <td>2</td>\n",
       "    </tr>\n",
       "    <tr>\n",
       "      <th>3</th>\n",
       "      <td>2.85</td>\n",
       "      <td>4.15</td>\n",
       "      <td>5200</td>\n",
       "      <td>0</td>\n",
       "      <td>0</td>\n",
       "      <td>1</td>\n",
       "      <td>0</td>\n",
       "      <td>1</td>\n",
       "      <td>8</td>\n",
       "    </tr>\n",
       "    <tr>\n",
       "      <th>4</th>\n",
       "      <td>4.60</td>\n",
       "      <td>6.87</td>\n",
       "      <td>42450</td>\n",
       "      <td>0</td>\n",
       "      <td>1</td>\n",
       "      <td>0</td>\n",
       "      <td>0</td>\n",
       "      <td>1</td>\n",
       "      <td>5</td>\n",
       "    </tr>\n",
       "  </tbody>\n",
       "</table>\n",
       "</div>"
      ],
      "text/plain": [
       "   Selling_Price  Present_Price  Kms_Driven  Owner  Fuel_Type_Diesel  \\\n",
       "0           3.35           5.59       27000      0                 0   \n",
       "1           4.75           9.54       43000      0                 1   \n",
       "2           7.25           9.85        6900      0                 0   \n",
       "3           2.85           4.15        5200      0                 0   \n",
       "4           4.60           6.87       42450      0                 1   \n",
       "\n",
       "   Fuel_Type_Petrol  Seller_Type_Individual  Transmission_Manual  age  \n",
       "0                 1                       0                    1    5  \n",
       "1                 0                       0                    1    6  \n",
       "2                 1                       0                    1    2  \n",
       "3                 1                       0                    1    8  \n",
       "4                 0                       0                    1    5  "
      ]
     },
     "execution_count": 1345,
     "metadata": {},
     "output_type": "execute_result"
    }
   ],
   "source": [
    "df.head(5)"
   ]
  },
  {
   "cell_type": "code",
   "execution_count": 1346,
   "id": "82caeef5",
   "metadata": {},
   "outputs": [
    {
     "data": {
      "image/png": "[encoded data removed]",
      "text/plain": [
       "<Figure size 432x288 with 1 Axes>"
      ]
     },
     "metadata": {
      "needs_background": "light"
     },
     "output_type": "display_data"
    }
   ],
   "source": [
    "plt.scatter(df['Present_Price'],df['Selling_Price'])\n",
    "\n",
    "plt.xlabel('Present_Price')\n",
    "plt.ylabel('Selling_Price')\n",
    "plt.grid()\n",
    "plt.show()"
   ]
  },
  {
   "cell_type": "code",
   "execution_count": 1347,
   "id": "d6f8ea03",
   "metadata": {},
   "outputs": [
    {
     "data": {
      "image/png": "[encoded data removed]",
      "text/plain": [
       "<Figure size 1080x360 with 9 Axes>"
      ]
     },
     "metadata": {
      "needs_background": "light"
     },
     "output_type": "display_data"
    }
   ],
   "source": [
    "df.hist(figsize=(15,5))\n",
    "plt.show()"
   ]
  },
  {
   "cell_type": "code",
   "execution_count": 1348,
   "id": "51ffe064",
   "metadata": {},
   "outputs": [
    {
     "data": {
      "image/png": "[encoded data removed]",
      "text/plain": [
       "<Figure size 432x288 with 1 Axes>"
      ]
     },
     "metadata": {
      "needs_background": "light"
     },
     "output_type": "display_data"
    }
   ],
   "source": [
    "plt.scatter(df['Kms_Driven'],df['Selling_Price'])\n",
    "\n",
    "plt.xlabel('Kms_Driven')\n",
    "plt.ylabel('Selling_Price')\n",
    "plt.grid()\n",
    "plt.show()"
   ]
  },
  {
   "cell_type": "code",
   "execution_count": 1349,
   "id": "ecca9f6c",
   "metadata": {},
   "outputs": [
    {
     "data": {
      "image/png": "[encoded data removed]",
      "text/plain": [
       "<Figure size 432x288 with 1 Axes>"
      ]
     },
     "metadata": {
      "needs_background": "light"
     },
     "output_type": "display_data"
    }
   ],
   "source": [
    "\n",
    "plt.scatter(df['Owner'],df['Selling_Price'])\n",
    "\n",
    "plt.xlabel('Owner')\n",
    "plt.ylabel('Selling_Price')\n",
    "plt.grid()\n",
    "plt.show()"
   ]
  },
  {
   "cell_type": "code",
   "execution_count": 1350,
   "id": "4f09ef86",
   "metadata": {},
   "outputs": [
    {
     "data": {
      "image/png": "[encoded data removed]",
      "text/plain": [
       "<Figure size 432x288 with 1 Axes>"
      ]
     },
     "metadata": {
      "needs_background": "light"
     },
     "output_type": "display_data"
    }
   ],
   "source": [
    "plt.scatter(df['Fuel_Type_Diesel'],df['Selling_Price'])\n",
    "\n",
    "plt.xlabel('Fuel_Type_Diesel')\n",
    "plt.ylabel('Selling_Price')\n",
    "plt.grid()\n",
    "plt.show()"
   ]
  },
  {
   "cell_type": "code",
   "execution_count": 1351,
   "id": "15c6502f",
   "metadata": {},
   "outputs": [
    {
     "data": {
      "image/png": "[encoded data removed]",
      "text/plain": [
       "<Figure size 432x288 with 1 Axes>"
      ]
     },
     "metadata": {
      "needs_background": "light"
     },
     "output_type": "display_data"
    }
   ],
   "source": [
    "plt.scatter(df['age'],df['Selling_Price'])\n",
    "\n",
    "plt.xlabel('age')\n",
    "plt.ylabel('Selling_Price')\n",
    "plt.grid()\n",
    "plt.show()"
   ]
  },
  {
   "cell_type": "code",
   "execution_count": 1352,
   "id": "1f63d976",
   "metadata": {},
   "outputs": [],
   "source": [
    "#####The target variable Selling Price is highly correlated with: Present Price -Fuel Type-Seller Type"
   ]
  },
  {
   "cell_type": "code",
   "execution_count": 1353,
   "id": "81f7faf7",
   "metadata": {},
   "outputs": [],
   "source": [
    "dfb=df ###save an unnormalized version of df"
   ]
  },
  {
   "cell_type": "code",
   "execution_count": 1354,
   "id": "565f0232",
   "metadata": {},
   "outputs": [],
   "source": [
    "####normalizing\n",
    "from sklearn import preprocessing"
   ]
  },
  {
   "cell_type": "code",
   "execution_count": 1355,
   "id": "133253b9",
   "metadata": {},
   "outputs": [],
   "source": [
    "Scaler= preprocessing.MinMaxScaler(feature_range=(0,1))\n",
    "Norm1=Scaler.fit_transform(df)\n",
    "Norm1_df=pd.DataFrame(Norm1,columns=['Selling_Price', 'Present_Price', 'Kms_Driven', 'Owner',\n",
    "       'Fuel_Type_Diesel', 'Fuel_Type_Petrol', 'Seller_Type_Individual',\n",
    "       'Transmission_Manual', 'age'])"
   ]
  },
  {
   "cell_type": "code",
   "execution_count": 1356,
   "id": "3c8c15ed",
   "metadata": {},
   "outputs": [],
   "source": [
    "dfb=Norm1_df"
   ]
  },
  {
   "cell_type": "code",
   "execution_count": 1357,
   "id": "c5bfa515",
   "metadata": {},
   "outputs": [
    {
     "data": {
      "text/html": [
       "<div>\n",
       "<style scoped>\n",
       "    .dataframe tbody tr th:only-of-type {\n",
       "        vertical-align: middle;\n",
       "    }\n",
       "\n",
       "    .dataframe tbody tr th {\n",
       "        vertical-align: top;\n",
       "    }\n",
       "\n",
       "    .dataframe thead th {\n",
       "        text-align: right;\n",
       "    }\n",
       "</style>\n",
       "<table border=\"1\" class=\"dataframe\">\n",
       "  <thead>\n",
       "    <tr style=\"text-align: right;\">\n",
       "      <th></th>\n",
       "      <th>Selling_Price</th>\n",
       "      <th>Present_Price</th>\n",
       "      <th>Kms_Driven</th>\n",
       "      <th>Owner</th>\n",
       "      <th>Fuel_Type_Diesel</th>\n",
       "      <th>Fuel_Type_Petrol</th>\n",
       "      <th>Seller_Type_Individual</th>\n",
       "      <th>Transmission_Manual</th>\n",
       "      <th>age</th>\n",
       "    </tr>\n",
       "  </thead>\n",
       "  <tbody>\n",
       "    <tr>\n",
       "      <th>0</th>\n",
       "      <td>0.093123</td>\n",
       "      <td>0.057109</td>\n",
       "      <td>0.053053</td>\n",
       "      <td>0.0</td>\n",
       "      <td>0.0</td>\n",
       "      <td>1.0</td>\n",
       "      <td>0.0</td>\n",
       "      <td>1.0</td>\n",
       "      <td>0.266667</td>\n",
       "    </tr>\n",
       "    <tr>\n",
       "      <th>1</th>\n",
       "      <td>0.133238</td>\n",
       "      <td>0.099913</td>\n",
       "      <td>0.085085</td>\n",
       "      <td>0.0</td>\n",
       "      <td>1.0</td>\n",
       "      <td>0.0</td>\n",
       "      <td>0.0</td>\n",
       "      <td>1.0</td>\n",
       "      <td>0.333333</td>\n",
       "    </tr>\n",
       "    <tr>\n",
       "      <th>2</th>\n",
       "      <td>0.204871</td>\n",
       "      <td>0.103273</td>\n",
       "      <td>0.012813</td>\n",
       "      <td>0.0</td>\n",
       "      <td>0.0</td>\n",
       "      <td>1.0</td>\n",
       "      <td>0.0</td>\n",
       "      <td>1.0</td>\n",
       "      <td>0.066667</td>\n",
       "    </tr>\n",
       "    <tr>\n",
       "      <th>3</th>\n",
       "      <td>0.078797</td>\n",
       "      <td>0.041504</td>\n",
       "      <td>0.009409</td>\n",
       "      <td>0.0</td>\n",
       "      <td>0.0</td>\n",
       "      <td>1.0</td>\n",
       "      <td>0.0</td>\n",
       "      <td>1.0</td>\n",
       "      <td>0.466667</td>\n",
       "    </tr>\n",
       "    <tr>\n",
       "      <th>4</th>\n",
       "      <td>0.128940</td>\n",
       "      <td>0.070980</td>\n",
       "      <td>0.083984</td>\n",
       "      <td>0.0</td>\n",
       "      <td>1.0</td>\n",
       "      <td>0.0</td>\n",
       "      <td>0.0</td>\n",
       "      <td>1.0</td>\n",
       "      <td>0.266667</td>\n",
       "    </tr>\n",
       "  </tbody>\n",
       "</table>\n",
       "</div>"
      ],
      "text/plain": [
       "   Selling_Price  Present_Price  Kms_Driven  Owner  Fuel_Type_Diesel  \\\n",
       "0       0.093123       0.057109    0.053053    0.0               0.0   \n",
       "1       0.133238       0.099913    0.085085    0.0               1.0   \n",
       "2       0.204871       0.103273    0.012813    0.0               0.0   \n",
       "3       0.078797       0.041504    0.009409    0.0               0.0   \n",
       "4       0.128940       0.070980    0.083984    0.0               1.0   \n",
       "\n",
       "   Fuel_Type_Petrol  Seller_Type_Individual  Transmission_Manual       age  \n",
       "0               1.0                     0.0                  1.0  0.266667  \n",
       "1               0.0                     0.0                  1.0  0.333333  \n",
       "2               1.0                     0.0                  1.0  0.066667  \n",
       "3               1.0                     0.0                  1.0  0.466667  \n",
       "4               0.0                     0.0                  1.0  0.266667  "
      ]
     },
     "execution_count": 1357,
     "metadata": {},
     "output_type": "execute_result"
    }
   ],
   "source": [
    "dfb.head()"
   ]
  },
  {
   "cell_type": "code",
   "execution_count": 1358,
   "id": "e16e8c2b",
   "metadata": {},
   "outputs": [],
   "source": [
    "#1=Scaler.inverse_transform(dfb)\n",
    "#1_df=pd.DataFrame(m1,columns=['Selling_Price', 'Present_Price', 'Kms_Driven', 'Owner',\n",
    "  #    'Fuel_Type_Diesel', 'Fuel_Type_Petrol', 'Seller_Type_Individual',\n",
    "   #   'Transmission_Manual', 'age'])\n",
    "#1_df"
   ]
  },
  {
   "cell_type": "code",
   "execution_count": 1359,
   "id": "0cedf9d7",
   "metadata": {},
   "outputs": [
    {
     "data": {
      "text/plain": [
       "array([[1.        , 0.87898255],\n",
       "       [0.87898255, 1.        ]])"
      ]
     },
     "execution_count": 1359,
     "metadata": {},
     "output_type": "execute_result"
    }
   ],
   "source": [
    "#### Correlation\n",
    "comp1= np.corrcoef(dfb.Present_Price , dfb.Selling_Price)\n",
    "comp1"
   ]
  },
  {
   "cell_type": "code",
   "execution_count": 1360,
   "id": "fff56df6",
   "metadata": {},
   "outputs": [
    {
     "data": {
      "text/plain": [
       "array([[1.        , 0.02918709],\n",
       "       [0.02918709, 1.        ]])"
      ]
     },
     "execution_count": 1360,
     "metadata": {},
     "output_type": "execute_result"
    }
   ],
   "source": [
    "comp2= np.corrcoef(dfb.Kms_Driven , dfb.Selling_Price)\n",
    "comp2"
   ]
  },
  {
   "cell_type": "code",
   "execution_count": 1361,
   "id": "c99a5255",
   "metadata": {},
   "outputs": [
    {
     "data": {
      "text/plain": [
       "array([[ 1.       , -0.0883441],\n",
       "       [-0.0883441,  1.       ]])"
      ]
     },
     "execution_count": 1361,
     "metadata": {},
     "output_type": "execute_result"
    }
   ],
   "source": [
    "comp3= np.corrcoef(dfb.Owner , dfb.Selling_Price)\n",
    "comp3"
   ]
  },
  {
   "cell_type": "code",
   "execution_count": 1362,
   "id": "d67b620a",
   "metadata": {},
   "outputs": [
    {
     "data": {
      "text/plain": [
       "array([[1.        , 0.55233929],\n",
       "       [0.55233929, 1.        ]])"
      ]
     },
     "execution_count": 1362,
     "metadata": {},
     "output_type": "execute_result"
    }
   ],
   "source": [
    "comp4= np.corrcoef(dfb.Fuel_Type_Diesel , dfb.Selling_Price)\n",
    "comp4"
   ]
  },
  {
   "cell_type": "code",
   "execution_count": 1363,
   "id": "70f39e07",
   "metadata": {},
   "outputs": [
    {
     "data": {
      "text/plain": [
       "array([[ 1.        , -0.54057108],\n",
       "       [-0.54057108,  1.        ]])"
      ]
     },
     "execution_count": 1363,
     "metadata": {},
     "output_type": "execute_result"
    }
   ],
   "source": [
    "comp5= np.corrcoef(dfb.Fuel_Type_Petrol , dfb.Selling_Price)\n",
    "comp5"
   ]
  },
  {
   "cell_type": "code",
   "execution_count": 1364,
   "id": "99a92625",
   "metadata": {},
   "outputs": [
    {
     "data": {
      "text/plain": [
       "array([[ 1.        , -0.55072376],\n",
       "       [-0.55072376,  1.        ]])"
      ]
     },
     "execution_count": 1364,
     "metadata": {},
     "output_type": "execute_result"
    }
   ],
   "source": [
    "comp6= np.corrcoef(dfb.Seller_Type_Individual , dfb.Selling_Price)\n",
    "comp6"
   ]
  },
  {
   "cell_type": "code",
   "execution_count": 1365,
   "id": "06acab77",
   "metadata": {},
   "outputs": [
    {
     "data": {
      "text/plain": [
       "array([[ 1.        , -0.36712763],\n",
       "       [-0.36712763,  1.        ]])"
      ]
     },
     "execution_count": 1365,
     "metadata": {},
     "output_type": "execute_result"
    }
   ],
   "source": [
    "comp7= np.corrcoef(dfb.Transmission_Manual , dfb.Selling_Price)\n",
    "comp7"
   ]
  },
  {
   "cell_type": "code",
   "execution_count": 1366,
   "id": "58423729",
   "metadata": {},
   "outputs": [
    {
     "data": {
      "text/plain": [
       "array([[ 1.        , -0.23614098],\n",
       "       [-0.23614098,  1.        ]])"
      ]
     },
     "execution_count": 1366,
     "metadata": {},
     "output_type": "execute_result"
    }
   ],
   "source": [
    "comp8= np.corrcoef(dfb.age, dfb.Selling_Price)\n",
    "comp8"
   ]
  },
  {
   "cell_type": "code",
   "execution_count": 1367,
   "id": "816a1f55",
   "metadata": {},
   "outputs": [],
   "source": [
    "#####The target variable Selling Price is highly correlated with: Present Price -Fuel Type-Seller Type"
   ]
  },
  {
   "cell_type": "code",
   "execution_count": 1368,
   "id": "4283f948",
   "metadata": {},
   "outputs": [
    {
     "data": {
      "text/plain": [
       "<AxesSubplot:>"
      ]
     },
     "execution_count": 1368,
     "metadata": {},
     "output_type": "execute_result"
    },
    {
     "data": {
      "image/png": "[encoded data removed]",
      "text/plain": [
       "<Figure size 432x288 with 2 Axes>"
      ]
     },
     "metadata": {
      "needs_background": "light"
     },
     "output_type": "display_data"
    }
   ],
   "source": [
    "sns.heatmap(dfb.corr(), annot=True)"
   ]
  },
  {
   "cell_type": "code",
   "execution_count": 1369,
   "id": "3bab5c2f",
   "metadata": {},
   "outputs": [],
   "source": [
    "   #########building model\n",
    "\n",
    "X = dfb.drop(['Selling_Price'],axis=1)\n",
    "y=dfb['Selling_Price'].values.reshape(-1,1)"
   ]
  },
  {
   "cell_type": "code",
   "execution_count": 1370,
   "id": "bfc7f61f",
   "metadata": {},
   "outputs": [],
   "source": [
    "X_train , X_test , y_train , y_test=train_test_split(X,y,test_size=0.2 , random_state=0)"
   ]
  },
  {
   "cell_type": "code",
   "execution_count": 1371,
   "id": "2956815d",
   "metadata": {},
   "outputs": [
    {
     "data": {
      "text/plain": [
       "LinearRegression()"
      ]
     },
     "execution_count": 1371,
     "metadata": {},
     "output_type": "execute_result"
    }
   ],
   "source": [
    "regressor=LinearRegression()\n",
    "regressor.fit(X_train , y_train)"
   ]
  },
  {
   "cell_type": "code",
   "execution_count": 1372,
   "id": "869d0be5",
   "metadata": {},
   "outputs": [],
   "source": [
    "y_pred= regressor.predict(X_test)"
   ]
  },
  {
   "cell_type": "code",
   "execution_count": 1373,
   "id": "612de5da",
   "metadata": {
    "scrolled": true
   },
   "outputs": [
    {
     "name": "stdout",
     "output_type": "stream",
     "text": [
      "[0.11494123]\n",
      "[[ 1.12766502 -0.08793875 -0.08110965  0.07142358  0.01672179 -0.03269047\n",
      "  -0.04113497 -0.16466823]]\n"
     ]
    }
   ],
   "source": [
    "print(regressor.intercept_)\n",
    "print(regressor.coef_)"
   ]
  },
  {
   "cell_type": "code",
   "execution_count": 1374,
   "id": "11214415",
   "metadata": {
    "scrolled": true
   },
   "outputs": [
    {
     "data": {
      "text/html": [
       "<div>\n",
       "<style scoped>\n",
       "    .dataframe tbody tr th:only-of-type {\n",
       "        vertical-align: middle;\n",
       "    }\n",
       "\n",
       "    .dataframe tbody tr th {\n",
       "        vertical-align: top;\n",
       "    }\n",
       "\n",
       "    .dataframe thead th {\n",
       "        text-align: right;\n",
       "    }\n",
       "</style>\n",
       "<table border=\"1\" class=\"dataframe\">\n",
       "  <thead>\n",
       "    <tr style=\"text-align: right;\">\n",
       "      <th></th>\n",
       "      <th>Present_Price</th>\n",
       "      <th>Kms_Driven</th>\n",
       "      <th>Owner</th>\n",
       "      <th>Fuel_Type_Diesel</th>\n",
       "      <th>Fuel_Type_Petrol</th>\n",
       "      <th>Seller_Type_Individual</th>\n",
       "      <th>Transmission_Manual</th>\n",
       "      <th>age</th>\n",
       "    </tr>\n",
       "  </thead>\n",
       "  <tbody>\n",
       "    <tr>\n",
       "      <th>223</th>\n",
       "      <td>0.098396</td>\n",
       "      <td>0.121884</td>\n",
       "      <td>0.000000</td>\n",
       "      <td>1.0</td>\n",
       "      <td>0.0</td>\n",
       "      <td>0.0</td>\n",
       "      <td>1.0</td>\n",
       "      <td>0.200000</td>\n",
       "    </tr>\n",
       "    <tr>\n",
       "      <th>150</th>\n",
       "      <td>0.005483</td>\n",
       "      <td>0.011011</td>\n",
       "      <td>0.000000</td>\n",
       "      <td>0.0</td>\n",
       "      <td>1.0</td>\n",
       "      <td>1.0</td>\n",
       "      <td>1.0</td>\n",
       "      <td>0.466667</td>\n",
       "    </tr>\n",
       "    <tr>\n",
       "      <th>226</th>\n",
       "      <td>0.058301</td>\n",
       "      <td>0.048404</td>\n",
       "      <td>0.000000</td>\n",
       "      <td>0.0</td>\n",
       "      <td>1.0</td>\n",
       "      <td>0.0</td>\n",
       "      <td>1.0</td>\n",
       "      <td>0.200000</td>\n",
       "    </tr>\n",
       "    <tr>\n",
       "      <th>296</th>\n",
       "      <td>0.122237</td>\n",
       "      <td>0.067043</td>\n",
       "      <td>0.000000</td>\n",
       "      <td>1.0</td>\n",
       "      <td>0.0</td>\n",
       "      <td>0.0</td>\n",
       "      <td>1.0</td>\n",
       "      <td>0.133333</td>\n",
       "    </tr>\n",
       "    <tr>\n",
       "      <th>52</th>\n",
       "      <td>0.210772</td>\n",
       "      <td>0.029029</td>\n",
       "      <td>0.000000</td>\n",
       "      <td>1.0</td>\n",
       "      <td>0.0</td>\n",
       "      <td>0.0</td>\n",
       "      <td>0.0</td>\n",
       "      <td>0.066667</td>\n",
       "    </tr>\n",
       "    <tr>\n",
       "      <th>...</th>\n",
       "      <td>...</td>\n",
       "      <td>...</td>\n",
       "      <td>...</td>\n",
       "      <td>...</td>\n",
       "      <td>...</td>\n",
       "      <td>...</td>\n",
       "      <td>...</td>\n",
       "      <td>...</td>\n",
       "    </tr>\n",
       "    <tr>\n",
       "      <th>137</th>\n",
       "      <td>0.005061</td>\n",
       "      <td>0.031031</td>\n",
       "      <td>0.000000</td>\n",
       "      <td>0.0</td>\n",
       "      <td>1.0</td>\n",
       "      <td>1.0</td>\n",
       "      <td>1.0</td>\n",
       "      <td>0.333333</td>\n",
       "    </tr>\n",
       "    <tr>\n",
       "      <th>227</th>\n",
       "      <td>0.044538</td>\n",
       "      <td>0.113113</td>\n",
       "      <td>0.000000</td>\n",
       "      <td>0.0</td>\n",
       "      <td>1.0</td>\n",
       "      <td>0.0</td>\n",
       "      <td>1.0</td>\n",
       "      <td>0.466667</td>\n",
       "    </tr>\n",
       "    <tr>\n",
       "      <th>26</th>\n",
       "      <td>0.060143</td>\n",
       "      <td>0.109385</td>\n",
       "      <td>0.000000</td>\n",
       "      <td>0.0</td>\n",
       "      <td>1.0</td>\n",
       "      <td>0.0</td>\n",
       "      <td>1.0</td>\n",
       "      <td>0.333333</td>\n",
       "    </tr>\n",
       "    <tr>\n",
       "      <th>106</th>\n",
       "      <td>0.033919</td>\n",
       "      <td>0.032032</td>\n",
       "      <td>0.333333</td>\n",
       "      <td>0.0</td>\n",
       "      <td>1.0</td>\n",
       "      <td>1.0</td>\n",
       "      <td>1.0</td>\n",
       "      <td>0.266667</td>\n",
       "    </tr>\n",
       "    <tr>\n",
       "      <th>92</th>\n",
       "      <td>0.144993</td>\n",
       "      <td>0.149149</td>\n",
       "      <td>0.000000</td>\n",
       "      <td>0.0</td>\n",
       "      <td>1.0</td>\n",
       "      <td>0.0</td>\n",
       "      <td>1.0</td>\n",
       "      <td>0.866667</td>\n",
       "    </tr>\n",
       "  </tbody>\n",
       "</table>\n",
       "<p>61 rows × 8 columns</p>\n",
       "</div>"
      ],
      "text/plain": [
       "     Present_Price  Kms_Driven     Owner  Fuel_Type_Diesel  Fuel_Type_Petrol  \\\n",
       "223       0.098396    0.121884  0.000000               1.0               0.0   \n",
       "150       0.005483    0.011011  0.000000               0.0               1.0   \n",
       "226       0.058301    0.048404  0.000000               0.0               1.0   \n",
       "296       0.122237    0.067043  0.000000               1.0               0.0   \n",
       "52        0.210772    0.029029  0.000000               1.0               0.0   \n",
       "..             ...         ...       ...               ...               ...   \n",
       "137       0.005061    0.031031  0.000000               0.0               1.0   \n",
       "227       0.044538    0.113113  0.000000               0.0               1.0   \n",
       "26        0.060143    0.109385  0.000000               0.0               1.0   \n",
       "106       0.033919    0.032032  0.333333               0.0               1.0   \n",
       "92        0.144993    0.149149  0.000000               0.0               1.0   \n",
       "\n",
       "     Seller_Type_Individual  Transmission_Manual       age  \n",
       "223                     0.0                  1.0  0.200000  \n",
       "150                     1.0                  1.0  0.466667  \n",
       "226                     0.0                  1.0  0.200000  \n",
       "296                     0.0                  1.0  0.133333  \n",
       "52                      0.0                  0.0  0.066667  \n",
       "..                      ...                  ...       ...  \n",
       "137                     1.0                  1.0  0.333333  \n",
       "227                     0.0                  1.0  0.466667  \n",
       "26                      0.0                  1.0  0.333333  \n",
       "106                     1.0                  1.0  0.266667  \n",
       "92                      0.0                  1.0  0.866667  \n",
       "\n",
       "[61 rows x 8 columns]"
      ]
     },
     "execution_count": 1374,
     "metadata": {},
     "output_type": "execute_result"
    }
   ],
   "source": [
    "X_test"
   ]
  },
  {
   "cell_type": "code",
   "execution_count": 1375,
   "id": "188eaae7",
   "metadata": {},
   "outputs": [
    {
     "data": {
      "text/html": [
       "<div>\n",
       "<style scoped>\n",
       "    .dataframe tbody tr th:only-of-type {\n",
       "        vertical-align: middle;\n",
       "    }\n",
       "\n",
       "    .dataframe tbody tr th {\n",
       "        vertical-align: top;\n",
       "    }\n",
       "\n",
       "    .dataframe thead th {\n",
       "        text-align: right;\n",
       "    }\n",
       "</style>\n",
       "<table border=\"1\" class=\"dataframe\">\n",
       "  <thead>\n",
       "    <tr style=\"text-align: right;\">\n",
       "      <th></th>\n",
       "      <th>Present_Price</th>\n",
       "      <th>Kms_Driven</th>\n",
       "      <th>Owner</th>\n",
       "      <th>Fuel_Type_Diesel</th>\n",
       "      <th>Fuel_Type_Petrol</th>\n",
       "      <th>Seller_Type_Individual</th>\n",
       "      <th>Transmission_Manual</th>\n",
       "      <th>age</th>\n",
       "      <th>y_test</th>\n",
       "      <th>y_pred</th>\n",
       "    </tr>\n",
       "  </thead>\n",
       "  <tbody>\n",
       "    <tr>\n",
       "      <th>223</th>\n",
       "      <td>0.098396</td>\n",
       "      <td>0.121884</td>\n",
       "      <td>0.000000</td>\n",
       "      <td>1.0</td>\n",
       "      <td>0.0</td>\n",
       "      <td>0.0</td>\n",
       "      <td>1.0</td>\n",
       "      <td>0.200000</td>\n",
       "      <td>0.233524</td>\n",
       "      <td>0.212536</td>\n",
       "    </tr>\n",
       "    <tr>\n",
       "      <th>150</th>\n",
       "      <td>0.005483</td>\n",
       "      <td>0.011011</td>\n",
       "      <td>0.000000</td>\n",
       "      <td>0.0</td>\n",
       "      <td>1.0</td>\n",
       "      <td>1.0</td>\n",
       "      <td>1.0</td>\n",
       "      <td>0.466667</td>\n",
       "      <td>0.011461</td>\n",
       "      <td>-0.013793</td>\n",
       "    </tr>\n",
       "    <tr>\n",
       "      <th>226</th>\n",
       "      <td>0.058301</td>\n",
       "      <td>0.048404</td>\n",
       "      <td>0.000000</td>\n",
       "      <td>0.0</td>\n",
       "      <td>1.0</td>\n",
       "      <td>0.0</td>\n",
       "      <td>1.0</td>\n",
       "      <td>0.200000</td>\n",
       "      <td>0.147564</td>\n",
       "      <td>0.119082</td>\n",
       "    </tr>\n",
       "    <tr>\n",
       "      <th>296</th>\n",
       "      <td>0.122237</td>\n",
       "      <td>0.067043</td>\n",
       "      <td>0.000000</td>\n",
       "      <td>1.0</td>\n",
       "      <td>0.0</td>\n",
       "      <td>0.0</td>\n",
       "      <td>1.0</td>\n",
       "      <td>0.133333</td>\n",
       "      <td>0.269341</td>\n",
       "      <td>0.255220</td>\n",
       "    </tr>\n",
       "    <tr>\n",
       "      <th>52</th>\n",
       "      <td>0.210772</td>\n",
       "      <td>0.029029</td>\n",
       "      <td>0.000000</td>\n",
       "      <td>1.0</td>\n",
       "      <td>0.0</td>\n",
       "      <td>0.0</td>\n",
       "      <td>0.0</td>\n",
       "      <td>0.066667</td>\n",
       "      <td>0.512894</td>\n",
       "      <td>0.410514</td>\n",
       "    </tr>\n",
       "    <tr>\n",
       "      <th>...</th>\n",
       "      <td>...</td>\n",
       "      <td>...</td>\n",
       "      <td>...</td>\n",
       "      <td>...</td>\n",
       "      <td>...</td>\n",
       "      <td>...</td>\n",
       "      <td>...</td>\n",
       "      <td>...</td>\n",
       "      <td>...</td>\n",
       "      <td>...</td>\n",
       "    </tr>\n",
       "    <tr>\n",
       "      <th>137</th>\n",
       "      <td>0.005061</td>\n",
       "      <td>0.031031</td>\n",
       "      <td>0.000000</td>\n",
       "      <td>0.0</td>\n",
       "      <td>1.0</td>\n",
       "      <td>1.0</td>\n",
       "      <td>1.0</td>\n",
       "      <td>0.333333</td>\n",
       "      <td>0.015759</td>\n",
       "      <td>0.005926</td>\n",
       "    </tr>\n",
       "    <tr>\n",
       "      <th>227</th>\n",
       "      <td>0.044538</td>\n",
       "      <td>0.113113</td>\n",
       "      <td>0.000000</td>\n",
       "      <td>0.0</td>\n",
       "      <td>1.0</td>\n",
       "      <td>0.0</td>\n",
       "      <td>1.0</td>\n",
       "      <td>0.466667</td>\n",
       "      <td>0.070201</td>\n",
       "      <td>0.053960</td>\n",
       "    </tr>\n",
       "    <tr>\n",
       "      <th>26</th>\n",
       "      <td>0.060143</td>\n",
       "      <td>0.109385</td>\n",
       "      <td>0.000000</td>\n",
       "      <td>0.0</td>\n",
       "      <td>1.0</td>\n",
       "      <td>0.0</td>\n",
       "      <td>1.0</td>\n",
       "      <td>0.333333</td>\n",
       "      <td>0.116046</td>\n",
       "      <td>0.093841</td>\n",
       "    </tr>\n",
       "    <tr>\n",
       "      <th>106</th>\n",
       "      <td>0.033919</td>\n",
       "      <td>0.032032</td>\n",
       "      <td>0.333333</td>\n",
       "      <td>0.0</td>\n",
       "      <td>1.0</td>\n",
       "      <td>1.0</td>\n",
       "      <td>1.0</td>\n",
       "      <td>0.266667</td>\n",
       "      <td>0.035817</td>\n",
       "      <td>0.022321</td>\n",
       "    </tr>\n",
       "    <tr>\n",
       "      <th>92</th>\n",
       "      <td>0.144993</td>\n",
       "      <td>0.149149</td>\n",
       "      <td>0.000000</td>\n",
       "      <td>0.0</td>\n",
       "      <td>1.0</td>\n",
       "      <td>0.0</td>\n",
       "      <td>1.0</td>\n",
       "      <td>0.866667</td>\n",
       "      <td>0.097708</td>\n",
       "      <td>0.098204</td>\n",
       "    </tr>\n",
       "  </tbody>\n",
       "</table>\n",
       "<p>61 rows × 10 columns</p>\n",
       "</div>"
      ],
      "text/plain": [
       "     Present_Price  Kms_Driven     Owner  Fuel_Type_Diesel  Fuel_Type_Petrol  \\\n",
       "223       0.098396    0.121884  0.000000               1.0               0.0   \n",
       "150       0.005483    0.011011  0.000000               0.0               1.0   \n",
       "226       0.058301    0.048404  0.000000               0.0               1.0   \n",
       "296       0.122237    0.067043  0.000000               1.0               0.0   \n",
       "52        0.210772    0.029029  0.000000               1.0               0.0   \n",
       "..             ...         ...       ...               ...               ...   \n",
       "137       0.005061    0.031031  0.000000               0.0               1.0   \n",
       "227       0.044538    0.113113  0.000000               0.0               1.0   \n",
       "26        0.060143    0.109385  0.000000               0.0               1.0   \n",
       "106       0.033919    0.032032  0.333333               0.0               1.0   \n",
       "92        0.144993    0.149149  0.000000               0.0               1.0   \n",
       "\n",
       "     Seller_Type_Individual  Transmission_Manual       age    y_test    y_pred  \n",
       "223                     0.0                  1.0  0.200000  0.233524  0.212536  \n",
       "150                     1.0                  1.0  0.466667  0.011461 -0.013793  \n",
       "226                     0.0                  1.0  0.200000  0.147564  0.119082  \n",
       "296                     0.0                  1.0  0.133333  0.269341  0.255220  \n",
       "52                      0.0                  0.0  0.066667  0.512894  0.410514  \n",
       "..                      ...                  ...       ...       ...       ...  \n",
       "137                     1.0                  1.0  0.333333  0.015759  0.005926  \n",
       "227                     0.0                  1.0  0.466667  0.070201  0.053960  \n",
       "26                      0.0                  1.0  0.333333  0.116046  0.093841  \n",
       "106                     1.0                  1.0  0.266667  0.035817  0.022321  \n",
       "92                      0.0                  1.0  0.866667  0.097708  0.098204  \n",
       "\n",
       "[61 rows x 10 columns]"
      ]
     },
     "execution_count": 1375,
     "metadata": {},
     "output_type": "execute_result"
    }
   ],
   "source": [
    "X_test.insert(8,\"y_test\",y_test)\n",
    "X_test.insert(9,\"y_pred\",y_pred)\n",
    "X_test"
   ]
  },
  {
   "cell_type": "code",
   "execution_count": 1376,
   "id": "441559ee",
   "metadata": {},
   "outputs": [],
   "source": [
    "df3=X_test.sort_values(by=['age'])"
   ]
  },
  {
   "cell_type": "code",
   "execution_count": 1377,
   "id": "b8a51e3f",
   "metadata": {},
   "outputs": [
    {
     "data": {
      "image/png": "[encoded data removed]",
      "text/plain": [
       "<Figure size 432x288 with 1 Axes>"
      ]
     },
     "metadata": {
      "needs_background": "light"
     },
     "output_type": "display_data"
    }
   ],
   "source": [
    "a=df3.age\n",
    "b=df3.y_test\n",
    "c=df3.age\n",
    "d=df3.y_pred\n",
    "plt.xlabel(\"age\")\n",
    "plt.ylabel(\"sell price\")\n",
    "plt.scatter(a,b)\n",
    "plt.plot(c,d,color='red')\n",
    "plt.show()"
   ]
  },
  {
   "cell_type": "code",
   "execution_count": 1378,
   "id": "ac414816",
   "metadata": {},
   "outputs": [],
   "source": [
    "df3=X_test.sort_values(by=['Present_Price'])"
   ]
  },
  {
   "cell_type": "code",
   "execution_count": 1379,
   "id": "4db53eba",
   "metadata": {},
   "outputs": [
    {
     "data": {
      "image/png": "[encoded data removed]",
      "text/plain": [
       "<Figure size 432x288 with 1 Axes>"
      ]
     },
     "metadata": {
      "needs_background": "light"
     },
     "output_type": "display_data"
    }
   ],
   "source": [
    "a=df3.Present_Price\n",
    "b=df3.y_test\n",
    "c=df3.Present_Price\n",
    "d=df3.y_pred\n",
    "plt.xlabel(\"Present_Price\")\n",
    "plt.ylabel(\"sell price\")\n",
    "plt.scatter(a,b)\n",
    "plt.scatter(c,d,color='red')\n",
    "plt.show()"
   ]
  },
  {
   "cell_type": "code",
   "execution_count": 1380,
   "id": "63dfc435",
   "metadata": {},
   "outputs": [
    {
     "data": {
      "text/html": [
       "<div>\n",
       "<style scoped>\n",
       "    .dataframe tbody tr th:only-of-type {\n",
       "        vertical-align: middle;\n",
       "    }\n",
       "\n",
       "    .dataframe tbody tr th {\n",
       "        vertical-align: top;\n",
       "    }\n",
       "\n",
       "    .dataframe thead th {\n",
       "        text-align: right;\n",
       "    }\n",
       "</style>\n",
       "<table border=\"1\" class=\"dataframe\">\n",
       "  <thead>\n",
       "    <tr style=\"text-align: right;\">\n",
       "      <th></th>\n",
       "      <th>Actual</th>\n",
       "      <th>predicted</th>\n",
       "    </tr>\n",
       "  </thead>\n",
       "  <tbody>\n",
       "    <tr>\n",
       "      <th>0</th>\n",
       "      <td>0.233524</td>\n",
       "      <td>0.212536</td>\n",
       "    </tr>\n",
       "    <tr>\n",
       "      <th>1</th>\n",
       "      <td>0.011461</td>\n",
       "      <td>-0.013793</td>\n",
       "    </tr>\n",
       "    <tr>\n",
       "      <th>2</th>\n",
       "      <td>0.147564</td>\n",
       "      <td>0.119082</td>\n",
       "    </tr>\n",
       "    <tr>\n",
       "      <th>3</th>\n",
       "      <td>0.269341</td>\n",
       "      <td>0.255220</td>\n",
       "    </tr>\n",
       "    <tr>\n",
       "      <th>4</th>\n",
       "      <td>0.512894</td>\n",
       "      <td>0.410514</td>\n",
       "    </tr>\n",
       "    <tr>\n",
       "      <th>...</th>\n",
       "      <td>...</td>\n",
       "      <td>...</td>\n",
       "    </tr>\n",
       "    <tr>\n",
       "      <th>56</th>\n",
       "      <td>0.015759</td>\n",
       "      <td>0.005926</td>\n",
       "    </tr>\n",
       "    <tr>\n",
       "      <th>57</th>\n",
       "      <td>0.070201</td>\n",
       "      <td>0.053960</td>\n",
       "    </tr>\n",
       "    <tr>\n",
       "      <th>58</th>\n",
       "      <td>0.116046</td>\n",
       "      <td>0.093841</td>\n",
       "    </tr>\n",
       "    <tr>\n",
       "      <th>59</th>\n",
       "      <td>0.035817</td>\n",
       "      <td>0.022321</td>\n",
       "    </tr>\n",
       "    <tr>\n",
       "      <th>60</th>\n",
       "      <td>0.097708</td>\n",
       "      <td>0.098204</td>\n",
       "    </tr>\n",
       "  </tbody>\n",
       "</table>\n",
       "<p>61 rows × 2 columns</p>\n",
       "</div>"
      ],
      "text/plain": [
       "      Actual  predicted\n",
       "0   0.233524   0.212536\n",
       "1   0.011461  -0.013793\n",
       "2   0.147564   0.119082\n",
       "3   0.269341   0.255220\n",
       "4   0.512894   0.410514\n",
       "..       ...        ...\n",
       "56  0.015759   0.005926\n",
       "57  0.070201   0.053960\n",
       "58  0.116046   0.093841\n",
       "59  0.035817   0.022321\n",
       "60  0.097708   0.098204\n",
       "\n",
       "[61 rows x 2 columns]"
      ]
     },
     "execution_count": 1380,
     "metadata": {},
     "output_type": "execute_result"
    }
   ],
   "source": [
    "    #####comparing the actual and predicted\n",
    "Compare = pd.DataFrame({'Actual':y_test.flatten(),'predicted':y_pred.flatten()})\n",
    "Compare"
   ]
  },
  {
   "cell_type": "code",
   "execution_count": 1381,
   "id": "80873138",
   "metadata": {
    "scrolled": true
   },
   "outputs": [
    {
     "data": {
      "text/plain": [
       "Text(0, 0.5, 'prediction')"
      ]
     },
     "execution_count": 1381,
     "metadata": {},
     "output_type": "execute_result"
    },
    {
     "data": {
      "image/png": "[encoded data removed]",
      "text/plain": [
       "<Figure size 432x288 with 1 Axes>"
      ]
     },
     "metadata": {
      "needs_background": "light"
     },
     "output_type": "display_data"
    }
   ],
   "source": [
    "#####comparing the actual and predicted by a plot\n",
    "plt.scatter(y_test,y_pred)\n",
    "plt.grid()\n",
    "plt.xlabel(\"Test\")\n",
    "plt.ylabel(\"prediction\")"
   ]
  },
  {
   "cell_type": "code",
   "execution_count": 1382,
   "id": "07bbf2c9",
   "metadata": {},
   "outputs": [
    {
     "name": "stdout",
     "output_type": "stream",
     "text": [
      "Mean Absolute Error: 0.02847493807086095\n",
      "Mean Squared Error: 0.001775742011795965\n",
      "Root Mean Squared Error: 0.04213955400566035\n",
      "r2_score: 0.9144342972228514\n"
     ]
    }
   ],
   "source": [
    "#### using metrics \n",
    "print('Mean Absolute Error:', metrics.mean_absolute_error(y_test, y_pred))  \n",
    "print('Mean Squared Error:', metrics.mean_squared_error(y_test, y_pred))  \n",
    "print('Root Mean Squared Error:', np.sqrt(metrics.mean_squared_error(y_test, y_pred)))\n",
    "print('r2_score:', metrics.r2_score(y_test,y_pred))"
   ]
  },
  {
   "cell_type": "code",
   "execution_count": 1383,
   "id": "f18b74d9",
   "metadata": {},
   "outputs": [
    {
     "name": "stdout",
     "output_type": "stream",
     "text": [
      "please press 1 to continue:1\n",
      "Enter Present_Price: 1\n",
      "Enter Kms_Driven: 1\n",
      "Enter Owner: 1\n",
      "Enter Fuel_Type_Diesel: 1\n",
      "Enter Fuel_Type_Petrol: 1\n",
      "Enter Seller_Type_Individual: 1\n",
      "Enter Transmission_Manual: 1\n",
      "Enter age: 1\n",
      "  Selling_Price  Present_Price  Kms_Driven  Owner  Fuel_Type_Diesel  \\\n",
      "0           NaN            1.0         1.0    1.0               1.0   \n",
      "\n",
      "   Fuel_Type_Petrol  Seller_Type_Individual  Transmission_Manual  age  \n",
      "0               1.0                     1.0                  1.0  1.0  \n"
     ]
    }
   ],
   "source": [
    "### creating a DataFrame from user inputs\n",
    "ddf = pd.DataFrame(columns=['Selling_Price', 'Present_Price', 'Kms_Driven', 'Owner',\n",
    "       'Fuel_Type_Diesel', 'Fuel_Type_Petrol', 'Seller_Type_Individual',\n",
    "       'Transmission_Manual', 'age'])\n",
    "entry = int(input(\"please press 1 to continue:\"))\n",
    "\n",
    "for _ in range(entry):\n",
    "    P=float(input(\"Enter Present_Price: \"))\n",
    "    K=float(input(\"Enter Kms_Driven: \"))\n",
    "    O=float(input(\"Enter Owner: \"))\n",
    "    Diesel=float(input(\"Enter Fuel_Type_Diesel: \"))\n",
    "    Petrol=float(input(\"Enter Fuel_Type_Petrol: \"))\n",
    "    S=float(input(\"Enter Seller_Type_Individual: \"))\n",
    "    T=float(input(\"Enter Transmission_Manual: \"))\n",
    "    g=float(input(\"Enter age: \"))\n",
    "\n",
    "         \n",
    "    df1 = pd.DataFrame(data=[[P,K, O , Diesel , Petrol,\n",
    "S ,T , g]],columns=[ 'Present_Price', 'Kms_Driven', 'Owner',\n",
    "       'Fuel_Type_Diesel', 'Fuel_Type_Petrol', 'Seller_Type_Individual',\n",
    "       'Transmission_Manual', 'age'])\n",
    "    ddf = pd.concat([ddf,df1], axis=0)\n",
    "\n",
    "ddf.index = range(len(ddf.index))\n",
    "print (ddf)\n"
   ]
  },
  {
   "cell_type": "code",
   "execution_count": 1384,
   "id": "ae6938b6",
   "metadata": {},
   "outputs": [
    {
     "name": "stdout",
     "output_type": "stream",
     "text": [
      "X_test scaled is: [[1. 1. 1. 1. 1. 1. 1. 1.]]\n",
      "final_prediction is : 0.9232095407670564\n"
     ]
    }
   ],
   "source": [
    "\n",
    "### pred_val function will take user input and scale it and then return the output in unscaled format\n",
    "\n",
    "#Scaling \n",
    "from sklearn import preprocessing\n",
    "\n",
    "transformer_x = preprocessing.MinMaxScaler().fit(X)\n",
    "transformer_y = preprocessing.MinMaxScaler().fit(y) \n",
    "def pred_val(X1,X2,X3,X4,X5,X6,X7,X8):\n",
    "    X_scaled2 = transformer_x.transform(np.array([[X1,X2,X3,X4,X5,X6,X7,X8]]))\n",
    "    print(\"X_test scaled is:\",X_scaled2)\n",
    "    #Intercept\n",
    "    inv_int2 = transformer_y.inverse_transform(regressor.intercept_.reshape(-1, 1))[0][0]\n",
    "    \n",
    "    #Coefficient\n",
    "    inv_coef2 = transformer_x.inverse_transform(regressor.coef_.reshape(1,-1))[0]\n",
    "    #Prediction \n",
    "    preds_inner = regressor.predict(X_scaled2)  \n",
    "    final_pred = transformer_y.inverse_transform(preds_inner.reshape(-1, 1))[0][0]\n",
    "    print(\"final_prediction is :\" ,final_pred)\n",
    "pred_val(P,K, O , Diesel , Petrol,S ,T , g)   "
   ]
  },
  {
   "cell_type": "code",
   "execution_count": 1385,
   "id": "ba251c71",
   "metadata": {},
   "outputs": [
    {
     "data": {
      "text/html": [
       "<div>\n",
       "<style scoped>\n",
       "    .dataframe tbody tr th:only-of-type {\n",
       "        vertical-align: middle;\n",
       "    }\n",
       "\n",
       "    .dataframe tbody tr th {\n",
       "        vertical-align: top;\n",
       "    }\n",
       "\n",
       "    .dataframe thead th {\n",
       "        text-align: right;\n",
       "    }\n",
       "</style>\n",
       "<table border=\"1\" class=\"dataframe\">\n",
       "  <thead>\n",
       "    <tr style=\"text-align: right;\">\n",
       "      <th></th>\n",
       "      <th>Selling_Price</th>\n",
       "      <th>Present_Price</th>\n",
       "      <th>Kms_Driven</th>\n",
       "      <th>Owner</th>\n",
       "      <th>Fuel_Type_Diesel</th>\n",
       "      <th>Fuel_Type_Petrol</th>\n",
       "      <th>Seller_Type_Individual</th>\n",
       "      <th>Transmission_Manual</th>\n",
       "      <th>age</th>\n",
       "    </tr>\n",
       "  </thead>\n",
       "  <tbody>\n",
       "    <tr>\n",
       "      <th>0</th>\n",
       "      <td>3.35</td>\n",
       "      <td>5.59</td>\n",
       "      <td>27000</td>\n",
       "      <td>0</td>\n",
       "      <td>0</td>\n",
       "      <td>1</td>\n",
       "      <td>0</td>\n",
       "      <td>1</td>\n",
       "      <td>5</td>\n",
       "    </tr>\n",
       "    <tr>\n",
       "      <th>1</th>\n",
       "      <td>4.75</td>\n",
       "      <td>9.54</td>\n",
       "      <td>43000</td>\n",
       "      <td>0</td>\n",
       "      <td>1</td>\n",
       "      <td>0</td>\n",
       "      <td>0</td>\n",
       "      <td>1</td>\n",
       "      <td>6</td>\n",
       "    </tr>\n",
       "    <tr>\n",
       "      <th>2</th>\n",
       "      <td>7.25</td>\n",
       "      <td>9.85</td>\n",
       "      <td>6900</td>\n",
       "      <td>0</td>\n",
       "      <td>0</td>\n",
       "      <td>1</td>\n",
       "      <td>0</td>\n",
       "      <td>1</td>\n",
       "      <td>2</td>\n",
       "    </tr>\n",
       "    <tr>\n",
       "      <th>3</th>\n",
       "      <td>2.85</td>\n",
       "      <td>4.15</td>\n",
       "      <td>5200</td>\n",
       "      <td>0</td>\n",
       "      <td>0</td>\n",
       "      <td>1</td>\n",
       "      <td>0</td>\n",
       "      <td>1</td>\n",
       "      <td>8</td>\n",
       "    </tr>\n",
       "    <tr>\n",
       "      <th>4</th>\n",
       "      <td>4.60</td>\n",
       "      <td>6.87</td>\n",
       "      <td>42450</td>\n",
       "      <td>0</td>\n",
       "      <td>1</td>\n",
       "      <td>0</td>\n",
       "      <td>0</td>\n",
       "      <td>1</td>\n",
       "      <td>5</td>\n",
       "    </tr>\n",
       "    <tr>\n",
       "      <th>...</th>\n",
       "      <td>...</td>\n",
       "      <td>...</td>\n",
       "      <td>...</td>\n",
       "      <td>...</td>\n",
       "      <td>...</td>\n",
       "      <td>...</td>\n",
       "      <td>...</td>\n",
       "      <td>...</td>\n",
       "      <td>...</td>\n",
       "    </tr>\n",
       "    <tr>\n",
       "      <th>296</th>\n",
       "      <td>9.50</td>\n",
       "      <td>11.60</td>\n",
       "      <td>33988</td>\n",
       "      <td>0</td>\n",
       "      <td>1</td>\n",
       "      <td>0</td>\n",
       "      <td>0</td>\n",
       "      <td>1</td>\n",
       "      <td>3</td>\n",
       "    </tr>\n",
       "    <tr>\n",
       "      <th>297</th>\n",
       "      <td>4.00</td>\n",
       "      <td>5.90</td>\n",
       "      <td>60000</td>\n",
       "      <td>0</td>\n",
       "      <td>0</td>\n",
       "      <td>1</td>\n",
       "      <td>0</td>\n",
       "      <td>1</td>\n",
       "      <td>4</td>\n",
       "    </tr>\n",
       "    <tr>\n",
       "      <th>298</th>\n",
       "      <td>3.35</td>\n",
       "      <td>11.00</td>\n",
       "      <td>87934</td>\n",
       "      <td>0</td>\n",
       "      <td>0</td>\n",
       "      <td>1</td>\n",
       "      <td>0</td>\n",
       "      <td>1</td>\n",
       "      <td>10</td>\n",
       "    </tr>\n",
       "    <tr>\n",
       "      <th>299</th>\n",
       "      <td>11.50</td>\n",
       "      <td>12.50</td>\n",
       "      <td>9000</td>\n",
       "      <td>0</td>\n",
       "      <td>1</td>\n",
       "      <td>0</td>\n",
       "      <td>0</td>\n",
       "      <td>1</td>\n",
       "      <td>2</td>\n",
       "    </tr>\n",
       "    <tr>\n",
       "      <th>300</th>\n",
       "      <td>5.30</td>\n",
       "      <td>5.90</td>\n",
       "      <td>5464</td>\n",
       "      <td>0</td>\n",
       "      <td>0</td>\n",
       "      <td>1</td>\n",
       "      <td>0</td>\n",
       "      <td>1</td>\n",
       "      <td>3</td>\n",
       "    </tr>\n",
       "  </tbody>\n",
       "</table>\n",
       "<p>301 rows × 9 columns</p>\n",
       "</div>"
      ],
      "text/plain": [
       "     Selling_Price  Present_Price  Kms_Driven  Owner  Fuel_Type_Diesel  \\\n",
       "0             3.35           5.59       27000      0                 0   \n",
       "1             4.75           9.54       43000      0                 1   \n",
       "2             7.25           9.85        6900      0                 0   \n",
       "3             2.85           4.15        5200      0                 0   \n",
       "4             4.60           6.87       42450      0                 1   \n",
       "..             ...            ...         ...    ...               ...   \n",
       "296           9.50          11.60       33988      0                 1   \n",
       "297           4.00           5.90       60000      0                 0   \n",
       "298           3.35          11.00       87934      0                 0   \n",
       "299          11.50          12.50        9000      0                 1   \n",
       "300           5.30           5.90        5464      0                 0   \n",
       "\n",
       "     Fuel_Type_Petrol  Seller_Type_Individual  Transmission_Manual  age  \n",
       "0                   1                       0                    1    5  \n",
       "1                   0                       0                    1    6  \n",
       "2                   1                       0                    1    2  \n",
       "3                   1                       0                    1    8  \n",
       "4                   0                       0                    1    5  \n",
       "..                ...                     ...                  ...  ...  \n",
       "296                 0                       0                    1    3  \n",
       "297                 1                       0                    1    4  \n",
       "298                 1                       0                    1   10  \n",
       "299                 0                       0                    1    2  \n",
       "300                 1                       0                    1    3  \n",
       "\n",
       "[301 rows x 9 columns]"
      ]
     },
     "execution_count": 1385,
     "metadata": {},
     "output_type": "execute_result"
    }
   ],
   "source": [
    "df"
   ]
  },
  {
   "cell_type": "code",
   "execution_count": 1386,
   "id": "9c598f49",
   "metadata": {},
   "outputs": [],
   "source": [
    "1# adding some new samples\n",
    "df_new_input=pd.DataFrame({ \"Present_Price\":[5 , 6] , \n",
    "\"Kms_Driven\":[8000 , 9000] , \"Owner\":[0 ,1] , \"Fuel_Type_Diesel\":[1,0] , \n",
    " \"Fuel_Type_Petrol\":[0 ,1] , \"Seller_Type_Individual\":[0 ,1] ,\n",
    "\"Transmission_Manual\":[1,0],\"age\" :[11, 10],\"Selling_Price\":[5 , 6]})"
   ]
  },
  {
   "cell_type": "code",
   "execution_count": 1387,
   "id": "59994533",
   "metadata": {},
   "outputs": [],
   "source": [
    "df_new_input1=dfb.append(df_new_input)\n",
    "df5=df_new_input1"
   ]
  },
  {
   "cell_type": "code",
   "execution_count": 1388,
   "id": "d089d4be",
   "metadata": {},
   "outputs": [
    {
     "data": {
      "text/html": [
       "<div>\n",
       "<style scoped>\n",
       "    .dataframe tbody tr th:only-of-type {\n",
       "        vertical-align: middle;\n",
       "    }\n",
       "\n",
       "    .dataframe tbody tr th {\n",
       "        vertical-align: top;\n",
       "    }\n",
       "\n",
       "    .dataframe thead th {\n",
       "        text-align: right;\n",
       "    }\n",
       "</style>\n",
       "<table border=\"1\" class=\"dataframe\">\n",
       "  <thead>\n",
       "    <tr style=\"text-align: right;\">\n",
       "      <th></th>\n",
       "      <th>Selling_Price</th>\n",
       "      <th>Present_Price</th>\n",
       "      <th>Kms_Driven</th>\n",
       "      <th>Owner</th>\n",
       "      <th>Fuel_Type_Diesel</th>\n",
       "      <th>Fuel_Type_Petrol</th>\n",
       "      <th>Seller_Type_Individual</th>\n",
       "      <th>Transmission_Manual</th>\n",
       "      <th>age</th>\n",
       "    </tr>\n",
       "  </thead>\n",
       "  <tbody>\n",
       "    <tr>\n",
       "      <th>0</th>\n",
       "      <td>0.015521</td>\n",
       "      <td>0.009518</td>\n",
       "      <td>0.000006</td>\n",
       "      <td>0.0</td>\n",
       "      <td>0.0</td>\n",
       "      <td>1.0</td>\n",
       "      <td>0.0</td>\n",
       "      <td>1.0</td>\n",
       "      <td>0.024242</td>\n",
       "    </tr>\n",
       "    <tr>\n",
       "      <th>1</th>\n",
       "      <td>0.022206</td>\n",
       "      <td>0.016652</td>\n",
       "      <td>0.000009</td>\n",
       "      <td>0.0</td>\n",
       "      <td>1.0</td>\n",
       "      <td>0.0</td>\n",
       "      <td>0.0</td>\n",
       "      <td>1.0</td>\n",
       "      <td>0.030303</td>\n",
       "    </tr>\n",
       "    <tr>\n",
       "      <th>2</th>\n",
       "      <td>0.034145</td>\n",
       "      <td>0.017212</td>\n",
       "      <td>0.000001</td>\n",
       "      <td>0.0</td>\n",
       "      <td>0.0</td>\n",
       "      <td>1.0</td>\n",
       "      <td>0.0</td>\n",
       "      <td>1.0</td>\n",
       "      <td>0.006061</td>\n",
       "    </tr>\n",
       "    <tr>\n",
       "      <th>3</th>\n",
       "      <td>0.013133</td>\n",
       "      <td>0.006917</td>\n",
       "      <td>0.000001</td>\n",
       "      <td>0.0</td>\n",
       "      <td>0.0</td>\n",
       "      <td>1.0</td>\n",
       "      <td>0.0</td>\n",
       "      <td>1.0</td>\n",
       "      <td>0.042424</td>\n",
       "    </tr>\n",
       "    <tr>\n",
       "      <th>4</th>\n",
       "      <td>0.021490</td>\n",
       "      <td>0.011830</td>\n",
       "      <td>0.000009</td>\n",
       "      <td>0.0</td>\n",
       "      <td>1.0</td>\n",
       "      <td>0.0</td>\n",
       "      <td>0.0</td>\n",
       "      <td>1.0</td>\n",
       "      <td>0.024242</td>\n",
       "    </tr>\n",
       "    <tr>\n",
       "      <th>...</th>\n",
       "      <td>...</td>\n",
       "      <td>...</td>\n",
       "      <td>...</td>\n",
       "      <td>...</td>\n",
       "      <td>...</td>\n",
       "      <td>...</td>\n",
       "      <td>...</td>\n",
       "      <td>...</td>\n",
       "      <td>...</td>\n",
       "    </tr>\n",
       "    <tr>\n",
       "      <th>298</th>\n",
       "      <td>0.015521</td>\n",
       "      <td>0.019289</td>\n",
       "      <td>0.000019</td>\n",
       "      <td>0.0</td>\n",
       "      <td>0.0</td>\n",
       "      <td>1.0</td>\n",
       "      <td>0.0</td>\n",
       "      <td>1.0</td>\n",
       "      <td>0.054545</td>\n",
       "    </tr>\n",
       "    <tr>\n",
       "      <th>299</th>\n",
       "      <td>0.054441</td>\n",
       "      <td>0.021998</td>\n",
       "      <td>0.000002</td>\n",
       "      <td>0.0</td>\n",
       "      <td>1.0</td>\n",
       "      <td>0.0</td>\n",
       "      <td>0.0</td>\n",
       "      <td>1.0</td>\n",
       "      <td>0.006061</td>\n",
       "    </tr>\n",
       "    <tr>\n",
       "      <th>300</th>\n",
       "      <td>0.024833</td>\n",
       "      <td>0.010078</td>\n",
       "      <td>0.000001</td>\n",
       "      <td>0.0</td>\n",
       "      <td>0.0</td>\n",
       "      <td>1.0</td>\n",
       "      <td>0.0</td>\n",
       "      <td>1.0</td>\n",
       "      <td>0.012121</td>\n",
       "    </tr>\n",
       "    <tr>\n",
       "      <th>301</th>\n",
       "      <td>0.833333</td>\n",
       "      <td>0.833333</td>\n",
       "      <td>0.888889</td>\n",
       "      <td>0.0</td>\n",
       "      <td>1.0</td>\n",
       "      <td>0.0</td>\n",
       "      <td>0.0</td>\n",
       "      <td>1.0</td>\n",
       "      <td>1.000000</td>\n",
       "    </tr>\n",
       "    <tr>\n",
       "      <th>302</th>\n",
       "      <td>1.000000</td>\n",
       "      <td>1.000000</td>\n",
       "      <td>1.000000</td>\n",
       "      <td>1.0</td>\n",
       "      <td>0.0</td>\n",
       "      <td>1.0</td>\n",
       "      <td>1.0</td>\n",
       "      <td>0.0</td>\n",
       "      <td>0.909091</td>\n",
       "    </tr>\n",
       "  </tbody>\n",
       "</table>\n",
       "<p>303 rows × 9 columns</p>\n",
       "</div>"
      ],
      "text/plain": [
       "     Selling_Price  Present_Price  Kms_Driven  Owner  Fuel_Type_Diesel  \\\n",
       "0         0.015521       0.009518    0.000006    0.0               0.0   \n",
       "1         0.022206       0.016652    0.000009    0.0               1.0   \n",
       "2         0.034145       0.017212    0.000001    0.0               0.0   \n",
       "3         0.013133       0.006917    0.000001    0.0               0.0   \n",
       "4         0.021490       0.011830    0.000009    0.0               1.0   \n",
       "..             ...            ...         ...    ...               ...   \n",
       "298       0.015521       0.019289    0.000019    0.0               0.0   \n",
       "299       0.054441       0.021998    0.000002    0.0               1.0   \n",
       "300       0.024833       0.010078    0.000001    0.0               0.0   \n",
       "301       0.833333       0.833333    0.888889    0.0               1.0   \n",
       "302       1.000000       1.000000    1.000000    1.0               0.0   \n",
       "\n",
       "     Fuel_Type_Petrol  Seller_Type_Individual  Transmission_Manual       age  \n",
       "0                 1.0                     0.0                  1.0  0.024242  \n",
       "1                 0.0                     0.0                  1.0  0.030303  \n",
       "2                 1.0                     0.0                  1.0  0.006061  \n",
       "3                 1.0                     0.0                  1.0  0.042424  \n",
       "4                 0.0                     0.0                  1.0  0.024242  \n",
       "..                ...                     ...                  ...       ...  \n",
       "298               1.0                     0.0                  1.0  0.054545  \n",
       "299               0.0                     0.0                  1.0  0.006061  \n",
       "300               1.0                     0.0                  1.0  0.012121  \n",
       "301               0.0                     0.0                  1.0  1.000000  \n",
       "302               1.0                     1.0                  0.0  0.909091  \n",
       "\n",
       "[303 rows x 9 columns]"
      ]
     },
     "execution_count": 1388,
     "metadata": {},
     "output_type": "execute_result"
    }
   ],
   "source": [
    "newNorm1=Scaler.fit_transform(df5)\n",
    "newNorm1_df5=pd.DataFrame(newNorm1,columns=['Selling_Price', 'Present_Price', 'Kms_Driven', 'Owner',\n",
    "       'Fuel_Type_Diesel', 'Fuel_Type_Petrol', 'Seller_Type_Individual',\n",
    "       'Transmission_Manual', 'age'])\n",
    "newNorm1_df5"
   ]
  },
  {
   "cell_type": "code",
   "execution_count": 1389,
   "id": "62f90f09",
   "metadata": {},
   "outputs": [],
   "source": [
    "train=newNorm1_df5.iloc[:301]\n",
    "test=newNorm1_df5.iloc[301:]"
   ]
  },
  {
   "cell_type": "code",
   "execution_count": 1390,
   "id": "a165222e",
   "metadata": {},
   "outputs": [
    {
     "data": {
      "text/html": [
       "<div>\n",
       "<style scoped>\n",
       "    .dataframe tbody tr th:only-of-type {\n",
       "        vertical-align: middle;\n",
       "    }\n",
       "\n",
       "    .dataframe tbody tr th {\n",
       "        vertical-align: top;\n",
       "    }\n",
       "\n",
       "    .dataframe thead th {\n",
       "        text-align: right;\n",
       "    }\n",
       "</style>\n",
       "<table border=\"1\" class=\"dataframe\">\n",
       "  <thead>\n",
       "    <tr style=\"text-align: right;\">\n",
       "      <th></th>\n",
       "      <th>Selling_Price</th>\n",
       "      <th>Present_Price</th>\n",
       "      <th>Kms_Driven</th>\n",
       "      <th>Owner</th>\n",
       "      <th>Fuel_Type_Diesel</th>\n",
       "      <th>Fuel_Type_Petrol</th>\n",
       "      <th>Seller_Type_Individual</th>\n",
       "      <th>Transmission_Manual</th>\n",
       "      <th>age</th>\n",
       "    </tr>\n",
       "  </thead>\n",
       "  <tbody>\n",
       "    <tr>\n",
       "      <th>301</th>\n",
       "      <td>0.833333</td>\n",
       "      <td>0.833333</td>\n",
       "      <td>0.888889</td>\n",
       "      <td>0.0</td>\n",
       "      <td>1.0</td>\n",
       "      <td>0.0</td>\n",
       "      <td>0.0</td>\n",
       "      <td>1.0</td>\n",
       "      <td>1.000000</td>\n",
       "    </tr>\n",
       "    <tr>\n",
       "      <th>302</th>\n",
       "      <td>1.000000</td>\n",
       "      <td>1.000000</td>\n",
       "      <td>1.000000</td>\n",
       "      <td>1.0</td>\n",
       "      <td>0.0</td>\n",
       "      <td>1.0</td>\n",
       "      <td>1.0</td>\n",
       "      <td>0.0</td>\n",
       "      <td>0.909091</td>\n",
       "    </tr>\n",
       "  </tbody>\n",
       "</table>\n",
       "</div>"
      ],
      "text/plain": [
       "     Selling_Price  Present_Price  Kms_Driven  Owner  Fuel_Type_Diesel  \\\n",
       "301       0.833333       0.833333    0.888889    0.0               1.0   \n",
       "302       1.000000       1.000000    1.000000    1.0               0.0   \n",
       "\n",
       "     Fuel_Type_Petrol  Seller_Type_Individual  Transmission_Manual       age  \n",
       "301               0.0                     0.0                  1.0  1.000000  \n",
       "302               1.0                     1.0                  0.0  0.909091  "
      ]
     },
     "execution_count": 1390,
     "metadata": {},
     "output_type": "execute_result"
    }
   ],
   "source": [
    "test"
   ]
  },
  {
   "cell_type": "code",
   "execution_count": 1391,
   "id": "209dfd1b",
   "metadata": {},
   "outputs": [],
   "source": [
    "X_train=newNorm1_df5[[  'Present_Price', 'Kms_Driven', 'Owner',\n",
    "       'Fuel_Type_Diesel', 'Fuel_Type_Petrol', 'Seller_Type_Individual',\n",
    "       'Transmission_Manual','age']][:301]\n",
    "y_train=newNorm1_df5[['Selling_Price']] [:301].values.reshape(-1,1)"
   ]
  },
  {
   "cell_type": "code",
   "execution_count": 1392,
   "id": "96ed1b00",
   "metadata": {},
   "outputs": [],
   "source": [
    "X_test=newNorm1_df5[[ 'Present_Price', 'Kms_Driven', 'Owner',\n",
    "       'Fuel_Type_Diesel', 'Fuel_Type_Petrol', 'Seller_Type_Individual',\n",
    "       'Transmission_Manual','age']][301:]"
   ]
  },
  {
   "cell_type": "code",
   "execution_count": 1393,
   "id": "3005c0dd",
   "metadata": {},
   "outputs": [
    {
     "data": {
      "text/html": [
       "<div>\n",
       "<style scoped>\n",
       "    .dataframe tbody tr th:only-of-type {\n",
       "        vertical-align: middle;\n",
       "    }\n",
       "\n",
       "    .dataframe tbody tr th {\n",
       "        vertical-align: top;\n",
       "    }\n",
       "\n",
       "    .dataframe thead th {\n",
       "        text-align: right;\n",
       "    }\n",
       "</style>\n",
       "<table border=\"1\" class=\"dataframe\">\n",
       "  <thead>\n",
       "    <tr style=\"text-align: right;\">\n",
       "      <th></th>\n",
       "      <th>Present_Price</th>\n",
       "      <th>Kms_Driven</th>\n",
       "      <th>Owner</th>\n",
       "      <th>Fuel_Type_Diesel</th>\n",
       "      <th>Fuel_Type_Petrol</th>\n",
       "      <th>Seller_Type_Individual</th>\n",
       "      <th>Transmission_Manual</th>\n",
       "      <th>age</th>\n",
       "    </tr>\n",
       "  </thead>\n",
       "  <tbody>\n",
       "    <tr>\n",
       "      <th>0</th>\n",
       "      <td>0.009518</td>\n",
       "      <td>0.000006</td>\n",
       "      <td>0.0</td>\n",
       "      <td>0.0</td>\n",
       "      <td>1.0</td>\n",
       "      <td>0.0</td>\n",
       "      <td>1.0</td>\n",
       "      <td>0.024242</td>\n",
       "    </tr>\n",
       "    <tr>\n",
       "      <th>1</th>\n",
       "      <td>0.016652</td>\n",
       "      <td>0.000009</td>\n",
       "      <td>0.0</td>\n",
       "      <td>1.0</td>\n",
       "      <td>0.0</td>\n",
       "      <td>0.0</td>\n",
       "      <td>1.0</td>\n",
       "      <td>0.030303</td>\n",
       "    </tr>\n",
       "    <tr>\n",
       "      <th>2</th>\n",
       "      <td>0.017212</td>\n",
       "      <td>0.000001</td>\n",
       "      <td>0.0</td>\n",
       "      <td>0.0</td>\n",
       "      <td>1.0</td>\n",
       "      <td>0.0</td>\n",
       "      <td>1.0</td>\n",
       "      <td>0.006061</td>\n",
       "    </tr>\n",
       "    <tr>\n",
       "      <th>3</th>\n",
       "      <td>0.006917</td>\n",
       "      <td>0.000001</td>\n",
       "      <td>0.0</td>\n",
       "      <td>0.0</td>\n",
       "      <td>1.0</td>\n",
       "      <td>0.0</td>\n",
       "      <td>1.0</td>\n",
       "      <td>0.042424</td>\n",
       "    </tr>\n",
       "    <tr>\n",
       "      <th>4</th>\n",
       "      <td>0.011830</td>\n",
       "      <td>0.000009</td>\n",
       "      <td>0.0</td>\n",
       "      <td>1.0</td>\n",
       "      <td>0.0</td>\n",
       "      <td>0.0</td>\n",
       "      <td>1.0</td>\n",
       "      <td>0.024242</td>\n",
       "    </tr>\n",
       "    <tr>\n",
       "      <th>...</th>\n",
       "      <td>...</td>\n",
       "      <td>...</td>\n",
       "      <td>...</td>\n",
       "      <td>...</td>\n",
       "      <td>...</td>\n",
       "      <td>...</td>\n",
       "      <td>...</td>\n",
       "      <td>...</td>\n",
       "    </tr>\n",
       "    <tr>\n",
       "      <th>296</th>\n",
       "      <td>0.020373</td>\n",
       "      <td>0.000007</td>\n",
       "      <td>0.0</td>\n",
       "      <td>1.0</td>\n",
       "      <td>0.0</td>\n",
       "      <td>0.0</td>\n",
       "      <td>1.0</td>\n",
       "      <td>0.012121</td>\n",
       "    </tr>\n",
       "    <tr>\n",
       "      <th>297</th>\n",
       "      <td>0.010078</td>\n",
       "      <td>0.000013</td>\n",
       "      <td>0.0</td>\n",
       "      <td>0.0</td>\n",
       "      <td>1.0</td>\n",
       "      <td>0.0</td>\n",
       "      <td>1.0</td>\n",
       "      <td>0.018182</td>\n",
       "    </tr>\n",
       "    <tr>\n",
       "      <th>298</th>\n",
       "      <td>0.019289</td>\n",
       "      <td>0.000019</td>\n",
       "      <td>0.0</td>\n",
       "      <td>0.0</td>\n",
       "      <td>1.0</td>\n",
       "      <td>0.0</td>\n",
       "      <td>1.0</td>\n",
       "      <td>0.054545</td>\n",
       "    </tr>\n",
       "    <tr>\n",
       "      <th>299</th>\n",
       "      <td>0.021998</td>\n",
       "      <td>0.000002</td>\n",
       "      <td>0.0</td>\n",
       "      <td>1.0</td>\n",
       "      <td>0.0</td>\n",
       "      <td>0.0</td>\n",
       "      <td>1.0</td>\n",
       "      <td>0.006061</td>\n",
       "    </tr>\n",
       "    <tr>\n",
       "      <th>300</th>\n",
       "      <td>0.010078</td>\n",
       "      <td>0.000001</td>\n",
       "      <td>0.0</td>\n",
       "      <td>0.0</td>\n",
       "      <td>1.0</td>\n",
       "      <td>0.0</td>\n",
       "      <td>1.0</td>\n",
       "      <td>0.012121</td>\n",
       "    </tr>\n",
       "  </tbody>\n",
       "</table>\n",
       "<p>301 rows × 8 columns</p>\n",
       "</div>"
      ],
      "text/plain": [
       "     Present_Price  Kms_Driven  Owner  Fuel_Type_Diesel  Fuel_Type_Petrol  \\\n",
       "0         0.009518    0.000006    0.0               0.0               1.0   \n",
       "1         0.016652    0.000009    0.0               1.0               0.0   \n",
       "2         0.017212    0.000001    0.0               0.0               1.0   \n",
       "3         0.006917    0.000001    0.0               0.0               1.0   \n",
       "4         0.011830    0.000009    0.0               1.0               0.0   \n",
       "..             ...         ...    ...               ...               ...   \n",
       "296       0.020373    0.000007    0.0               1.0               0.0   \n",
       "297       0.010078    0.000013    0.0               0.0               1.0   \n",
       "298       0.019289    0.000019    0.0               0.0               1.0   \n",
       "299       0.021998    0.000002    0.0               1.0               0.0   \n",
       "300       0.010078    0.000001    0.0               0.0               1.0   \n",
       "\n",
       "     Seller_Type_Individual  Transmission_Manual       age  \n",
       "0                       0.0                  1.0  0.024242  \n",
       "1                       0.0                  1.0  0.030303  \n",
       "2                       0.0                  1.0  0.006061  \n",
       "3                       0.0                  1.0  0.042424  \n",
       "4                       0.0                  1.0  0.024242  \n",
       "..                      ...                  ...       ...  \n",
       "296                     0.0                  1.0  0.012121  \n",
       "297                     0.0                  1.0  0.018182  \n",
       "298                     0.0                  1.0  0.054545  \n",
       "299                     0.0                  1.0  0.006061  \n",
       "300                     0.0                  1.0  0.012121  \n",
       "\n",
       "[301 rows x 8 columns]"
      ]
     },
     "execution_count": 1393,
     "metadata": {},
     "output_type": "execute_result"
    }
   ],
   "source": [
    "X_train"
   ]
  },
  {
   "cell_type": "code",
   "execution_count": 1394,
   "id": "653c4513",
   "metadata": {},
   "outputs": [
    {
     "data": {
      "text/html": [
       "<div>\n",
       "<style scoped>\n",
       "    .dataframe tbody tr th:only-of-type {\n",
       "        vertical-align: middle;\n",
       "    }\n",
       "\n",
       "    .dataframe tbody tr th {\n",
       "        vertical-align: top;\n",
       "    }\n",
       "\n",
       "    .dataframe thead th {\n",
       "        text-align: right;\n",
       "    }\n",
       "</style>\n",
       "<table border=\"1\" class=\"dataframe\">\n",
       "  <thead>\n",
       "    <tr style=\"text-align: right;\">\n",
       "      <th></th>\n",
       "      <th>Present_Price</th>\n",
       "      <th>Kms_Driven</th>\n",
       "      <th>Owner</th>\n",
       "      <th>Fuel_Type_Diesel</th>\n",
       "      <th>Fuel_Type_Petrol</th>\n",
       "      <th>Seller_Type_Individual</th>\n",
       "      <th>Transmission_Manual</th>\n",
       "      <th>age</th>\n",
       "    </tr>\n",
       "  </thead>\n",
       "  <tbody>\n",
       "    <tr>\n",
       "      <th>301</th>\n",
       "      <td>0.833333</td>\n",
       "      <td>0.888889</td>\n",
       "      <td>0.0</td>\n",
       "      <td>1.0</td>\n",
       "      <td>0.0</td>\n",
       "      <td>0.0</td>\n",
       "      <td>1.0</td>\n",
       "      <td>1.000000</td>\n",
       "    </tr>\n",
       "    <tr>\n",
       "      <th>302</th>\n",
       "      <td>1.000000</td>\n",
       "      <td>1.000000</td>\n",
       "      <td>1.0</td>\n",
       "      <td>0.0</td>\n",
       "      <td>1.0</td>\n",
       "      <td>1.0</td>\n",
       "      <td>0.0</td>\n",
       "      <td>0.909091</td>\n",
       "    </tr>\n",
       "  </tbody>\n",
       "</table>\n",
       "</div>"
      ],
      "text/plain": [
       "     Present_Price  Kms_Driven  Owner  Fuel_Type_Diesel  Fuel_Type_Petrol  \\\n",
       "301       0.833333    0.888889    0.0               1.0               0.0   \n",
       "302       1.000000    1.000000    1.0               0.0               1.0   \n",
       "\n",
       "     Seller_Type_Individual  Transmission_Manual       age  \n",
       "301                     0.0                  1.0  1.000000  \n",
       "302                     1.0                  0.0  0.909091  "
      ]
     },
     "execution_count": 1394,
     "metadata": {},
     "output_type": "execute_result"
    }
   ],
   "source": [
    "X_test"
   ]
  },
  {
   "cell_type": "code",
   "execution_count": 1395,
   "id": "366cf9c9",
   "metadata": {},
   "outputs": [],
   "source": [
    "X_test=newNorm1_df5[[ 'Present_Price', 'Kms_Driven', 'Owner',\n",
    "       'Fuel_Type_Diesel', 'Fuel_Type_Petrol', 'Seller_Type_Individual',\n",
    "       'Transmission_Manual','age']][301:]"
   ]
  },
  {
   "cell_type": "code",
   "execution_count": 1396,
   "id": "3c12c5b4",
   "metadata": {},
   "outputs": [],
   "source": [
    "regressor=LinearRegression()\n",
    "regressor.fit(X_train,y_train)\n",
    "y_pred=regressor.predict(X_test)"
   ]
  },
  {
   "cell_type": "code",
   "execution_count": 1397,
   "id": "a4615489",
   "metadata": {},
   "outputs": [
    {
     "name": "stdout",
     "output_type": "stream",
     "text": [
      "     Present_Price  Kms_Driven  Owner  Fuel_Type_Diesel  Fuel_Type_Petrol  \\\n",
      "301       0.833333    0.888889    0.0               1.0               0.0   \n",
      "302       1.000000    1.000000    1.0               0.0               1.0   \n",
      "\n",
      "     Seller_Type_Individual  Transmission_Manual       age  \n",
      "301                     0.0                  1.0  1.000000  \n",
      "302                     1.0                  0.0  0.909091   [[-133.15608188]\n",
      " [-149.68148634]]\n"
     ]
    }
   ],
   "source": [
    "print(X_test, y_pred)"
   ]
  },
  {
   "cell_type": "code",
   "execution_count": 1398,
   "id": "45744944",
   "metadata": {},
   "outputs": [
    {
     "name": "stdout",
     "output_type": "stream",
     "text": [
      "[[-133.15608188]\n",
      " [-149.68148634]]\n"
     ]
    }
   ],
   "source": [
    "print(y_pred)"
   ]
  },
  {
   "cell_type": "code",
   "execution_count": null,
   "id": "947e43e6",
   "metadata": {},
   "outputs": [],
   "source": []
  },
  {
   "cell_type": "code",
   "execution_count": 1399,
   "id": "1b9894c1",
   "metadata": {},
   "outputs": [],
   "source": [
    "####changing train test size\n",
    "X = df.drop(['Selling_Price'],axis=1)\n",
    "y=df['Selling_Price'].values.reshape(-1,1)"
   ]
  },
  {
   "cell_type": "code",
   "execution_count": 1400,
   "id": "dccce1f8",
   "metadata": {},
   "outputs": [],
   "source": [
    "X_train , X_test , y_train , y_test=train_test_split(X,y,test_size=0.3 , random_state=0)"
   ]
  },
  {
   "cell_type": "code",
   "execution_count": 1401,
   "id": "a1017250",
   "metadata": {},
   "outputs": [
    {
     "data": {
      "text/plain": [
       "LinearRegression()"
      ]
     },
     "execution_count": 1401,
     "metadata": {},
     "output_type": "execute_result"
    }
   ],
   "source": [
    "regressor=LinearRegression()\n",
    "regressor.fit(X_train , y_train)"
   ]
  },
  {
   "cell_type": "code",
   "execution_count": 1402,
   "id": "f0ba9754",
   "metadata": {},
   "outputs": [],
   "source": [
    "y_pred= regressor.predict(X_test)"
   ]
  },
  {
   "cell_type": "code",
   "execution_count": 1403,
   "id": "58b4debd",
   "metadata": {},
   "outputs": [
    {
     "data": {
      "text/html": [
       "<div>\n",
       "<style scoped>\n",
       "    .dataframe tbody tr th:only-of-type {\n",
       "        vertical-align: middle;\n",
       "    }\n",
       "\n",
       "    .dataframe tbody tr th {\n",
       "        vertical-align: top;\n",
       "    }\n",
       "\n",
       "    .dataframe thead th {\n",
       "        text-align: right;\n",
       "    }\n",
       "</style>\n",
       "<table border=\"1\" class=\"dataframe\">\n",
       "  <thead>\n",
       "    <tr style=\"text-align: right;\">\n",
       "      <th></th>\n",
       "      <th>Actual</th>\n",
       "      <th>predicted</th>\n",
       "    </tr>\n",
       "  </thead>\n",
       "  <tbody>\n",
       "    <tr>\n",
       "      <th>0</th>\n",
       "      <td>8.25</td>\n",
       "      <td>7.580400</td>\n",
       "    </tr>\n",
       "    <tr>\n",
       "      <th>1</th>\n",
       "      <td>0.50</td>\n",
       "      <td>-0.362761</td>\n",
       "    </tr>\n",
       "    <tr>\n",
       "      <th>2</th>\n",
       "      <td>5.25</td>\n",
       "      <td>4.311910</td>\n",
       "    </tr>\n",
       "    <tr>\n",
       "      <th>3</th>\n",
       "      <td>9.50</td>\n",
       "      <td>8.984633</td>\n",
       "    </tr>\n",
       "    <tr>\n",
       "      <th>4</th>\n",
       "      <td>18.00</td>\n",
       "      <td>14.046651</td>\n",
       "    </tr>\n",
       "    <tr>\n",
       "      <th>...</th>\n",
       "      <td>...</td>\n",
       "      <td>...</td>\n",
       "    </tr>\n",
       "    <tr>\n",
       "      <th>86</th>\n",
       "      <td>5.35</td>\n",
       "      <td>6.654371</td>\n",
       "    </tr>\n",
       "    <tr>\n",
       "      <th>87</th>\n",
       "      <td>5.50</td>\n",
       "      <td>6.878718</td>\n",
       "    </tr>\n",
       "    <tr>\n",
       "      <th>88</th>\n",
       "      <td>0.60</td>\n",
       "      <td>-0.080029</td>\n",
       "    </tr>\n",
       "    <tr>\n",
       "      <th>89</th>\n",
       "      <td>5.30</td>\n",
       "      <td>4.870951</td>\n",
       "    </tr>\n",
       "    <tr>\n",
       "      <th>90</th>\n",
       "      <td>0.65</td>\n",
       "      <td>1.072400</td>\n",
       "    </tr>\n",
       "  </tbody>\n",
       "</table>\n",
       "<p>91 rows × 2 columns</p>\n",
       "</div>"
      ],
      "text/plain": [
       "    Actual  predicted\n",
       "0     8.25   7.580400\n",
       "1     0.50  -0.362761\n",
       "2     5.25   4.311910\n",
       "3     9.50   8.984633\n",
       "4    18.00  14.046651\n",
       "..     ...        ...\n",
       "86    5.35   6.654371\n",
       "87    5.50   6.878718\n",
       "88    0.60  -0.080029\n",
       "89    5.30   4.870951\n",
       "90    0.65   1.072400\n",
       "\n",
       "[91 rows x 2 columns]"
      ]
     },
     "execution_count": 1403,
     "metadata": {},
     "output_type": "execute_result"
    }
   ],
   "source": [
    "Compare1 = pd.DataFrame({'Actual':y_test.flatten(),'predicted':y_pred.flatten()})\n",
    "Compare1"
   ]
  },
  {
   "cell_type": "code",
   "execution_count": 1404,
   "id": "3d6af3ba",
   "metadata": {},
   "outputs": [
    {
     "name": "stdout",
     "output_type": "stream",
     "text": [
      "Mean Absolute Error: 1.2426713915033711\n",
      "Mean Squared Error: 4.432128265667621\n",
      "Root Mean Squared Error: 2.1052620420431327\n",
      "r2_score: 0.8517983059778262\n"
     ]
    }
   ],
   "source": [
    "print('Mean Absolute Error:', metrics.mean_absolute_error(y_test, y_pred))  \n",
    "print('Mean Squared Error:', metrics.mean_squared_error(y_test, y_pred))  \n",
    "print('Root Mean Squared Error:', np.sqrt(metrics.mean_squared_error(y_test, y_pred)))\n",
    "print('r2_score:', metrics.r2_score(y_test,y_pred))"
   ]
  },
  {
   "cell_type": "code",
   "execution_count": 1405,
   "id": "dc5027fb",
   "metadata": {},
   "outputs": [
    {
     "data": {
      "text/plain": [
       "Text(0, 0.5, 'prediction')"
      ]
     },
     "execution_count": 1405,
     "metadata": {},
     "output_type": "execute_result"
    },
    {
     "data": {
      "image/png": "[encoded data removed]",
      "text/plain": [
       "<Figure size 432x288 with 1 Axes>"
      ]
     },
     "metadata": {
      "needs_background": "light"
     },
     "output_type": "display_data"
    }
   ],
   "source": [
    "plt.scatter(y_test,y_pred)\n",
    "plt.grid()\n",
    "plt.xlabel(\"Test\")\n",
    "plt.ylabel(\"prediction\")"
   ]
  },
  {
   "cell_type": "code",
   "execution_count": 1406,
   "id": "157a2757",
   "metadata": {},
   "outputs": [],
   "source": [
    "##intercept :-9.87655809e+11\n",
    "##coefficeints: year: 9.87655809e+11 - Present_Price:1.11975098e+00 -  Kms_Driven:-9.41162109e-02 -  Owner:-7.19299316e-02\n",
    "   # Fuel_Type_Diesel:7.95440674e-02 -  Fuel_Type_Petrol:2.05841064e-02 -  Seller_Type_Individual:-3.31649780e-02 \n",
    "    #Transmission_Manual:-3.86219025e-02\n",
    "   # age:9.87655809e+11"
   ]
  },
  {
   "cell_type": "code",
   "execution_count": 1407,
   "id": "7d393fac",
   "metadata": {},
   "outputs": [],
   "source": [
    "dfd=df"
   ]
  },
  {
   "cell_type": "code",
   "execution_count": 1408,
   "id": "e4613ecf",
   "metadata": {},
   "outputs": [],
   "source": [
    "#cross valiadtion K Fold\n",
    "X = dfd.drop(['Selling_Price'],axis=1)\n",
    "y=dfd['Selling_Price'].values.reshape(-1,1)"
   ]
  },
  {
   "cell_type": "code",
   "execution_count": 1409,
   "id": "0023e7d5",
   "metadata": {},
   "outputs": [],
   "source": [
    "X_train , X_test , y_train , y_test=train_test_split(X,y,test_size=0.2 , random_state=0)"
   ]
  },
  {
   "cell_type": "code",
   "execution_count": 1410,
   "id": "77ed66a5",
   "metadata": {},
   "outputs": [
    {
     "data": {
      "text/plain": [
       "LinearRegression()"
      ]
     },
     "execution_count": 1410,
     "metadata": {},
     "output_type": "execute_result"
    }
   ],
   "source": [
    "model=LinearRegression()\n",
    "model.fit(X_train , y_train)"
   ]
  },
  {
   "cell_type": "code",
   "execution_count": 1411,
   "id": "8b8d5b73",
   "metadata": {},
   "outputs": [
    {
     "name": "stdout",
     "output_type": "stream",
     "text": [
      "0.914434297222852\n"
     ]
    }
   ],
   "source": [
    "result=model.score(X_test,y_test)\n",
    "print(result)"
   ]
  },
  {
   "cell_type": "code",
   "execution_count": 1412,
   "id": "37026e20",
   "metadata": {},
   "outputs": [],
   "source": [
    "from sklearn.model_selection import KFold\n",
    "from sklearn.model_selection import cross_val_score"
   ]
  },
  {
   "cell_type": "code",
   "execution_count": 1413,
   "id": "fbc084ff",
   "metadata": {},
   "outputs": [],
   "source": [
    "model_new=LinearRegression()"
   ]
  },
  {
   "cell_type": "code",
   "execution_count": 1414,
   "id": "32d39fbb",
   "metadata": {},
   "outputs": [],
   "source": [
    "KFold_validation=KFold(5)"
   ]
  },
  {
   "cell_type": "code",
   "execution_count": 1415,
   "id": "96b4a9b3",
   "metadata": {},
   "outputs": [],
   "source": [
    "results=cross_val_score(model_new,X,y,cv=KFold_validation)"
   ]
  },
  {
   "cell_type": "code",
   "execution_count": 1416,
   "id": "6232b81d",
   "metadata": {},
   "outputs": [
    {
     "name": "stdout",
     "output_type": "stream",
     "text": [
      "[  0.87081422   0.78495686 -93.94826392   0.59365768   0.82692649]\n"
     ]
    }
   ],
   "source": [
    "print(results)"
   ]
  },
  {
   "cell_type": "code",
   "execution_count": 1417,
   "id": "3b91481d",
   "metadata": {},
   "outputs": [],
   "source": [
    "#cross valiadtion K Fold with 10 Folds\n",
    "X = dfd.drop(['Selling_Price'],axis=1)\n",
    "y=dfd['Selling_Price'].values.reshape(-1,1)"
   ]
  },
  {
   "cell_type": "code",
   "execution_count": 1418,
   "id": "341290f5",
   "metadata": {},
   "outputs": [],
   "source": [
    "X_train , X_test , y_train , y_test=train_test_split(X,y,test_size=0.2 , random_state=0)"
   ]
  },
  {
   "cell_type": "code",
   "execution_count": 1419,
   "id": "d5e107ca",
   "metadata": {},
   "outputs": [
    {
     "data": {
      "text/plain": [
       "LinearRegression()"
      ]
     },
     "execution_count": 1419,
     "metadata": {},
     "output_type": "execute_result"
    }
   ],
   "source": [
    "model=LinearRegression()\n",
    "model.fit(X_train , y_train)"
   ]
  },
  {
   "cell_type": "code",
   "execution_count": 1420,
   "id": "eb01d8f3",
   "metadata": {},
   "outputs": [
    {
     "name": "stdout",
     "output_type": "stream",
     "text": [
      "0.914434297222852\n"
     ]
    }
   ],
   "source": [
    "result=model.score(X_test,y_test)\n",
    "print(result)"
   ]
  },
  {
   "cell_type": "code",
   "execution_count": 1421,
   "id": "a99acb8c",
   "metadata": {},
   "outputs": [],
   "source": [
    "from sklearn.model_selection import KFold\n",
    "from sklearn.model_selection import cross_val_score"
   ]
  },
  {
   "cell_type": "code",
   "execution_count": 1422,
   "id": "f7954b15",
   "metadata": {},
   "outputs": [],
   "source": [
    "model_new=LinearRegression()"
   ]
  },
  {
   "cell_type": "code",
   "execution_count": 1423,
   "id": "2396d86f",
   "metadata": {},
   "outputs": [],
   "source": [
    "KFold_validation=KFold(10)"
   ]
  },
  {
   "cell_type": "code",
   "execution_count": 1424,
   "id": "28864b01",
   "metadata": {},
   "outputs": [],
   "source": [
    "results=cross_val_score(model_new,X,y,cv=KFold_validation)"
   ]
  },
  {
   "cell_type": "code",
   "execution_count": 1425,
   "id": "d50b0ca5",
   "metadata": {},
   "outputs": [
    {
     "name": "stdout",
     "output_type": "stream",
     "text": [
      "[ 7.62072857e-01  8.94607515e-01  7.37101664e-01  8.67487566e-01\n",
      " -4.19768367e+01 -1.08369499e+03 -3.90266799e-01  7.65974671e-01\n",
      "  8.22222198e-01  8.66789897e-01]\n"
     ]
    }
   ],
   "source": [
    "print(results)"
   ]
  },
  {
   "cell_type": "code",
   "execution_count": 1426,
   "id": "5d507408",
   "metadata": {},
   "outputs": [],
   "source": [
    "bad_data=dfd.iloc[120:210].index\n"
   ]
  },
  {
   "cell_type": "code",
   "execution_count": 1427,
   "id": "8071f89c",
   "metadata": {},
   "outputs": [],
   "source": [
    "df_removed_fold=dfd.drop(bad_data)"
   ]
  },
  {
   "cell_type": "code",
   "execution_count": 1428,
   "id": "2e1dbd8a",
   "metadata": {},
   "outputs": [
    {
     "data": {
      "text/html": [
       "<div>\n",
       "<style scoped>\n",
       "    .dataframe tbody tr th:only-of-type {\n",
       "        vertical-align: middle;\n",
       "    }\n",
       "\n",
       "    .dataframe tbody tr th {\n",
       "        vertical-align: top;\n",
       "    }\n",
       "\n",
       "    .dataframe thead th {\n",
       "        text-align: right;\n",
       "    }\n",
       "</style>\n",
       "<table border=\"1\" class=\"dataframe\">\n",
       "  <thead>\n",
       "    <tr style=\"text-align: right;\">\n",
       "      <th></th>\n",
       "      <th>Selling_Price</th>\n",
       "      <th>Present_Price</th>\n",
       "      <th>Kms_Driven</th>\n",
       "      <th>Owner</th>\n",
       "      <th>Fuel_Type_Diesel</th>\n",
       "      <th>Fuel_Type_Petrol</th>\n",
       "      <th>Seller_Type_Individual</th>\n",
       "      <th>Transmission_Manual</th>\n",
       "      <th>age</th>\n",
       "    </tr>\n",
       "  </thead>\n",
       "  <tbody>\n",
       "    <tr>\n",
       "      <th>0</th>\n",
       "      <td>3.35</td>\n",
       "      <td>5.59</td>\n",
       "      <td>27000</td>\n",
       "      <td>0</td>\n",
       "      <td>0</td>\n",
       "      <td>1</td>\n",
       "      <td>0</td>\n",
       "      <td>1</td>\n",
       "      <td>5</td>\n",
       "    </tr>\n",
       "    <tr>\n",
       "      <th>1</th>\n",
       "      <td>4.75</td>\n",
       "      <td>9.54</td>\n",
       "      <td>43000</td>\n",
       "      <td>0</td>\n",
       "      <td>1</td>\n",
       "      <td>0</td>\n",
       "      <td>0</td>\n",
       "      <td>1</td>\n",
       "      <td>6</td>\n",
       "    </tr>\n",
       "    <tr>\n",
       "      <th>2</th>\n",
       "      <td>7.25</td>\n",
       "      <td>9.85</td>\n",
       "      <td>6900</td>\n",
       "      <td>0</td>\n",
       "      <td>0</td>\n",
       "      <td>1</td>\n",
       "      <td>0</td>\n",
       "      <td>1</td>\n",
       "      <td>2</td>\n",
       "    </tr>\n",
       "    <tr>\n",
       "      <th>3</th>\n",
       "      <td>2.85</td>\n",
       "      <td>4.15</td>\n",
       "      <td>5200</td>\n",
       "      <td>0</td>\n",
       "      <td>0</td>\n",
       "      <td>1</td>\n",
       "      <td>0</td>\n",
       "      <td>1</td>\n",
       "      <td>8</td>\n",
       "    </tr>\n",
       "    <tr>\n",
       "      <th>4</th>\n",
       "      <td>4.60</td>\n",
       "      <td>6.87</td>\n",
       "      <td>42450</td>\n",
       "      <td>0</td>\n",
       "      <td>1</td>\n",
       "      <td>0</td>\n",
       "      <td>0</td>\n",
       "      <td>1</td>\n",
       "      <td>5</td>\n",
       "    </tr>\n",
       "    <tr>\n",
       "      <th>...</th>\n",
       "      <td>...</td>\n",
       "      <td>...</td>\n",
       "      <td>...</td>\n",
       "      <td>...</td>\n",
       "      <td>...</td>\n",
       "      <td>...</td>\n",
       "      <td>...</td>\n",
       "      <td>...</td>\n",
       "      <td>...</td>\n",
       "    </tr>\n",
       "    <tr>\n",
       "      <th>296</th>\n",
       "      <td>9.50</td>\n",
       "      <td>11.60</td>\n",
       "      <td>33988</td>\n",
       "      <td>0</td>\n",
       "      <td>1</td>\n",
       "      <td>0</td>\n",
       "      <td>0</td>\n",
       "      <td>1</td>\n",
       "      <td>3</td>\n",
       "    </tr>\n",
       "    <tr>\n",
       "      <th>297</th>\n",
       "      <td>4.00</td>\n",
       "      <td>5.90</td>\n",
       "      <td>60000</td>\n",
       "      <td>0</td>\n",
       "      <td>0</td>\n",
       "      <td>1</td>\n",
       "      <td>0</td>\n",
       "      <td>1</td>\n",
       "      <td>4</td>\n",
       "    </tr>\n",
       "    <tr>\n",
       "      <th>298</th>\n",
       "      <td>3.35</td>\n",
       "      <td>11.00</td>\n",
       "      <td>87934</td>\n",
       "      <td>0</td>\n",
       "      <td>0</td>\n",
       "      <td>1</td>\n",
       "      <td>0</td>\n",
       "      <td>1</td>\n",
       "      <td>10</td>\n",
       "    </tr>\n",
       "    <tr>\n",
       "      <th>299</th>\n",
       "      <td>11.50</td>\n",
       "      <td>12.50</td>\n",
       "      <td>9000</td>\n",
       "      <td>0</td>\n",
       "      <td>1</td>\n",
       "      <td>0</td>\n",
       "      <td>0</td>\n",
       "      <td>1</td>\n",
       "      <td>2</td>\n",
       "    </tr>\n",
       "    <tr>\n",
       "      <th>300</th>\n",
       "      <td>5.30</td>\n",
       "      <td>5.90</td>\n",
       "      <td>5464</td>\n",
       "      <td>0</td>\n",
       "      <td>0</td>\n",
       "      <td>1</td>\n",
       "      <td>0</td>\n",
       "      <td>1</td>\n",
       "      <td>3</td>\n",
       "    </tr>\n",
       "  </tbody>\n",
       "</table>\n",
       "<p>211 rows × 9 columns</p>\n",
       "</div>"
      ],
      "text/plain": [
       "     Selling_Price  Present_Price  Kms_Driven  Owner  Fuel_Type_Diesel  \\\n",
       "0             3.35           5.59       27000      0                 0   \n",
       "1             4.75           9.54       43000      0                 1   \n",
       "2             7.25           9.85        6900      0                 0   \n",
       "3             2.85           4.15        5200      0                 0   \n",
       "4             4.60           6.87       42450      0                 1   \n",
       "..             ...            ...         ...    ...               ...   \n",
       "296           9.50          11.60       33988      0                 1   \n",
       "297           4.00           5.90       60000      0                 0   \n",
       "298           3.35          11.00       87934      0                 0   \n",
       "299          11.50          12.50        9000      0                 1   \n",
       "300           5.30           5.90        5464      0                 0   \n",
       "\n",
       "     Fuel_Type_Petrol  Seller_Type_Individual  Transmission_Manual  age  \n",
       "0                   1                       0                    1    5  \n",
       "1                   0                       0                    1    6  \n",
       "2                   1                       0                    1    2  \n",
       "3                   1                       0                    1    8  \n",
       "4                   0                       0                    1    5  \n",
       "..                ...                     ...                  ...  ...  \n",
       "296                 0                       0                    1    3  \n",
       "297                 1                       0                    1    4  \n",
       "298                 1                       0                    1   10  \n",
       "299                 0                       0                    1    2  \n",
       "300                 1                       0                    1    3  \n",
       "\n",
       "[211 rows x 9 columns]"
      ]
     },
     "execution_count": 1428,
     "metadata": {},
     "output_type": "execute_result"
    }
   ],
   "source": [
    "df_removed_fold"
   ]
  },
  {
   "cell_type": "code",
   "execution_count": 1429,
   "id": "610e8f36",
   "metadata": {},
   "outputs": [],
   "source": [
    "#### Model4 on new data without that fold"
   ]
  },
  {
   "cell_type": "code",
   "execution_count": 1430,
   "id": "f8dd618c",
   "metadata": {},
   "outputs": [
    {
     "data": {
      "text/html": [
       "<div>\n",
       "<style scoped>\n",
       "    .dataframe tbody tr th:only-of-type {\n",
       "        vertical-align: middle;\n",
       "    }\n",
       "\n",
       "    .dataframe tbody tr th {\n",
       "        vertical-align: top;\n",
       "    }\n",
       "\n",
       "    .dataframe thead th {\n",
       "        text-align: right;\n",
       "    }\n",
       "</style>\n",
       "<table border=\"1\" class=\"dataframe\">\n",
       "  <thead>\n",
       "    <tr style=\"text-align: right;\">\n",
       "      <th></th>\n",
       "      <th>Selling_Price</th>\n",
       "      <th>Present_Price</th>\n",
       "      <th>Kms_Driven</th>\n",
       "      <th>Owner</th>\n",
       "      <th>Fuel_Type_Diesel</th>\n",
       "      <th>Fuel_Type_Petrol</th>\n",
       "      <th>Seller_Type_Individual</th>\n",
       "      <th>Transmission_Manual</th>\n",
       "      <th>age</th>\n",
       "    </tr>\n",
       "  </thead>\n",
       "  <tbody>\n",
       "    <tr>\n",
       "      <th>0</th>\n",
       "      <td>0.086580</td>\n",
       "      <td>0.045943</td>\n",
       "      <td>0.131649</td>\n",
       "      <td>0.0</td>\n",
       "      <td>0.0</td>\n",
       "      <td>1.0</td>\n",
       "      <td>0.0</td>\n",
       "      <td>1.0</td>\n",
       "      <td>0.266667</td>\n",
       "    </tr>\n",
       "    <tr>\n",
       "      <th>1</th>\n",
       "      <td>0.126984</td>\n",
       "      <td>0.089254</td>\n",
       "      <td>0.213291</td>\n",
       "      <td>0.0</td>\n",
       "      <td>1.0</td>\n",
       "      <td>0.0</td>\n",
       "      <td>0.0</td>\n",
       "      <td>1.0</td>\n",
       "      <td>0.333333</td>\n",
       "    </tr>\n",
       "    <tr>\n",
       "      <th>2</th>\n",
       "      <td>0.199134</td>\n",
       "      <td>0.092654</td>\n",
       "      <td>0.029085</td>\n",
       "      <td>0.0</td>\n",
       "      <td>0.0</td>\n",
       "      <td>1.0</td>\n",
       "      <td>0.0</td>\n",
       "      <td>1.0</td>\n",
       "      <td>0.066667</td>\n",
       "    </tr>\n",
       "    <tr>\n",
       "      <th>3</th>\n",
       "      <td>0.072150</td>\n",
       "      <td>0.030154</td>\n",
       "      <td>0.020411</td>\n",
       "      <td>0.0</td>\n",
       "      <td>0.0</td>\n",
       "      <td>1.0</td>\n",
       "      <td>0.0</td>\n",
       "      <td>1.0</td>\n",
       "      <td>0.466667</td>\n",
       "    </tr>\n",
       "    <tr>\n",
       "      <th>4</th>\n",
       "      <td>0.122655</td>\n",
       "      <td>0.059978</td>\n",
       "      <td>0.210485</td>\n",
       "      <td>0.0</td>\n",
       "      <td>1.0</td>\n",
       "      <td>0.0</td>\n",
       "      <td>0.0</td>\n",
       "      <td>1.0</td>\n",
       "      <td>0.266667</td>\n",
       "    </tr>\n",
       "    <tr>\n",
       "      <th>...</th>\n",
       "      <td>...</td>\n",
       "      <td>...</td>\n",
       "      <td>...</td>\n",
       "      <td>...</td>\n",
       "      <td>...</td>\n",
       "      <td>...</td>\n",
       "      <td>...</td>\n",
       "      <td>...</td>\n",
       "      <td>...</td>\n",
       "    </tr>\n",
       "    <tr>\n",
       "      <th>206</th>\n",
       "      <td>0.264069</td>\n",
       "      <td>0.111842</td>\n",
       "      <td>0.167306</td>\n",
       "      <td>0.0</td>\n",
       "      <td>1.0</td>\n",
       "      <td>0.0</td>\n",
       "      <td>0.0</td>\n",
       "      <td>1.0</td>\n",
       "      <td>0.133333</td>\n",
       "    </tr>\n",
       "    <tr>\n",
       "      <th>207</th>\n",
       "      <td>0.105339</td>\n",
       "      <td>0.049342</td>\n",
       "      <td>0.300037</td>\n",
       "      <td>0.0</td>\n",
       "      <td>0.0</td>\n",
       "      <td>1.0</td>\n",
       "      <td>0.0</td>\n",
       "      <td>1.0</td>\n",
       "      <td>0.200000</td>\n",
       "    </tr>\n",
       "    <tr>\n",
       "      <th>208</th>\n",
       "      <td>0.086580</td>\n",
       "      <td>0.105263</td>\n",
       "      <td>0.442575</td>\n",
       "      <td>0.0</td>\n",
       "      <td>0.0</td>\n",
       "      <td>1.0</td>\n",
       "      <td>0.0</td>\n",
       "      <td>1.0</td>\n",
       "      <td>0.600000</td>\n",
       "    </tr>\n",
       "    <tr>\n",
       "      <th>209</th>\n",
       "      <td>0.321789</td>\n",
       "      <td>0.121711</td>\n",
       "      <td>0.039801</td>\n",
       "      <td>0.0</td>\n",
       "      <td>1.0</td>\n",
       "      <td>0.0</td>\n",
       "      <td>0.0</td>\n",
       "      <td>1.0</td>\n",
       "      <td>0.066667</td>\n",
       "    </tr>\n",
       "    <tr>\n",
       "      <th>210</th>\n",
       "      <td>0.142857</td>\n",
       "      <td>0.049342</td>\n",
       "      <td>0.021758</td>\n",
       "      <td>0.0</td>\n",
       "      <td>0.0</td>\n",
       "      <td>1.0</td>\n",
       "      <td>0.0</td>\n",
       "      <td>1.0</td>\n",
       "      <td>0.133333</td>\n",
       "    </tr>\n",
       "  </tbody>\n",
       "</table>\n",
       "<p>211 rows × 9 columns</p>\n",
       "</div>"
      ],
      "text/plain": [
       "     Selling_Price  Present_Price  Kms_Driven  Owner  Fuel_Type_Diesel  \\\n",
       "0         0.086580       0.045943    0.131649    0.0               0.0   \n",
       "1         0.126984       0.089254    0.213291    0.0               1.0   \n",
       "2         0.199134       0.092654    0.029085    0.0               0.0   \n",
       "3         0.072150       0.030154    0.020411    0.0               0.0   \n",
       "4         0.122655       0.059978    0.210485    0.0               1.0   \n",
       "..             ...            ...         ...    ...               ...   \n",
       "206       0.264069       0.111842    0.167306    0.0               1.0   \n",
       "207       0.105339       0.049342    0.300037    0.0               0.0   \n",
       "208       0.086580       0.105263    0.442575    0.0               0.0   \n",
       "209       0.321789       0.121711    0.039801    0.0               1.0   \n",
       "210       0.142857       0.049342    0.021758    0.0               0.0   \n",
       "\n",
       "     Fuel_Type_Petrol  Seller_Type_Individual  Transmission_Manual       age  \n",
       "0                 1.0                     0.0                  1.0  0.266667  \n",
       "1                 0.0                     0.0                  1.0  0.333333  \n",
       "2                 1.0                     0.0                  1.0  0.066667  \n",
       "3                 1.0                     0.0                  1.0  0.466667  \n",
       "4                 0.0                     0.0                  1.0  0.266667  \n",
       "..                ...                     ...                  ...       ...  \n",
       "206               0.0                     0.0                  1.0  0.133333  \n",
       "207               1.0                     0.0                  1.0  0.200000  \n",
       "208               1.0                     0.0                  1.0  0.600000  \n",
       "209               0.0                     0.0                  1.0  0.066667  \n",
       "210               1.0                     0.0                  1.0  0.133333  \n",
       "\n",
       "[211 rows x 9 columns]"
      ]
     },
     "execution_count": 1430,
     "metadata": {},
     "output_type": "execute_result"
    }
   ],
   "source": [
    "normf1=Scaler.fit_transform(df_removed_fold)\n",
    "normf1_df=pd.DataFrame(normf1,columns=['Selling_Price', 'Present_Price', 'Kms_Driven', 'Owner',\n",
    "       'Fuel_Type_Diesel', 'Fuel_Type_Petrol', 'Seller_Type_Individual',\n",
    "       'Transmission_Manual', 'age'])\n",
    "normf1_df"
   ]
  },
  {
   "cell_type": "code",
   "execution_count": 1431,
   "id": "b7aab147",
   "metadata": {},
   "outputs": [],
   "source": [
    "X =normf1_df.drop(['Selling_Price'],axis=1)\n",
    "y=normf1_df['Selling_Price'].values.reshape(-1,1)"
   ]
  },
  {
   "cell_type": "code",
   "execution_count": 1432,
   "id": "651427b0",
   "metadata": {},
   "outputs": [],
   "source": [
    "X_train , X_test , y_train , y_test=train_test_split(X,y,test_size=0.2 , random_state=0)"
   ]
  },
  {
   "cell_type": "code",
   "execution_count": 1433,
   "id": "a68e2c2b",
   "metadata": {},
   "outputs": [
    {
     "data": {
      "text/plain": [
       "LinearRegression()"
      ]
     },
     "execution_count": 1433,
     "metadata": {},
     "output_type": "execute_result"
    }
   ],
   "source": [
    "regressor=LinearRegression()\n",
    "regressor.fit(X_train , y_train)"
   ]
  },
  {
   "cell_type": "code",
   "execution_count": 1434,
   "id": "386852c5",
   "metadata": {},
   "outputs": [],
   "source": [
    "y_pred= regressor.predict(X_test)"
   ]
  },
  {
   "cell_type": "code",
   "execution_count": 1435,
   "id": "2bdb5948",
   "metadata": {},
   "outputs": [
    {
     "name": "stdout",
     "output_type": "stream",
     "text": [
      "[0.18727052]\n",
      "[[ 1.1378092  -0.17559924 -0.06162517  0.06838717 -0.0016251  -0.04566105\n",
      "  -0.0575958  -0.19288317]]\n"
     ]
    }
   ],
   "source": [
    "print(regressor.intercept_)\n",
    "print(regressor.coef_)"
   ]
  },
  {
   "cell_type": "code",
   "execution_count": 1436,
   "id": "571a3f7d",
   "metadata": {},
   "outputs": [
    {
     "data": {
      "text/plain": [
       "Text(0, 0.5, 'prediction')"
      ]
     },
     "execution_count": 1436,
     "metadata": {},
     "output_type": "execute_result"
    },
    {
     "data": {
      "image/png": "[encoded data removed]",
      "text/plain": [
       "<Figure size 432x288 with 1 Axes>"
      ]
     },
     "metadata": {
      "needs_background": "light"
     },
     "output_type": "display_data"
    }
   ],
   "source": [
    "plt.scatter(y_test,y_pred)\n",
    "plt.grid()\n",
    "plt.xlabel(\"Test\")\n",
    "plt.ylabel(\"prediction\")"
   ]
  },
  {
   "cell_type": "code",
   "execution_count": 1437,
   "id": "f4a9b2d1",
   "metadata": {},
   "outputs": [
    {
     "name": "stdout",
     "output_type": "stream",
     "text": [
      "Mean Absolute Error: 0.042626803208170846\n",
      "Mean Squared Error: 0.0031135272880773563\n",
      "Root Mean Squared Error: 0.055798990027395266\n",
      "r2_score: 0.8497439477235702\n"
     ]
    }
   ],
   "source": [
    "print('Mean Absolute Error:', metrics.mean_absolute_error(y_test, y_pred))  \n",
    "print('Mean Squared Error:', metrics.mean_squared_error(y_test, y_pred))  \n",
    "print('Root Mean Squared Error:', np.sqrt(metrics.mean_squared_error(y_test, y_pred)))\n",
    "print('r2_score:', metrics.r2_score(y_test,y_pred))"
   ]
  },
  {
   "cell_type": "code",
   "execution_count": 1438,
   "id": "e5024eb7",
   "metadata": {},
   "outputs": [
    {
     "name": "stdout",
     "output_type": "stream",
     "text": [
      "unscaled regression coefs are: [[ 1.1378092  -0.17559924 -0.06162517  0.06838717 -0.0016251  -0.04566105\n",
      "  -0.0575958  -0.19288317]]\n"
     ]
    }
   ],
   "source": [
    "c=np.array(regressor.coef_)\n",
    "print(\"unscaled regression coefs are:\",c)"
   ]
  },
  {
   "cell_type": "code",
   "execution_count": 1439,
   "id": "d99fb6fa",
   "metadata": {},
   "outputs": [],
   "source": [
    "#y_pred=\n",
    "#m=np.array(y_pred)\n",
    "#m=m.reshsape(-1,1)\n",
    "#mm=Scaler.inverse_transform(m)\n",
    "#mm\n"
   ]
  },
  {
   "cell_type": "code",
   "execution_count": 1440,
   "id": "e1230352",
   "metadata": {},
   "outputs": [],
   "source": [
    "###adding some new samples\n",
    "df_new_inputs=pd.DataFrame({ \"Present_Price\":[5 , 6] , \n",
    "\"Kms_Driven\":[8000 , 9000] , \"Owner\":[0 ,1] , \"Fuel_Type_Diesel\":[1,0] , \n",
    " \"Fuel_Type_Petrol\":[0 ,1] , \"Seller_Type_Individual\":[0 ,1] ,\n",
    "\"Transmission_Manual\":[1,0],\"age\" :[11, 10],\"Selling_Price\":[5 , 6]})"
   ]
  },
  {
   "cell_type": "code",
   "execution_count": 1441,
   "id": "72045b41",
   "metadata": {},
   "outputs": [
    {
     "data": {
      "text/html": [
       "<div>\n",
       "<style scoped>\n",
       "    .dataframe tbody tr th:only-of-type {\n",
       "        vertical-align: middle;\n",
       "    }\n",
       "\n",
       "    .dataframe tbody tr th {\n",
       "        vertical-align: top;\n",
       "    }\n",
       "\n",
       "    .dataframe thead th {\n",
       "        text-align: right;\n",
       "    }\n",
       "</style>\n",
       "<table border=\"1\" class=\"dataframe\">\n",
       "  <thead>\n",
       "    <tr style=\"text-align: right;\">\n",
       "      <th></th>\n",
       "      <th>Selling_Price</th>\n",
       "      <th>Present_Price</th>\n",
       "      <th>Kms_Driven</th>\n",
       "      <th>Owner</th>\n",
       "      <th>Fuel_Type_Diesel</th>\n",
       "      <th>Fuel_Type_Petrol</th>\n",
       "      <th>Seller_Type_Individual</th>\n",
       "      <th>Transmission_Manual</th>\n",
       "      <th>age</th>\n",
       "    </tr>\n",
       "  </thead>\n",
       "  <tbody>\n",
       "    <tr>\n",
       "      <th>0</th>\n",
       "      <td>0.0</td>\n",
       "      <td>0.0</td>\n",
       "      <td>0.0</td>\n",
       "      <td>1.0</td>\n",
       "      <td>0.0</td>\n",
       "      <td>0.0</td>\n",
       "      <td>1.0</td>\n",
       "      <td>1.0</td>\n",
       "      <td>0.0</td>\n",
       "    </tr>\n",
       "    <tr>\n",
       "      <th>1</th>\n",
       "      <td>1.0</td>\n",
       "      <td>1.0</td>\n",
       "      <td>1.0</td>\n",
       "      <td>0.0</td>\n",
       "      <td>1.0</td>\n",
       "      <td>1.0</td>\n",
       "      <td>0.0</td>\n",
       "      <td>0.0</td>\n",
       "      <td>1.0</td>\n",
       "    </tr>\n",
       "  </tbody>\n",
       "</table>\n",
       "</div>"
      ],
      "text/plain": [
       "   Selling_Price  Present_Price  Kms_Driven  Owner  Fuel_Type_Diesel  \\\n",
       "0            0.0            0.0         0.0    1.0               0.0   \n",
       "1            1.0            1.0         1.0    0.0               1.0   \n",
       "\n",
       "   Fuel_Type_Petrol  Seller_Type_Individual  Transmission_Manual  age  \n",
       "0               0.0                     1.0                  1.0  0.0  \n",
       "1               1.0                     0.0                  0.0  1.0  "
      ]
     },
     "execution_count": 1441,
     "metadata": {},
     "output_type": "execute_result"
    }
   ],
   "source": [
    "n1=Scaler.fit_transform(df_new_inputs)\n",
    "dfn=pd.DataFrame(n1,columns=['Selling_Price', 'Present_Price', 'Kms_Driven', 'Owner',\n",
    "       'Fuel_Type_Diesel', 'Fuel_Type_Petrol', 'Seller_Type_Individual',\n",
    "       'Transmission_Manual', 'age'])\n",
    "dfn"
   ]
  },
  {
   "cell_type": "code",
   "execution_count": 1442,
   "id": "24d15911",
   "metadata": {},
   "outputs": [],
   "source": [
    "X =df_removed_fold.drop(['Selling_Price'],axis=1)\n",
    "y=df_removed_fold['Selling_Price'].values.reshape(-1,1)"
   ]
  },
  {
   "cell_type": "code",
   "execution_count": 1443,
   "id": "a95204c3",
   "metadata": {},
   "outputs": [],
   "source": [
    "X_test=dfn.drop(['Selling_Price'],axis=1)"
   ]
  },
  {
   "cell_type": "code",
   "execution_count": 1444,
   "id": "af03ad7c",
   "metadata": {},
   "outputs": [
    {
     "data": {
      "text/plain": [
       "LinearRegression()"
      ]
     },
     "execution_count": 1444,
     "metadata": {},
     "output_type": "execute_result"
    }
   ],
   "source": [
    "regressor=LinearRegression()\n",
    "regressor.fit(X_train , y_train)"
   ]
  },
  {
   "cell_type": "code",
   "execution_count": 1445,
   "id": "f7fdc855",
   "metadata": {},
   "outputs": [
    {
     "data": {
      "text/html": [
       "<div>\n",
       "<style scoped>\n",
       "    .dataframe tbody tr th:only-of-type {\n",
       "        vertical-align: middle;\n",
       "    }\n",
       "\n",
       "    .dataframe tbody tr th {\n",
       "        vertical-align: top;\n",
       "    }\n",
       "\n",
       "    .dataframe thead th {\n",
       "        text-align: right;\n",
       "    }\n",
       "</style>\n",
       "<table border=\"1\" class=\"dataframe\">\n",
       "  <thead>\n",
       "    <tr style=\"text-align: right;\">\n",
       "      <th></th>\n",
       "      <th>Present_Price</th>\n",
       "      <th>Kms_Driven</th>\n",
       "      <th>Owner</th>\n",
       "      <th>Fuel_Type_Diesel</th>\n",
       "      <th>Fuel_Type_Petrol</th>\n",
       "      <th>Seller_Type_Individual</th>\n",
       "      <th>Transmission_Manual</th>\n",
       "      <th>age</th>\n",
       "    </tr>\n",
       "  </thead>\n",
       "  <tbody>\n",
       "    <tr>\n",
       "      <th>0</th>\n",
       "      <td>0.0</td>\n",
       "      <td>0.0</td>\n",
       "      <td>1.0</td>\n",
       "      <td>0.0</td>\n",
       "      <td>0.0</td>\n",
       "      <td>1.0</td>\n",
       "      <td>1.0</td>\n",
       "      <td>0.0</td>\n",
       "    </tr>\n",
       "    <tr>\n",
       "      <th>1</th>\n",
       "      <td>1.0</td>\n",
       "      <td>1.0</td>\n",
       "      <td>0.0</td>\n",
       "      <td>1.0</td>\n",
       "      <td>1.0</td>\n",
       "      <td>0.0</td>\n",
       "      <td>0.0</td>\n",
       "      <td>1.0</td>\n",
       "    </tr>\n",
       "  </tbody>\n",
       "</table>\n",
       "</div>"
      ],
      "text/plain": [
       "   Present_Price  Kms_Driven  Owner  Fuel_Type_Diesel  Fuel_Type_Petrol  \\\n",
       "0            0.0         0.0    1.0               0.0               0.0   \n",
       "1            1.0         1.0    0.0               1.0               1.0   \n",
       "\n",
       "   Seller_Type_Individual  Transmission_Manual  age  \n",
       "0                     1.0                  1.0  0.0  \n",
       "1                     0.0                  0.0  1.0  "
      ]
     },
     "execution_count": 1445,
     "metadata": {},
     "output_type": "execute_result"
    }
   ],
   "source": [
    "X_test"
   ]
  },
  {
   "cell_type": "code",
   "execution_count": 1446,
   "id": "1c9b24e2",
   "metadata": {},
   "outputs": [],
   "source": [
    "y_pred= regressor.predict(X_test)"
   ]
  },
  {
   "cell_type": "code",
   "execution_count": 1447,
   "id": "f1110a71",
   "metadata": {},
   "outputs": [
    {
     "name": "stdout",
     "output_type": "stream",
     "text": [
      "[[0.02238849]\n",
      " [1.02335938]]\n"
     ]
    }
   ],
   "source": [
    "print(y_pred)"
   ]
  },
  {
   "cell_type": "code",
   "execution_count": 1448,
   "id": "002edef7",
   "metadata": {},
   "outputs": [
    {
     "name": "stdout",
     "output_type": "stream",
     "text": [
      "[0.18727052]\n",
      "[[ 1.1378092  -0.17559924 -0.06162517  0.06838717 -0.0016251  -0.04566105\n",
      "  -0.0575958  -0.19288317]]\n"
     ]
    }
   ],
   "source": [
    "\n",
    "print(regressor.intercept_)\n",
    "print(regressor.coef_)"
   ]
  },
  {
   "cell_type": "code",
   "execution_count": 1449,
   "id": "c8761f4a",
   "metadata": {},
   "outputs": [
    {
     "name": "stdout",
     "output_type": "stream",
     "text": [
      "138.05007809999998\n"
     ]
    }
   ],
   "source": [
    "Selling_Price= 0.18033755+(1.14303624*Present_Price)-(0.44435805*Kms_Driven)-(0.06118373*Owner) +(0.06789729*Fuel_Type_Diesel)\n",
    "-(0.00161345*Fuel_Type_Petrol) -(0.04533397*Seller_Type_Individual)-(0.05718323*Transmission_Manual)-(0.19150149*age)\n",
    "print(Selling_Price)"
   ]
  },
  {
   "cell_type": "code",
   "execution_count": 1450,
   "id": "28c1ba83",
   "metadata": {},
   "outputs": [
    {
     "name": "stdout",
     "output_type": "stream",
     "text": [
      "[[ 1.1378092  -0.17559924 -0.06162517  0.06838717 -0.0016251  -0.04566105\n",
      "  -0.0575958  -0.19288317]]\n"
     ]
    }
   ],
   "source": [
    "#print(regressor.intercept_)\n",
    "c=np.array(regressor.coef_)\n",
    "print(c)"
   ]
  },
  {
   "cell_type": "code",
   "execution_count": null,
   "id": "c1a25d72",
   "metadata": {},
   "outputs": [],
   "source": []
  },
  {
   "cell_type": "code",
   "execution_count": 1451,
   "id": "db85fc18",
   "metadata": {},
   "outputs": [],
   "source": [
    "#### Model2 by adding dimension to \"Present_Price\"\n"
   ]
  },
  {
   "cell_type": "code",
   "execution_count": 1452,
   "id": "e754f4e4",
   "metadata": {},
   "outputs": [
    {
     "data": {
      "text/html": [
       "<div>\n",
       "<style scoped>\n",
       "    .dataframe tbody tr th:only-of-type {\n",
       "        vertical-align: middle;\n",
       "    }\n",
       "\n",
       "    .dataframe tbody tr th {\n",
       "        vertical-align: top;\n",
       "    }\n",
       "\n",
       "    .dataframe thead th {\n",
       "        text-align: right;\n",
       "    }\n",
       "</style>\n",
       "<table border=\"1\" class=\"dataframe\">\n",
       "  <thead>\n",
       "    <tr style=\"text-align: right;\">\n",
       "      <th></th>\n",
       "      <th>Selling_Price</th>\n",
       "      <th>Present_Price</th>\n",
       "      <th>Kms_Driven</th>\n",
       "      <th>Owner</th>\n",
       "      <th>Fuel_Type_Diesel</th>\n",
       "      <th>Fuel_Type_Petrol</th>\n",
       "      <th>Seller_Type_Individual</th>\n",
       "      <th>Transmission_Manual</th>\n",
       "      <th>age</th>\n",
       "    </tr>\n",
       "  </thead>\n",
       "  <tbody>\n",
       "    <tr>\n",
       "      <th>count</th>\n",
       "      <td>301.000000</td>\n",
       "      <td>301.000000</td>\n",
       "      <td>301.000000</td>\n",
       "      <td>301.000000</td>\n",
       "      <td>301.000000</td>\n",
       "      <td>301.000000</td>\n",
       "      <td>301.000000</td>\n",
       "      <td>301.000000</td>\n",
       "      <td>301.000000</td>\n",
       "    </tr>\n",
       "    <tr>\n",
       "      <th>mean</th>\n",
       "      <td>4.661296</td>\n",
       "      <td>7.628472</td>\n",
       "      <td>36947.205980</td>\n",
       "      <td>0.043189</td>\n",
       "      <td>0.199336</td>\n",
       "      <td>0.794020</td>\n",
       "      <td>0.352159</td>\n",
       "      <td>0.867110</td>\n",
       "      <td>5.372093</td>\n",
       "    </tr>\n",
       "    <tr>\n",
       "      <th>std</th>\n",
       "      <td>5.082812</td>\n",
       "      <td>8.644115</td>\n",
       "      <td>38886.883882</td>\n",
       "      <td>0.247915</td>\n",
       "      <td>0.400166</td>\n",
       "      <td>0.405089</td>\n",
       "      <td>0.478439</td>\n",
       "      <td>0.340021</td>\n",
       "      <td>2.891554</td>\n",
       "    </tr>\n",
       "    <tr>\n",
       "      <th>min</th>\n",
       "      <td>0.100000</td>\n",
       "      <td>0.320000</td>\n",
       "      <td>500.000000</td>\n",
       "      <td>0.000000</td>\n",
       "      <td>0.000000</td>\n",
       "      <td>0.000000</td>\n",
       "      <td>0.000000</td>\n",
       "      <td>0.000000</td>\n",
       "      <td>1.000000</td>\n",
       "    </tr>\n",
       "    <tr>\n",
       "      <th>25%</th>\n",
       "      <td>0.900000</td>\n",
       "      <td>1.200000</td>\n",
       "      <td>15000.000000</td>\n",
       "      <td>0.000000</td>\n",
       "      <td>0.000000</td>\n",
       "      <td>1.000000</td>\n",
       "      <td>0.000000</td>\n",
       "      <td>1.000000</td>\n",
       "      <td>3.000000</td>\n",
       "    </tr>\n",
       "    <tr>\n",
       "      <th>50%</th>\n",
       "      <td>3.600000</td>\n",
       "      <td>6.400000</td>\n",
       "      <td>32000.000000</td>\n",
       "      <td>0.000000</td>\n",
       "      <td>0.000000</td>\n",
       "      <td>1.000000</td>\n",
       "      <td>0.000000</td>\n",
       "      <td>1.000000</td>\n",
       "      <td>5.000000</td>\n",
       "    </tr>\n",
       "    <tr>\n",
       "      <th>75%</th>\n",
       "      <td>6.000000</td>\n",
       "      <td>9.900000</td>\n",
       "      <td>48767.000000</td>\n",
       "      <td>0.000000</td>\n",
       "      <td>0.000000</td>\n",
       "      <td>1.000000</td>\n",
       "      <td>1.000000</td>\n",
       "      <td>1.000000</td>\n",
       "      <td>7.000000</td>\n",
       "    </tr>\n",
       "    <tr>\n",
       "      <th>max</th>\n",
       "      <td>35.000000</td>\n",
       "      <td>92.600000</td>\n",
       "      <td>500000.000000</td>\n",
       "      <td>3.000000</td>\n",
       "      <td>1.000000</td>\n",
       "      <td>1.000000</td>\n",
       "      <td>1.000000</td>\n",
       "      <td>1.000000</td>\n",
       "      <td>16.000000</td>\n",
       "    </tr>\n",
       "  </tbody>\n",
       "</table>\n",
       "</div>"
      ],
      "text/plain": [
       "       Selling_Price  Present_Price     Kms_Driven       Owner  \\\n",
       "count     301.000000     301.000000     301.000000  301.000000   \n",
       "mean        4.661296       7.628472   36947.205980    0.043189   \n",
       "std         5.082812       8.644115   38886.883882    0.247915   \n",
       "min         0.100000       0.320000     500.000000    0.000000   \n",
       "25%         0.900000       1.200000   15000.000000    0.000000   \n",
       "50%         3.600000       6.400000   32000.000000    0.000000   \n",
       "75%         6.000000       9.900000   48767.000000    0.000000   \n",
       "max        35.000000      92.600000  500000.000000    3.000000   \n",
       "\n",
       "       Fuel_Type_Diesel  Fuel_Type_Petrol  Seller_Type_Individual  \\\n",
       "count        301.000000        301.000000              301.000000   \n",
       "mean           0.199336          0.794020                0.352159   \n",
       "std            0.400166          0.405089                0.478439   \n",
       "min            0.000000          0.000000                0.000000   \n",
       "25%            0.000000          1.000000                0.000000   \n",
       "50%            0.000000          1.000000                0.000000   \n",
       "75%            0.000000          1.000000                1.000000   \n",
       "max            1.000000          1.000000                1.000000   \n",
       "\n",
       "       Transmission_Manual         age  \n",
       "count           301.000000  301.000000  \n",
       "mean              0.867110    5.372093  \n",
       "std               0.340021    2.891554  \n",
       "min               0.000000    1.000000  \n",
       "25%               1.000000    3.000000  \n",
       "50%               1.000000    5.000000  \n",
       "75%               1.000000    7.000000  \n",
       "max               1.000000   16.000000  "
      ]
     },
     "execution_count": 1452,
     "metadata": {},
     "output_type": "execute_result"
    }
   ],
   "source": [
    "df.describe()\n",
    "###No Negative values so we go for Degree=2"
   ]
  },
  {
   "cell_type": "code",
   "execution_count": 1453,
   "id": "003bd0cf",
   "metadata": {},
   "outputs": [],
   "source": [
    "##Model Regression Degree=2\n",
    "Present_Price2=df.Present_Price**2\n",
    "df.insert(2 ,\"Present_Price2\" ,Present_Price2 )\n"
   ]
  },
  {
   "cell_type": "code",
   "execution_count": 1454,
   "id": "cf44538e",
   "metadata": {},
   "outputs": [],
   "source": [
    "#building model degree 2\n",
    "from sklearn import preprocessing\n",
    "Scaler= preprocessing.MinMaxScaler(feature_range=(0,1))\n",
    "n1=Scaler.fit_transform(df)\n",
    "nn1=pd.DataFrame(n1,columns=['Selling_Price', 'Present_Price','Present_Price2', 'Kms_Driven' , 'Owner',\n",
    "       'Fuel_Type_Diesel', 'Fuel_Type_Petrol', 'Seller_Type_Individual',\n",
    "       'Transmission_Manual', 'age']  )"
   ]
  },
  {
   "cell_type": "code",
   "execution_count": 1455,
   "id": "b7fc0821",
   "metadata": {},
   "outputs": [],
   "source": [
    "X = nn1.drop(['Selling_Price'],axis=1)\n",
    "y=nn1['Selling_Price'].values.reshape(-1,1)\n",
    "\n",
    "X_train , X_test , y_train , y_test=train_test_split(X,y,test_size=0.2 , random_state=0)\n",
    "\n",
    "model_degree2=LinearRegression()\n",
    "model_degree2.fit(X_train , y_train)\n",
    "\n",
    "y_pred= model_degree2.predict(X_test)\n"
   ]
  },
  {
   "cell_type": "code",
   "execution_count": 1456,
   "id": "e89e8f37",
   "metadata": {},
   "outputs": [
    {
     "name": "stdout",
     "output_type": "stream",
     "text": [
      "Mean Absolute Error: 0.029383517326499742\n",
      "Mean Squared Error: 0.0016394356818349041\n",
      "Root Mean Squared Error: 0.04048994544124385\n",
      "r2_score: 0.9210023385478951\n"
     ]
    }
   ],
   "source": [
    "## Score And Errors \n",
    "print('Mean Absolute Error:', metrics.mean_absolute_error(y_test, y_pred))  \n",
    "print('Mean Squared Error:', metrics.mean_squared_error(y_test, y_pred))  \n",
    "print('Root Mean Squared Error:', np.sqrt(metrics.mean_squared_error(y_test, y_pred)))\n",
    "print('r2_score:', metrics.r2_score(y_test,y_pred))"
   ]
  },
  {
   "cell_type": "code",
   "execution_count": null,
   "id": "3c9acb3f",
   "metadata": {},
   "outputs": [],
   "source": []
  },
  {
   "cell_type": "code",
   "execution_count": 1457,
   "id": "733486a3",
   "metadata": {},
   "outputs": [],
   "source": [
    "#df.drop(['Kms_Driven3'],axis=1, inplace=True)\n",
    "#df.drop(['age3'],axis=1, inplace=True)\n",
    "#df.drop(['Present_Price3'],axis=1, inplace=True)\n",
    "#df.drop(['Owner3'],axis=1, inplace=True)\n",
    "#df.drop(['Fuel_Type_Diesel3'],axis=1, inplace=True)"
   ]
  },
  {
   "cell_type": "code",
   "execution_count": 1458,
   "id": "64be881f",
   "metadata": {},
   "outputs": [
    {
     "data": {
      "text/html": [
       "<div>\n",
       "<style scoped>\n",
       "    .dataframe tbody tr th:only-of-type {\n",
       "        vertical-align: middle;\n",
       "    }\n",
       "\n",
       "    .dataframe tbody tr th {\n",
       "        vertical-align: top;\n",
       "    }\n",
       "\n",
       "    .dataframe thead th {\n",
       "        text-align: right;\n",
       "    }\n",
       "</style>\n",
       "<table border=\"1\" class=\"dataframe\">\n",
       "  <thead>\n",
       "    <tr style=\"text-align: right;\">\n",
       "      <th></th>\n",
       "      <th>Selling_Price</th>\n",
       "      <th>Present_Price</th>\n",
       "      <th>Present_Price2</th>\n",
       "      <th>Kms_Driven</th>\n",
       "      <th>Owner</th>\n",
       "      <th>Fuel_Type_Diesel</th>\n",
       "      <th>Fuel_Type_Petrol</th>\n",
       "      <th>Seller_Type_Individual</th>\n",
       "      <th>Transmission_Manual</th>\n",
       "      <th>age</th>\n",
       "    </tr>\n",
       "  </thead>\n",
       "  <tbody>\n",
       "    <tr>\n",
       "      <th>0</th>\n",
       "      <td>3.35</td>\n",
       "      <td>5.59</td>\n",
       "      <td>31.2481</td>\n",
       "      <td>27000</td>\n",
       "      <td>0</td>\n",
       "      <td>0</td>\n",
       "      <td>1</td>\n",
       "      <td>0</td>\n",
       "      <td>1</td>\n",
       "      <td>5</td>\n",
       "    </tr>\n",
       "    <tr>\n",
       "      <th>1</th>\n",
       "      <td>4.75</td>\n",
       "      <td>9.54</td>\n",
       "      <td>91.0116</td>\n",
       "      <td>43000</td>\n",
       "      <td>0</td>\n",
       "      <td>1</td>\n",
       "      <td>0</td>\n",
       "      <td>0</td>\n",
       "      <td>1</td>\n",
       "      <td>6</td>\n",
       "    </tr>\n",
       "    <tr>\n",
       "      <th>2</th>\n",
       "      <td>7.25</td>\n",
       "      <td>9.85</td>\n",
       "      <td>97.0225</td>\n",
       "      <td>6900</td>\n",
       "      <td>0</td>\n",
       "      <td>0</td>\n",
       "      <td>1</td>\n",
       "      <td>0</td>\n",
       "      <td>1</td>\n",
       "      <td>2</td>\n",
       "    </tr>\n",
       "    <tr>\n",
       "      <th>3</th>\n",
       "      <td>2.85</td>\n",
       "      <td>4.15</td>\n",
       "      <td>17.2225</td>\n",
       "      <td>5200</td>\n",
       "      <td>0</td>\n",
       "      <td>0</td>\n",
       "      <td>1</td>\n",
       "      <td>0</td>\n",
       "      <td>1</td>\n",
       "      <td>8</td>\n",
       "    </tr>\n",
       "    <tr>\n",
       "      <th>4</th>\n",
       "      <td>4.60</td>\n",
       "      <td>6.87</td>\n",
       "      <td>47.1969</td>\n",
       "      <td>42450</td>\n",
       "      <td>0</td>\n",
       "      <td>1</td>\n",
       "      <td>0</td>\n",
       "      <td>0</td>\n",
       "      <td>1</td>\n",
       "      <td>5</td>\n",
       "    </tr>\n",
       "  </tbody>\n",
       "</table>\n",
       "</div>"
      ],
      "text/plain": [
       "   Selling_Price  Present_Price  Present_Price2  Kms_Driven  Owner  \\\n",
       "0           3.35           5.59         31.2481       27000      0   \n",
       "1           4.75           9.54         91.0116       43000      0   \n",
       "2           7.25           9.85         97.0225        6900      0   \n",
       "3           2.85           4.15         17.2225        5200      0   \n",
       "4           4.60           6.87         47.1969       42450      0   \n",
       "\n",
       "   Fuel_Type_Diesel  Fuel_Type_Petrol  Seller_Type_Individual  \\\n",
       "0                 0                 1                       0   \n",
       "1                 1                 0                       0   \n",
       "2                 0                 1                       0   \n",
       "3                 0                 1                       0   \n",
       "4                 1                 0                       0   \n",
       "\n",
       "   Transmission_Manual  age  \n",
       "0                    1    5  \n",
       "1                    1    6  \n",
       "2                    1    2  \n",
       "3                    1    8  \n",
       "4                    1    5  "
      ]
     },
     "execution_count": 1458,
     "metadata": {},
     "output_type": "execute_result"
    }
   ],
   "source": [
    "df.head()"
   ]
  },
  {
   "cell_type": "code",
   "execution_count": 1459,
   "id": "a23ab22f",
   "metadata": {},
   "outputs": [],
   "source": [
    "#Model Regression Degree=2 by adding dimension to 'Present_Price', 'Kms_Driven', 'Owner', 'Fuel_Type_Diesel','age'\n",
    "\n",
    "Kms_Driven2=df.Kms_Driven**2\n",
    "df.insert(4 ,\"Kms_Driven2\" ,Kms_Driven2 )\n",
    "\n",
    "Owner2=df.Owner**2 \n",
    "df.insert(6 ,\"Owner2\" ,Owner2 )\n",
    "\n",
    "Fuel_Type_Diesel2=df.Fuel_Type_Diesel**2\n",
    "df.insert(8 ,\"Fuel_Type_Diesel2\" ,Fuel_Type_Diesel2 ) \n",
    "\n",
    "age2=df.age**2\n",
    "df.insert(12 ,\"age2\" ,age2 ) "
   ]
  },
  {
   "cell_type": "code",
   "execution_count": 1460,
   "id": "83cf91ff",
   "metadata": {},
   "outputs": [],
   "source": [
    "#building model degree 2\n",
    "from sklearn import preprocessing\n",
    "Scaler= preprocessing.MinMaxScaler(feature_range=(0,1))\n",
    "mm=Scaler.fit_transform(df)\n",
    "mmd=pd.DataFrame(mm,columns=['Selling_Price', 'Present_Price','Present_Price2', 'Kms_Driven','Kms_Driven2' , 'Owner','Owner2',\n",
    "       'Fuel_Type_Diesel', 'Fuel_Type_Diesel2', 'Fuel_Type_Petrol', 'Seller_Type_Individual',\n",
    "       'Transmission_Manual', 'age','age2']  )"
   ]
  },
  {
   "cell_type": "code",
   "execution_count": 1461,
   "id": "7eb6493f",
   "metadata": {},
   "outputs": [],
   "source": [
    "X = mmd.drop(['Selling_Price'],axis=1)\n",
    "y=mmd['Selling_Price'].values.reshape(-1,1)\n",
    "\n",
    "X_train , X_test , y_train , y_test=train_test_split(X,y,test_size=0.2 , random_state=0)\n",
    "\n",
    "model_degree2222=LinearRegression()\n",
    "model_degree2222.fit(X_train , y_train)\n",
    "\n",
    "y_pred= model_degree2222.predict(X_test)"
   ]
  },
  {
   "cell_type": "code",
   "execution_count": 1462,
   "id": "becc322d",
   "metadata": {},
   "outputs": [
    {
     "name": "stdout",
     "output_type": "stream",
     "text": [
      "Mean Absolute Error: 0.031012890949500067\n",
      "Mean Squared Error: 0.0015213608113521554\n",
      "Root Mean Squared Error: 0.03900462551226656\n",
      "r2_score model_degree2222: 0.9266918808384212\n"
     ]
    }
   ],
   "source": [
    "#Metrics\n",
    "print('Mean Absolute Error:', metrics.mean_absolute_error(y_test, y_pred))  \n",
    "print('Mean Squared Error:', metrics.mean_squared_error(y_test, y_pred))  \n",
    "print('Root Mean Squared Error:', np.sqrt(metrics.mean_squared_error(y_test, y_pred)))\n",
    "print('r2_score model_degree2222:', metrics.r2_score(y_test,y_pred))"
   ]
  },
  {
   "cell_type": "code",
   "execution_count": 1463,
   "id": "a838b91e",
   "metadata": {},
   "outputs": [
    {
     "name": "stdout",
     "output_type": "stream",
     "text": [
      "scaled regression coefs are: [[ 1.63415621e+00 -5.92903314e-01 -5.22719433e-01  5.29368303e-01\n",
      "   2.35313840e-01 -4.35754519e-01  2.80452450e-02  2.80452450e-02\n",
      "  -4.61168067e-04 -9.74283398e-03 -1.60521026e-02  2.38950667e-01\n",
      "  -3.19257896e-01]]\n"
     ]
    }
   ],
   "source": [
    "cc=np.array(model_degree2222.coef_)\n",
    "print(\"scaled regression coefs are:\",cc)"
   ]
  },
  {
   "cell_type": "code",
   "execution_count": 1464,
   "id": "ac20e831",
   "metadata": {},
   "outputs": [
    {
     "data": {
      "text/html": [
       "<div>\n",
       "<style scoped>\n",
       "    .dataframe tbody tr th:only-of-type {\n",
       "        vertical-align: middle;\n",
       "    }\n",
       "\n",
       "    .dataframe tbody tr th {\n",
       "        vertical-align: top;\n",
       "    }\n",
       "\n",
       "    .dataframe thead th {\n",
       "        text-align: right;\n",
       "    }\n",
       "</style>\n",
       "<table border=\"1\" class=\"dataframe\">\n",
       "  <thead>\n",
       "    <tr style=\"text-align: right;\">\n",
       "      <th></th>\n",
       "      <th>Selling_Price</th>\n",
       "      <th>Present_Price</th>\n",
       "      <th>Present_Price2</th>\n",
       "      <th>Kms_Driven</th>\n",
       "      <th>Kms_Driven2</th>\n",
       "      <th>Owner</th>\n",
       "      <th>Owner2</th>\n",
       "      <th>Fuel_Type_Diesel</th>\n",
       "      <th>Fuel_Type_Diesel2</th>\n",
       "      <th>Fuel_Type_Petrol</th>\n",
       "      <th>Seller_Type_Individual</th>\n",
       "      <th>Transmission_Manual</th>\n",
       "      <th>age2</th>\n",
       "      <th>age</th>\n",
       "    </tr>\n",
       "  </thead>\n",
       "  <tbody>\n",
       "    <tr>\n",
       "      <th>0</th>\n",
       "      <td>3.35</td>\n",
       "      <td>5.59</td>\n",
       "      <td>31.2481</td>\n",
       "      <td>27000</td>\n",
       "      <td>729000000</td>\n",
       "      <td>0</td>\n",
       "      <td>0</td>\n",
       "      <td>0</td>\n",
       "      <td>0</td>\n",
       "      <td>1</td>\n",
       "      <td>0</td>\n",
       "      <td>1</td>\n",
       "      <td>25</td>\n",
       "      <td>5</td>\n",
       "    </tr>\n",
       "    <tr>\n",
       "      <th>1</th>\n",
       "      <td>4.75</td>\n",
       "      <td>9.54</td>\n",
       "      <td>91.0116</td>\n",
       "      <td>43000</td>\n",
       "      <td>1849000000</td>\n",
       "      <td>0</td>\n",
       "      <td>0</td>\n",
       "      <td>1</td>\n",
       "      <td>1</td>\n",
       "      <td>0</td>\n",
       "      <td>0</td>\n",
       "      <td>1</td>\n",
       "      <td>36</td>\n",
       "      <td>6</td>\n",
       "    </tr>\n",
       "    <tr>\n",
       "      <th>2</th>\n",
       "      <td>7.25</td>\n",
       "      <td>9.85</td>\n",
       "      <td>97.0225</td>\n",
       "      <td>6900</td>\n",
       "      <td>47610000</td>\n",
       "      <td>0</td>\n",
       "      <td>0</td>\n",
       "      <td>0</td>\n",
       "      <td>0</td>\n",
       "      <td>1</td>\n",
       "      <td>0</td>\n",
       "      <td>1</td>\n",
       "      <td>4</td>\n",
       "      <td>2</td>\n",
       "    </tr>\n",
       "    <tr>\n",
       "      <th>3</th>\n",
       "      <td>2.85</td>\n",
       "      <td>4.15</td>\n",
       "      <td>17.2225</td>\n",
       "      <td>5200</td>\n",
       "      <td>27040000</td>\n",
       "      <td>0</td>\n",
       "      <td>0</td>\n",
       "      <td>0</td>\n",
       "      <td>0</td>\n",
       "      <td>1</td>\n",
       "      <td>0</td>\n",
       "      <td>1</td>\n",
       "      <td>64</td>\n",
       "      <td>8</td>\n",
       "    </tr>\n",
       "    <tr>\n",
       "      <th>4</th>\n",
       "      <td>4.60</td>\n",
       "      <td>6.87</td>\n",
       "      <td>47.1969</td>\n",
       "      <td>42450</td>\n",
       "      <td>1802002500</td>\n",
       "      <td>0</td>\n",
       "      <td>0</td>\n",
       "      <td>1</td>\n",
       "      <td>1</td>\n",
       "      <td>0</td>\n",
       "      <td>0</td>\n",
       "      <td>1</td>\n",
       "      <td>25</td>\n",
       "      <td>5</td>\n",
       "    </tr>\n",
       "  </tbody>\n",
       "</table>\n",
       "</div>"
      ],
      "text/plain": [
       "   Selling_Price  Present_Price  Present_Price2  Kms_Driven  Kms_Driven2  \\\n",
       "0           3.35           5.59         31.2481       27000    729000000   \n",
       "1           4.75           9.54         91.0116       43000   1849000000   \n",
       "2           7.25           9.85         97.0225        6900     47610000   \n",
       "3           2.85           4.15         17.2225        5200     27040000   \n",
       "4           4.60           6.87         47.1969       42450   1802002500   \n",
       "\n",
       "   Owner  Owner2  Fuel_Type_Diesel  Fuel_Type_Diesel2  Fuel_Type_Petrol  \\\n",
       "0      0       0                 0                  0                 1   \n",
       "1      0       0                 1                  1                 0   \n",
       "2      0       0                 0                  0                 1   \n",
       "3      0       0                 0                  0                 1   \n",
       "4      0       0                 1                  1                 0   \n",
       "\n",
       "   Seller_Type_Individual  Transmission_Manual  age2  age  \n",
       "0                       0                    1    25    5  \n",
       "1                       0                    1    36    6  \n",
       "2                       0                    1     4    2  \n",
       "3                       0                    1    64    8  \n",
       "4                       0                    1    25    5  "
      ]
     },
     "execution_count": 1464,
     "metadata": {},
     "output_type": "execute_result"
    }
   ],
   "source": [
    "df.head()"
   ]
  },
  {
   "cell_type": "code",
   "execution_count": 1465,
   "id": "e06854a9",
   "metadata": {},
   "outputs": [],
   "source": [
    "#Model Regression Degree=3 first by adding dimension to 'Present_Price' only"
   ]
  },
  {
   "cell_type": "code",
   "execution_count": 1466,
   "id": "3c70694b",
   "metadata": {},
   "outputs": [],
   "source": [
    "Present_Price3=df.Present_Price**3\n",
    "df.insert(3 ,\"Present_Price3\" ,Present_Price3 )"
   ]
  },
  {
   "cell_type": "code",
   "execution_count": 1467,
   "id": "15411302",
   "metadata": {},
   "outputs": [],
   "source": [
    "#building model degree 3\n",
    "from sklearn import preprocessing\n",
    "Scaler= preprocessing.MinMaxScaler(feature_range=(0,1))\n",
    "my=Scaler.fit_transform(df)\n",
    "myd=pd.DataFrame(my,columns=['Selling_Price', 'Present_Price','Present_Price2','Present_Price3' ,'Kms_Driven','Kms_Driven2' , 'Owner','Owner2',\n",
    "       'Fuel_Type_Diesel', 'Fuel_Type_Diesel2', 'Fuel_Type_Petrol', 'Seller_Type_Individual',\n",
    "       'Transmission_Manual', 'age','age2']  )"
   ]
  },
  {
   "cell_type": "code",
   "execution_count": 1468,
   "id": "05128ed8",
   "metadata": {},
   "outputs": [],
   "source": [
    "X = myd.drop(['Selling_Price'],axis=1)\n",
    "y=myd['Selling_Price'].values.reshape(-1,1)\n",
    "\n",
    "X_train , X_test , y_train , y_test=train_test_split(X,y,test_size=0.2 , random_state=0)\n",
    "\n",
    "model_degree33=LinearRegression()\n",
    "model_degree33.fit(X_train , y_train)\n",
    "\n",
    "y_pred= model_degree33.predict(X_test)"
   ]
  },
  {
   "cell_type": "code",
   "execution_count": 1469,
   "id": "5a183d9a",
   "metadata": {},
   "outputs": [
    {
     "name": "stdout",
     "output_type": "stream",
     "text": [
      "Mean Absolute Error: 0.03177629078681344\n",
      "Mean Squared Error: 0.0016202328538078997\n",
      "Root Mean Squared Error: 0.040252116140743456\n",
      "r2_score model_degree33: 0.9219276438369092\n"
     ]
    }
   ],
   "source": [
    "#Metrics\n",
    "print('Mean Absolute Error:', metrics.mean_absolute_error(y_test, y_pred))  \n",
    "print('Mean Squared Error:', metrics.mean_squared_error(y_test, y_pred))  \n",
    "print('Root Mean Squared Error:', np.sqrt(metrics.mean_squared_error(y_test, y_pred)))\n",
    "print('r2_score model_degree33:', metrics.r2_score(y_test,y_pred))"
   ]
  },
  {
   "cell_type": "code",
   "execution_count": 1470,
   "id": "d3e50ded",
   "metadata": {},
   "outputs": [
    {
     "data": {
      "text/html": [
       "<div>\n",
       "<style scoped>\n",
       "    .dataframe tbody tr th:only-of-type {\n",
       "        vertical-align: middle;\n",
       "    }\n",
       "\n",
       "    .dataframe tbody tr th {\n",
       "        vertical-align: top;\n",
       "    }\n",
       "\n",
       "    .dataframe thead th {\n",
       "        text-align: right;\n",
       "    }\n",
       "</style>\n",
       "<table border=\"1\" class=\"dataframe\">\n",
       "  <thead>\n",
       "    <tr style=\"text-align: right;\">\n",
       "      <th></th>\n",
       "      <th>Selling_Price</th>\n",
       "      <th>Present_Price</th>\n",
       "      <th>Present_Price2</th>\n",
       "      <th>Present_Price3</th>\n",
       "      <th>Kms_Driven</th>\n",
       "      <th>Kms_Driven2</th>\n",
       "      <th>Owner</th>\n",
       "      <th>Owner2</th>\n",
       "      <th>Fuel_Type_Diesel</th>\n",
       "      <th>Fuel_Type_Diesel2</th>\n",
       "      <th>Fuel_Type_Petrol</th>\n",
       "      <th>Seller_Type_Individual</th>\n",
       "      <th>Transmission_Manual</th>\n",
       "      <th>age2</th>\n",
       "      <th>age</th>\n",
       "    </tr>\n",
       "  </thead>\n",
       "  <tbody>\n",
       "    <tr>\n",
       "      <th>0</th>\n",
       "      <td>3.35</td>\n",
       "      <td>5.59</td>\n",
       "      <td>31.2481</td>\n",
       "      <td>174.676879</td>\n",
       "      <td>27000</td>\n",
       "      <td>729000000</td>\n",
       "      <td>0</td>\n",
       "      <td>0</td>\n",
       "      <td>0</td>\n",
       "      <td>0</td>\n",
       "      <td>1</td>\n",
       "      <td>0</td>\n",
       "      <td>1</td>\n",
       "      <td>25</td>\n",
       "      <td>5</td>\n",
       "    </tr>\n",
       "    <tr>\n",
       "      <th>1</th>\n",
       "      <td>4.75</td>\n",
       "      <td>9.54</td>\n",
       "      <td>91.0116</td>\n",
       "      <td>868.250664</td>\n",
       "      <td>43000</td>\n",
       "      <td>1849000000</td>\n",
       "      <td>0</td>\n",
       "      <td>0</td>\n",
       "      <td>1</td>\n",
       "      <td>1</td>\n",
       "      <td>0</td>\n",
       "      <td>0</td>\n",
       "      <td>1</td>\n",
       "      <td>36</td>\n",
       "      <td>6</td>\n",
       "    </tr>\n",
       "    <tr>\n",
       "      <th>2</th>\n",
       "      <td>7.25</td>\n",
       "      <td>9.85</td>\n",
       "      <td>97.0225</td>\n",
       "      <td>955.671625</td>\n",
       "      <td>6900</td>\n",
       "      <td>47610000</td>\n",
       "      <td>0</td>\n",
       "      <td>0</td>\n",
       "      <td>0</td>\n",
       "      <td>0</td>\n",
       "      <td>1</td>\n",
       "      <td>0</td>\n",
       "      <td>1</td>\n",
       "      <td>4</td>\n",
       "      <td>2</td>\n",
       "    </tr>\n",
       "    <tr>\n",
       "      <th>3</th>\n",
       "      <td>2.85</td>\n",
       "      <td>4.15</td>\n",
       "      <td>17.2225</td>\n",
       "      <td>71.473375</td>\n",
       "      <td>5200</td>\n",
       "      <td>27040000</td>\n",
       "      <td>0</td>\n",
       "      <td>0</td>\n",
       "      <td>0</td>\n",
       "      <td>0</td>\n",
       "      <td>1</td>\n",
       "      <td>0</td>\n",
       "      <td>1</td>\n",
       "      <td>64</td>\n",
       "      <td>8</td>\n",
       "    </tr>\n",
       "    <tr>\n",
       "      <th>4</th>\n",
       "      <td>4.60</td>\n",
       "      <td>6.87</td>\n",
       "      <td>47.1969</td>\n",
       "      <td>324.242703</td>\n",
       "      <td>42450</td>\n",
       "      <td>1802002500</td>\n",
       "      <td>0</td>\n",
       "      <td>0</td>\n",
       "      <td>1</td>\n",
       "      <td>1</td>\n",
       "      <td>0</td>\n",
       "      <td>0</td>\n",
       "      <td>1</td>\n",
       "      <td>25</td>\n",
       "      <td>5</td>\n",
       "    </tr>\n",
       "  </tbody>\n",
       "</table>\n",
       "</div>"
      ],
      "text/plain": [
       "   Selling_Price  Present_Price  Present_Price2  Present_Price3  Kms_Driven  \\\n",
       "0           3.35           5.59         31.2481      174.676879       27000   \n",
       "1           4.75           9.54         91.0116      868.250664       43000   \n",
       "2           7.25           9.85         97.0225      955.671625        6900   \n",
       "3           2.85           4.15         17.2225       71.473375        5200   \n",
       "4           4.60           6.87         47.1969      324.242703       42450   \n",
       "\n",
       "   Kms_Driven2  Owner  Owner2  Fuel_Type_Diesel  Fuel_Type_Diesel2  \\\n",
       "0    729000000      0       0                 0                  0   \n",
       "1   1849000000      0       0                 1                  1   \n",
       "2     47610000      0       0                 0                  0   \n",
       "3     27040000      0       0                 0                  0   \n",
       "4   1802002500      0       0                 1                  1   \n",
       "\n",
       "   Fuel_Type_Petrol  Seller_Type_Individual  Transmission_Manual  age2  age  \n",
       "0                 1                       0                    1    25    5  \n",
       "1                 0                       0                    1    36    6  \n",
       "2                 1                       0                    1     4    2  \n",
       "3                 1                       0                    1    64    8  \n",
       "4                 0                       0                    1    25    5  "
      ]
     },
     "execution_count": 1470,
     "metadata": {},
     "output_type": "execute_result"
    }
   ],
   "source": [
    "df.head()"
   ]
  },
  {
   "cell_type": "code",
   "execution_count": 1471,
   "id": "4dec5c6b",
   "metadata": {},
   "outputs": [],
   "source": [
    "#Model Regression Degree=3 by adding dimension to 'Present_Price', 'Kms_Driven', 'Owner', 'Fuel_Type_Diesel','age\n",
    "\n",
    "\n",
    "\n",
    "Kms_Driven3=df.Kms_Driven**3\n",
    "df.insert(6 ,\"Kms_Driven3\" ,Kms_Driven3 )\n",
    "\n",
    "Owner3=df.Owner**3\n",
    "df.insert(9 ,\"Owner3\" ,Owner3 )\n",
    "\n",
    "Fuel_Type_Diesel3=df.Fuel_Type_Diesel**3\n",
    "df.insert(12 ,\"Fuel_Type_Diesel3\" ,Fuel_Type_Diesel3 ) \n",
    "\n",
    "age3=df.age**3\n",
    "df.insert(18 ,\"age3\" ,age3 ) "
   ]
  },
  {
   "cell_type": "code",
   "execution_count": 1472,
   "id": "d6fe8d7b",
   "metadata": {},
   "outputs": [],
   "source": [
    "#building model degree 3\n",
    "from sklearn import preprocessing\n",
    "Scaler= preprocessing.MinMaxScaler(feature_range=(0,1))\n",
    "mo=Scaler.fit_transform(df)\n",
    "mod=pd.DataFrame(mo,columns=['Selling_Price', 'Present_Price','Present_Price2','Present_Price3', 'Kms_Driven','Kms_Driven2' ,'Kms_Driven3',\n",
    "        'Owner','Owner2','Owner3','Fuel_Type_Diesel', 'Fuel_Type_Diesel2','Fuel_Type_Diesel3' ,'Fuel_Type_Petrol',\n",
    "        'Seller_Type_Individual', 'Transmission_Manual', 'age','age2','age3']  )"
   ]
  },
  {
   "cell_type": "code",
   "execution_count": 1473,
   "id": "b3e5af9f",
   "metadata": {},
   "outputs": [],
   "source": [
    "X = mod.drop(['Selling_Price'],axis=1)\n",
    "y=mod['Selling_Price'].values.reshape(-1,1)\n",
    "\n",
    "X_train , X_test , y_train , y_test=train_test_split(X,y,test_size=0.2 , random_state=0)\n",
    "\n",
    "model_degree3=LinearRegression()\n",
    "model_degree3.fit(X_train , y_train)\n",
    "\n",
    "y_pred= model_degree3.predict(X_test)\n"
   ]
  },
  {
   "cell_type": "code",
   "execution_count": 1474,
   "id": "049c2f07",
   "metadata": {},
   "outputs": [
    {
     "name": "stdout",
     "output_type": "stream",
     "text": [
      "Mean Absolute Error: 0.03129999343289048\n",
      "Mean Squared Error: 0.0016478004208906635\n",
      "Root Mean Squared Error: 0.040593108046695116\n",
      "r2_score model_degree2: 0.9205992761823606\n"
     ]
    }
   ],
   "source": [
    "#Metrics\n",
    "print('Mean Absolute Error:', metrics.mean_absolute_error(y_test, y_pred))  \n",
    "print('Mean Squared Error:', metrics.mean_squared_error(y_test, y_pred))  \n",
    "print('Root Mean Squared Error:', np.sqrt(metrics.mean_squared_error(y_test, y_pred)))\n",
    "print('r2_score model_degree2:', metrics.r2_score(y_test,y_pred))"
   ]
  },
  {
   "cell_type": "code",
   "execution_count": 1475,
   "id": "d5498e15",
   "metadata": {},
   "outputs": [],
   "source": [
    "#Model Regression Degree=4 first by adding dimension to 'Present_Price' only\n",
    "Present_Price4=df.Present_Price**4\n",
    "df.insert( 4,\"Present_Price4\" ,Present_Price4)"
   ]
  },
  {
   "cell_type": "code",
   "execution_count": 1476,
   "id": "91da7b4b",
   "metadata": {},
   "outputs": [],
   "source": [
    "#building model degree 4\n",
    "from sklearn import preprocessing\n",
    "Scaler= preprocessing.MinMaxScaler(feature_range=(0,1))\n",
    "mw=Scaler.fit_transform(df)\n",
    "mwd=pd.DataFrame(mw,columns=['Selling_Price', 'Present_Price','Present_Price2','Present_Price3','Present_Price4', 'Kms_Driven','Kms_Driven2' ,'Kms_Driven3',\n",
    "        'Owner','Owner2','Owner3','Fuel_Type_Diesel', 'Fuel_Type_Diesel2','Fuel_Type_Diesel3' ,'Fuel_Type_Petrol',\n",
    "        'Seller_Type_Individual', 'Transmission_Manual', 'age','age2','age3 ']  )"
   ]
  },
  {
   "cell_type": "code",
   "execution_count": 1477,
   "id": "4aacd1b1",
   "metadata": {},
   "outputs": [],
   "source": [
    "X = mwd.drop(['Selling_Price'],axis=1)\n",
    "y=mwd['Selling_Price'].values.reshape(-1,1)\n",
    "\n",
    "X_train , X_test , y_train , y_test=train_test_split(X,y,test_size=0.2 , random_state=0)\n",
    "\n",
    "model_degree4=LinearRegression()\n",
    "model_degree4.fit(X_train , y_train)\n",
    "\n",
    "y_pred= model_degree4.predict(X_test)"
   ]
  },
  {
   "cell_type": "code",
   "execution_count": 1478,
   "id": "a6d6d4ee",
   "metadata": {},
   "outputs": [
    {
     "name": "stdout",
     "output_type": "stream",
     "text": [
      "Mean Absolute Error: 0.03294347863326009\n",
      "Mean Squared Error: 0.0020538995614336653\n",
      "Root Mean Squared Error: 0.045319968683061394\n",
      "r2_score model_degree2: 0.9010310291470753\n"
     ]
    }
   ],
   "source": [
    "#Metrics\n",
    "print('Mean Absolute Error:', metrics.mean_absolute_error(y_test, y_pred))  \n",
    "print('Mean Squared Error:', metrics.mean_squared_error(y_test, y_pred))  \n",
    "print('Root Mean Squared Error:', np.sqrt(metrics.mean_squared_error(y_test, y_pred)))\n",
    "print('r2_score model_degree2:', metrics.r2_score(y_test,y_pred))"
   ]
  },
  {
   "cell_type": "code",
   "execution_count": 1479,
   "id": "330cb7c6",
   "metadata": {},
   "outputs": [],
   "source": [
    "#cross valiadtion K Fold ondegree3 model with 10 Folds\n",
    "df.drop(['Present_Price4'],axis=1, inplace=True)\n",
    "\n",
    "X = df.drop(['Selling_Price'],axis=1)\n",
    "y=df['Selling_Price'].values.reshape(-1,1)"
   ]
  },
  {
   "cell_type": "code",
   "execution_count": 1480,
   "id": "3f4e17ac",
   "metadata": {},
   "outputs": [],
   "source": [
    "X_train , X_test , y_train , y_test=train_test_split(X,y,test_size=0.2 , random_state=0)"
   ]
  },
  {
   "cell_type": "code",
   "execution_count": 1481,
   "id": "38625c2d",
   "metadata": {},
   "outputs": [
    {
     "data": {
      "text/plain": [
       "LinearRegression()"
      ]
     },
     "execution_count": 1481,
     "metadata": {},
     "output_type": "execute_result"
    }
   ],
   "source": [
    "modeldegree3=LinearRegression()\n",
    "modeldegree3.fit(X_train , y_train)"
   ]
  },
  {
   "cell_type": "code",
   "execution_count": 1482,
   "id": "8d7b9c8f",
   "metadata": {},
   "outputs": [
    {
     "name": "stdout",
     "output_type": "stream",
     "text": [
      "0.9179108590977091\n"
     ]
    }
   ],
   "source": [
    "result=modeldegree3.score(X_test,y_test)\n",
    "print(result)"
   ]
  },
  {
   "cell_type": "code",
   "execution_count": 1483,
   "id": "3f861559",
   "metadata": {},
   "outputs": [],
   "source": [
    "from sklearn.model_selection import KFold\n",
    "from sklearn.model_selection import cross_val_score"
   ]
  },
  {
   "cell_type": "code",
   "execution_count": 1484,
   "id": "cd723579",
   "metadata": {},
   "outputs": [],
   "source": [
    "model3_new=LinearRegression()"
   ]
  },
  {
   "cell_type": "code",
   "execution_count": 1485,
   "id": "fbbdff47",
   "metadata": {},
   "outputs": [],
   "source": [
    "KFold_validation=KFold(10)"
   ]
  },
  {
   "cell_type": "code",
   "execution_count": 1486,
   "id": "2893c585",
   "metadata": {},
   "outputs": [
    {
     "name": "stdout",
     "output_type": "stream",
     "text": [
      "[ 8.42417288e-01  8.88877087e-01 -9.95695259e+01  8.52634101e-01\n",
      " -7.57144549e+01 -1.71579540e+03 -6.88470335e+02  7.91844585e-01\n",
      "  8.25686497e-01  9.03233673e-01]\n"
     ]
    }
   ],
   "source": [
    "results=cross_val_score(model_new,X,y,cv=KFold_validation)\n",
    "print(results)"
   ]
  },
  {
   "cell_type": "code",
   "execution_count": 1487,
   "id": "00412212",
   "metadata": {},
   "outputs": [],
   "source": [
    "bad_data1=df.iloc[40:60].index\n",
    "\n"
   ]
  },
  {
   "cell_type": "code",
   "execution_count": 1488,
   "id": "6fd9e460",
   "metadata": {},
   "outputs": [],
   "source": [
    "bad_data2=df.iloc[100:140].index"
   ]
  },
  {
   "cell_type": "code",
   "execution_count": 1489,
   "id": "69729c5b",
   "metadata": {},
   "outputs": [],
   "source": [
    "df_removed1_fold=df.drop(bad_data1)\n",
    "df_removed2_fold=df_removed1_fold.drop(bad_data2)\n"
   ]
  },
  {
   "cell_type": "code",
   "execution_count": 1490,
   "id": "a47f3df4",
   "metadata": {},
   "outputs": [
    {
     "data": {
      "text/html": [
       "<div>\n",
       "<style scoped>\n",
       "    .dataframe tbody tr th:only-of-type {\n",
       "        vertical-align: middle;\n",
       "    }\n",
       "\n",
       "    .dataframe tbody tr th {\n",
       "        vertical-align: top;\n",
       "    }\n",
       "\n",
       "    .dataframe thead th {\n",
       "        text-align: right;\n",
       "    }\n",
       "</style>\n",
       "<table border=\"1\" class=\"dataframe\">\n",
       "  <thead>\n",
       "    <tr style=\"text-align: right;\">\n",
       "      <th></th>\n",
       "      <th>Selling_Price</th>\n",
       "      <th>Present_Price</th>\n",
       "      <th>Present_Price2</th>\n",
       "      <th>Present_Price3</th>\n",
       "      <th>Kms_Driven</th>\n",
       "      <th>Kms_Driven2</th>\n",
       "      <th>Kms_Driven3</th>\n",
       "      <th>Owner</th>\n",
       "      <th>Owner2</th>\n",
       "      <th>Owner3</th>\n",
       "      <th>Fuel_Type_Diesel</th>\n",
       "      <th>Fuel_Type_Diesel2</th>\n",
       "      <th>Fuel_Type_Diesel3</th>\n",
       "      <th>Fuel_Type_Petrol</th>\n",
       "      <th>Seller_Type_Individual</th>\n",
       "      <th>Transmission_Manual</th>\n",
       "      <th>age2</th>\n",
       "      <th>age</th>\n",
       "      <th>age3</th>\n",
       "    </tr>\n",
       "  </thead>\n",
       "  <tbody>\n",
       "    <tr>\n",
       "      <th>0</th>\n",
       "      <td>3.35</td>\n",
       "      <td>5.59</td>\n",
       "      <td>31.2481</td>\n",
       "      <td>174.676879</td>\n",
       "      <td>27000</td>\n",
       "      <td>729000000</td>\n",
       "      <td>19683000000000</td>\n",
       "      <td>0</td>\n",
       "      <td>0</td>\n",
       "      <td>0</td>\n",
       "      <td>0</td>\n",
       "      <td>0</td>\n",
       "      <td>0</td>\n",
       "      <td>1</td>\n",
       "      <td>0</td>\n",
       "      <td>1</td>\n",
       "      <td>25</td>\n",
       "      <td>5</td>\n",
       "      <td>125</td>\n",
       "    </tr>\n",
       "    <tr>\n",
       "      <th>1</th>\n",
       "      <td>4.75</td>\n",
       "      <td>9.54</td>\n",
       "      <td>91.0116</td>\n",
       "      <td>868.250664</td>\n",
       "      <td>43000</td>\n",
       "      <td>1849000000</td>\n",
       "      <td>79507000000000</td>\n",
       "      <td>0</td>\n",
       "      <td>0</td>\n",
       "      <td>0</td>\n",
       "      <td>1</td>\n",
       "      <td>1</td>\n",
       "      <td>1</td>\n",
       "      <td>0</td>\n",
       "      <td>0</td>\n",
       "      <td>1</td>\n",
       "      <td>36</td>\n",
       "      <td>6</td>\n",
       "      <td>216</td>\n",
       "    </tr>\n",
       "    <tr>\n",
       "      <th>2</th>\n",
       "      <td>7.25</td>\n",
       "      <td>9.85</td>\n",
       "      <td>97.0225</td>\n",
       "      <td>955.671625</td>\n",
       "      <td>6900</td>\n",
       "      <td>47610000</td>\n",
       "      <td>328509000000</td>\n",
       "      <td>0</td>\n",
       "      <td>0</td>\n",
       "      <td>0</td>\n",
       "      <td>0</td>\n",
       "      <td>0</td>\n",
       "      <td>0</td>\n",
       "      <td>1</td>\n",
       "      <td>0</td>\n",
       "      <td>1</td>\n",
       "      <td>4</td>\n",
       "      <td>2</td>\n",
       "      <td>8</td>\n",
       "    </tr>\n",
       "    <tr>\n",
       "      <th>3</th>\n",
       "      <td>2.85</td>\n",
       "      <td>4.15</td>\n",
       "      <td>17.2225</td>\n",
       "      <td>71.473375</td>\n",
       "      <td>5200</td>\n",
       "      <td>27040000</td>\n",
       "      <td>140608000000</td>\n",
       "      <td>0</td>\n",
       "      <td>0</td>\n",
       "      <td>0</td>\n",
       "      <td>0</td>\n",
       "      <td>0</td>\n",
       "      <td>0</td>\n",
       "      <td>1</td>\n",
       "      <td>0</td>\n",
       "      <td>1</td>\n",
       "      <td>64</td>\n",
       "      <td>8</td>\n",
       "      <td>512</td>\n",
       "    </tr>\n",
       "    <tr>\n",
       "      <th>4</th>\n",
       "      <td>4.60</td>\n",
       "      <td>6.87</td>\n",
       "      <td>47.1969</td>\n",
       "      <td>324.242703</td>\n",
       "      <td>42450</td>\n",
       "      <td>1802002500</td>\n",
       "      <td>76495006125000</td>\n",
       "      <td>0</td>\n",
       "      <td>0</td>\n",
       "      <td>0</td>\n",
       "      <td>1</td>\n",
       "      <td>1</td>\n",
       "      <td>1</td>\n",
       "      <td>0</td>\n",
       "      <td>0</td>\n",
       "      <td>1</td>\n",
       "      <td>25</td>\n",
       "      <td>5</td>\n",
       "      <td>125</td>\n",
       "    </tr>\n",
       "    <tr>\n",
       "      <th>...</th>\n",
       "      <td>...</td>\n",
       "      <td>...</td>\n",
       "      <td>...</td>\n",
       "      <td>...</td>\n",
       "      <td>...</td>\n",
       "      <td>...</td>\n",
       "      <td>...</td>\n",
       "      <td>...</td>\n",
       "      <td>...</td>\n",
       "      <td>...</td>\n",
       "      <td>...</td>\n",
       "      <td>...</td>\n",
       "      <td>...</td>\n",
       "      <td>...</td>\n",
       "      <td>...</td>\n",
       "      <td>...</td>\n",
       "      <td>...</td>\n",
       "      <td>...</td>\n",
       "      <td>...</td>\n",
       "    </tr>\n",
       "    <tr>\n",
       "      <th>296</th>\n",
       "      <td>9.50</td>\n",
       "      <td>11.60</td>\n",
       "      <td>134.5600</td>\n",
       "      <td>1560.896000</td>\n",
       "      <td>33988</td>\n",
       "      <td>1155184144</td>\n",
       "      <td>39262398686272</td>\n",
       "      <td>0</td>\n",
       "      <td>0</td>\n",
       "      <td>0</td>\n",
       "      <td>1</td>\n",
       "      <td>1</td>\n",
       "      <td>1</td>\n",
       "      <td>0</td>\n",
       "      <td>0</td>\n",
       "      <td>1</td>\n",
       "      <td>9</td>\n",
       "      <td>3</td>\n",
       "      <td>27</td>\n",
       "    </tr>\n",
       "    <tr>\n",
       "      <th>297</th>\n",
       "      <td>4.00</td>\n",
       "      <td>5.90</td>\n",
       "      <td>34.8100</td>\n",
       "      <td>205.379000</td>\n",
       "      <td>60000</td>\n",
       "      <td>3600000000</td>\n",
       "      <td>216000000000000</td>\n",
       "      <td>0</td>\n",
       "      <td>0</td>\n",
       "      <td>0</td>\n",
       "      <td>0</td>\n",
       "      <td>0</td>\n",
       "      <td>0</td>\n",
       "      <td>1</td>\n",
       "      <td>0</td>\n",
       "      <td>1</td>\n",
       "      <td>16</td>\n",
       "      <td>4</td>\n",
       "      <td>64</td>\n",
       "    </tr>\n",
       "    <tr>\n",
       "      <th>298</th>\n",
       "      <td>3.35</td>\n",
       "      <td>11.00</td>\n",
       "      <td>121.0000</td>\n",
       "      <td>1331.000000</td>\n",
       "      <td>87934</td>\n",
       "      <td>7732388356</td>\n",
       "      <td>679939837696504</td>\n",
       "      <td>0</td>\n",
       "      <td>0</td>\n",
       "      <td>0</td>\n",
       "      <td>0</td>\n",
       "      <td>0</td>\n",
       "      <td>0</td>\n",
       "      <td>1</td>\n",
       "      <td>0</td>\n",
       "      <td>1</td>\n",
       "      <td>100</td>\n",
       "      <td>10</td>\n",
       "      <td>1000</td>\n",
       "    </tr>\n",
       "    <tr>\n",
       "      <th>299</th>\n",
       "      <td>11.50</td>\n",
       "      <td>12.50</td>\n",
       "      <td>156.2500</td>\n",
       "      <td>1953.125000</td>\n",
       "      <td>9000</td>\n",
       "      <td>81000000</td>\n",
       "      <td>729000000000</td>\n",
       "      <td>0</td>\n",
       "      <td>0</td>\n",
       "      <td>0</td>\n",
       "      <td>1</td>\n",
       "      <td>1</td>\n",
       "      <td>1</td>\n",
       "      <td>0</td>\n",
       "      <td>0</td>\n",
       "      <td>1</td>\n",
       "      <td>4</td>\n",
       "      <td>2</td>\n",
       "      <td>8</td>\n",
       "    </tr>\n",
       "    <tr>\n",
       "      <th>300</th>\n",
       "      <td>5.30</td>\n",
       "      <td>5.90</td>\n",
       "      <td>34.8100</td>\n",
       "      <td>205.379000</td>\n",
       "      <td>5464</td>\n",
       "      <td>29855296</td>\n",
       "      <td>163129337344</td>\n",
       "      <td>0</td>\n",
       "      <td>0</td>\n",
       "      <td>0</td>\n",
       "      <td>0</td>\n",
       "      <td>0</td>\n",
       "      <td>0</td>\n",
       "      <td>1</td>\n",
       "      <td>0</td>\n",
       "      <td>1</td>\n",
       "      <td>9</td>\n",
       "      <td>3</td>\n",
       "      <td>27</td>\n",
       "    </tr>\n",
       "  </tbody>\n",
       "</table>\n",
       "<p>241 rows × 19 columns</p>\n",
       "</div>"
      ],
      "text/plain": [
       "     Selling_Price  Present_Price  Present_Price2  Present_Price3  Kms_Driven  \\\n",
       "0             3.35           5.59         31.2481      174.676879       27000   \n",
       "1             4.75           9.54         91.0116      868.250664       43000   \n",
       "2             7.25           9.85         97.0225      955.671625        6900   \n",
       "3             2.85           4.15         17.2225       71.473375        5200   \n",
       "4             4.60           6.87         47.1969      324.242703       42450   \n",
       "..             ...            ...             ...             ...         ...   \n",
       "296           9.50          11.60        134.5600     1560.896000       33988   \n",
       "297           4.00           5.90         34.8100      205.379000       60000   \n",
       "298           3.35          11.00        121.0000     1331.000000       87934   \n",
       "299          11.50          12.50        156.2500     1953.125000        9000   \n",
       "300           5.30           5.90         34.8100      205.379000        5464   \n",
       "\n",
       "     Kms_Driven2      Kms_Driven3  Owner  Owner2  Owner3  Fuel_Type_Diesel  \\\n",
       "0      729000000   19683000000000      0       0       0                 0   \n",
       "1     1849000000   79507000000000      0       0       0                 1   \n",
       "2       47610000     328509000000      0       0       0                 0   \n",
       "3       27040000     140608000000      0       0       0                 0   \n",
       "4     1802002500   76495006125000      0       0       0                 1   \n",
       "..           ...              ...    ...     ...     ...               ...   \n",
       "296   1155184144   39262398686272      0       0       0                 1   \n",
       "297   3600000000  216000000000000      0       0       0                 0   \n",
       "298   7732388356  679939837696504      0       0       0                 0   \n",
       "299     81000000     729000000000      0       0       0                 1   \n",
       "300     29855296     163129337344      0       0       0                 0   \n",
       "\n",
       "     Fuel_Type_Diesel2  Fuel_Type_Diesel3  Fuel_Type_Petrol  \\\n",
       "0                    0                  0                 1   \n",
       "1                    1                  1                 0   \n",
       "2                    0                  0                 1   \n",
       "3                    0                  0                 1   \n",
       "4                    1                  1                 0   \n",
       "..                 ...                ...               ...   \n",
       "296                  1                  1                 0   \n",
       "297                  0                  0                 1   \n",
       "298                  0                  0                 1   \n",
       "299                  1                  1                 0   \n",
       "300                  0                  0                 1   \n",
       "\n",
       "     Seller_Type_Individual  Transmission_Manual  age2  age  age3  \n",
       "0                         0                    1    25    5   125  \n",
       "1                         0                    1    36    6   216  \n",
       "2                         0                    1     4    2     8  \n",
       "3                         0                    1    64    8   512  \n",
       "4                         0                    1    25    5   125  \n",
       "..                      ...                  ...   ...  ...   ...  \n",
       "296                       0                    1     9    3    27  \n",
       "297                       0                    1    16    4    64  \n",
       "298                       0                    1   100   10  1000  \n",
       "299                       0                    1     4    2     8  \n",
       "300                       0                    1     9    3    27  \n",
       "\n",
       "[241 rows x 19 columns]"
      ]
     },
     "execution_count": 1490,
     "metadata": {},
     "output_type": "execute_result"
    }
   ],
   "source": [
    "df_removed2_fold"
   ]
  },
  {
   "cell_type": "code",
   "execution_count": 1491,
   "id": "1703dec5",
   "metadata": {},
   "outputs": [],
   "source": [
    "#### Model on new data without that folds\n"
   ]
  },
  {
   "cell_type": "code",
   "execution_count": 1492,
   "id": "6cd9cbc7",
   "metadata": {},
   "outputs": [
    {
     "data": {
      "text/html": [
       "<div>\n",
       "<style scoped>\n",
       "    .dataframe tbody tr th:only-of-type {\n",
       "        vertical-align: middle;\n",
       "    }\n",
       "\n",
       "    .dataframe tbody tr th {\n",
       "        vertical-align: top;\n",
       "    }\n",
       "\n",
       "    .dataframe thead th {\n",
       "        text-align: right;\n",
       "    }\n",
       "</style>\n",
       "<table border=\"1\" class=\"dataframe\">\n",
       "  <thead>\n",
       "    <tr style=\"text-align: right;\">\n",
       "      <th></th>\n",
       "      <th>Selling_Price</th>\n",
       "      <th>Present_Price</th>\n",
       "      <th>Present_Price2</th>\n",
       "      <th>Present_Price3</th>\n",
       "      <th>Kms_Driven</th>\n",
       "      <th>Kms_Driven2</th>\n",
       "      <th>Kms_Driven3</th>\n",
       "      <th>Owner</th>\n",
       "      <th>Owner2</th>\n",
       "      <th>Owner3</th>\n",
       "      <th>Fuel_Type_Diesel</th>\n",
       "      <th>Fuel_Type_Diesel2</th>\n",
       "      <th>Fuel_Type_Diesel3</th>\n",
       "      <th>Fuel_Type_Petrol</th>\n",
       "      <th>Seller_Type_Individual</th>\n",
       "      <th>Transmission_Manual</th>\n",
       "      <th>age</th>\n",
       "      <th>age2</th>\n",
       "      <th>age3</th>\n",
       "    </tr>\n",
       "  </thead>\n",
       "  <tbody>\n",
       "    <tr>\n",
       "      <th>0</th>\n",
       "      <td>0.093123</td>\n",
       "      <td>0.057109</td>\n",
       "      <td>0.003632</td>\n",
       "      <td>0.000220</td>\n",
       "      <td>0.053053</td>\n",
       "      <td>0.002915</td>\n",
       "      <td>0.000157</td>\n",
       "      <td>0.0</td>\n",
       "      <td>0.0</td>\n",
       "      <td>0.0</td>\n",
       "      <td>0.0</td>\n",
       "      <td>0.0</td>\n",
       "      <td>0.0</td>\n",
       "      <td>1.0</td>\n",
       "      <td>0.0</td>\n",
       "      <td>1.0</td>\n",
       "      <td>0.094118</td>\n",
       "      <td>0.266667</td>\n",
       "      <td>0.030281</td>\n",
       "    </tr>\n",
       "    <tr>\n",
       "      <th>1</th>\n",
       "      <td>0.133238</td>\n",
       "      <td>0.099913</td>\n",
       "      <td>0.010602</td>\n",
       "      <td>0.001093</td>\n",
       "      <td>0.085085</td>\n",
       "      <td>0.007395</td>\n",
       "      <td>0.000636</td>\n",
       "      <td>0.0</td>\n",
       "      <td>0.0</td>\n",
       "      <td>0.0</td>\n",
       "      <td>1.0</td>\n",
       "      <td>1.0</td>\n",
       "      <td>1.0</td>\n",
       "      <td>0.0</td>\n",
       "      <td>0.0</td>\n",
       "      <td>1.0</td>\n",
       "      <td>0.137255</td>\n",
       "      <td>0.333333</td>\n",
       "      <td>0.052503</td>\n",
       "    </tr>\n",
       "    <tr>\n",
       "      <th>2</th>\n",
       "      <td>0.204871</td>\n",
       "      <td>0.103273</td>\n",
       "      <td>0.011303</td>\n",
       "      <td>0.001204</td>\n",
       "      <td>0.012813</td>\n",
       "      <td>0.000189</td>\n",
       "      <td>0.000003</td>\n",
       "      <td>0.0</td>\n",
       "      <td>0.0</td>\n",
       "      <td>0.0</td>\n",
       "      <td>0.0</td>\n",
       "      <td>0.0</td>\n",
       "      <td>0.0</td>\n",
       "      <td>1.0</td>\n",
       "      <td>0.0</td>\n",
       "      <td>1.0</td>\n",
       "      <td>0.011765</td>\n",
       "      <td>0.066667</td>\n",
       "      <td>0.001709</td>\n",
       "    </tr>\n",
       "    <tr>\n",
       "      <th>3</th>\n",
       "      <td>0.078797</td>\n",
       "      <td>0.041504</td>\n",
       "      <td>0.001997</td>\n",
       "      <td>0.000090</td>\n",
       "      <td>0.009409</td>\n",
       "      <td>0.000107</td>\n",
       "      <td>0.000001</td>\n",
       "      <td>0.0</td>\n",
       "      <td>0.0</td>\n",
       "      <td>0.0</td>\n",
       "      <td>0.0</td>\n",
       "      <td>0.0</td>\n",
       "      <td>0.0</td>\n",
       "      <td>1.0</td>\n",
       "      <td>0.0</td>\n",
       "      <td>1.0</td>\n",
       "      <td>0.247059</td>\n",
       "      <td>0.466667</td>\n",
       "      <td>0.124786</td>\n",
       "    </tr>\n",
       "    <tr>\n",
       "      <th>4</th>\n",
       "      <td>0.128940</td>\n",
       "      <td>0.070980</td>\n",
       "      <td>0.005492</td>\n",
       "      <td>0.000408</td>\n",
       "      <td>0.083984</td>\n",
       "      <td>0.007207</td>\n",
       "      <td>0.000612</td>\n",
       "      <td>0.0</td>\n",
       "      <td>0.0</td>\n",
       "      <td>0.0</td>\n",
       "      <td>1.0</td>\n",
       "      <td>1.0</td>\n",
       "      <td>1.0</td>\n",
       "      <td>0.0</td>\n",
       "      <td>0.0</td>\n",
       "      <td>1.0</td>\n",
       "      <td>0.094118</td>\n",
       "      <td>0.266667</td>\n",
       "      <td>0.030281</td>\n",
       "    </tr>\n",
       "    <tr>\n",
       "      <th>...</th>\n",
       "      <td>...</td>\n",
       "      <td>...</td>\n",
       "      <td>...</td>\n",
       "      <td>...</td>\n",
       "      <td>...</td>\n",
       "      <td>...</td>\n",
       "      <td>...</td>\n",
       "      <td>...</td>\n",
       "      <td>...</td>\n",
       "      <td>...</td>\n",
       "      <td>...</td>\n",
       "      <td>...</td>\n",
       "      <td>...</td>\n",
       "      <td>...</td>\n",
       "      <td>...</td>\n",
       "      <td>...</td>\n",
       "      <td>...</td>\n",
       "      <td>...</td>\n",
       "      <td>...</td>\n",
       "    </tr>\n",
       "    <tr>\n",
       "      <th>236</th>\n",
       "      <td>0.269341</td>\n",
       "      <td>0.122237</td>\n",
       "      <td>0.015681</td>\n",
       "      <td>0.001966</td>\n",
       "      <td>0.067043</td>\n",
       "      <td>0.004620</td>\n",
       "      <td>0.000314</td>\n",
       "      <td>0.0</td>\n",
       "      <td>0.0</td>\n",
       "      <td>0.0</td>\n",
       "      <td>1.0</td>\n",
       "      <td>1.0</td>\n",
       "      <td>1.0</td>\n",
       "      <td>0.0</td>\n",
       "      <td>0.0</td>\n",
       "      <td>1.0</td>\n",
       "      <td>0.031373</td>\n",
       "      <td>0.133333</td>\n",
       "      <td>0.006349</td>\n",
       "    </tr>\n",
       "    <tr>\n",
       "      <th>237</th>\n",
       "      <td>0.111748</td>\n",
       "      <td>0.060468</td>\n",
       "      <td>0.004048</td>\n",
       "      <td>0.000259</td>\n",
       "      <td>0.119119</td>\n",
       "      <td>0.014399</td>\n",
       "      <td>0.001728</td>\n",
       "      <td>0.0</td>\n",
       "      <td>0.0</td>\n",
       "      <td>0.0</td>\n",
       "      <td>0.0</td>\n",
       "      <td>0.0</td>\n",
       "      <td>0.0</td>\n",
       "      <td>1.0</td>\n",
       "      <td>0.0</td>\n",
       "      <td>1.0</td>\n",
       "      <td>0.058824</td>\n",
       "      <td>0.200000</td>\n",
       "      <td>0.015385</td>\n",
       "    </tr>\n",
       "    <tr>\n",
       "      <th>238</th>\n",
       "      <td>0.093123</td>\n",
       "      <td>0.115735</td>\n",
       "      <td>0.014099</td>\n",
       "      <td>0.001676</td>\n",
       "      <td>0.175043</td>\n",
       "      <td>0.030929</td>\n",
       "      <td>0.005440</td>\n",
       "      <td>0.0</td>\n",
       "      <td>0.0</td>\n",
       "      <td>0.0</td>\n",
       "      <td>0.0</td>\n",
       "      <td>0.0</td>\n",
       "      <td>0.0</td>\n",
       "      <td>1.0</td>\n",
       "      <td>0.0</td>\n",
       "      <td>1.0</td>\n",
       "      <td>0.388235</td>\n",
       "      <td>0.600000</td>\n",
       "      <td>0.243956</td>\n",
       "    </tr>\n",
       "    <tr>\n",
       "      <th>239</th>\n",
       "      <td>0.326648</td>\n",
       "      <td>0.131990</td>\n",
       "      <td>0.018210</td>\n",
       "      <td>0.002460</td>\n",
       "      <td>0.017017</td>\n",
       "      <td>0.000323</td>\n",
       "      <td>0.000006</td>\n",
       "      <td>0.0</td>\n",
       "      <td>0.0</td>\n",
       "      <td>0.0</td>\n",
       "      <td>1.0</td>\n",
       "      <td>1.0</td>\n",
       "      <td>1.0</td>\n",
       "      <td>0.0</td>\n",
       "      <td>0.0</td>\n",
       "      <td>1.0</td>\n",
       "      <td>0.011765</td>\n",
       "      <td>0.066667</td>\n",
       "      <td>0.001709</td>\n",
       "    </tr>\n",
       "    <tr>\n",
       "      <th>240</th>\n",
       "      <td>0.148997</td>\n",
       "      <td>0.060468</td>\n",
       "      <td>0.004048</td>\n",
       "      <td>0.000259</td>\n",
       "      <td>0.009938</td>\n",
       "      <td>0.000118</td>\n",
       "      <td>0.000001</td>\n",
       "      <td>0.0</td>\n",
       "      <td>0.0</td>\n",
       "      <td>0.0</td>\n",
       "      <td>0.0</td>\n",
       "      <td>0.0</td>\n",
       "      <td>0.0</td>\n",
       "      <td>1.0</td>\n",
       "      <td>0.0</td>\n",
       "      <td>1.0</td>\n",
       "      <td>0.031373</td>\n",
       "      <td>0.133333</td>\n",
       "      <td>0.006349</td>\n",
       "    </tr>\n",
       "  </tbody>\n",
       "</table>\n",
       "<p>241 rows × 19 columns</p>\n",
       "</div>"
      ],
      "text/plain": [
       "     Selling_Price  Present_Price  Present_Price2  Present_Price3  Kms_Driven  \\\n",
       "0         0.093123       0.057109        0.003632        0.000220    0.053053   \n",
       "1         0.133238       0.099913        0.010602        0.001093    0.085085   \n",
       "2         0.204871       0.103273        0.011303        0.001204    0.012813   \n",
       "3         0.078797       0.041504        0.001997        0.000090    0.009409   \n",
       "4         0.128940       0.070980        0.005492        0.000408    0.083984   \n",
       "..             ...            ...             ...             ...         ...   \n",
       "236       0.269341       0.122237        0.015681        0.001966    0.067043   \n",
       "237       0.111748       0.060468        0.004048        0.000259    0.119119   \n",
       "238       0.093123       0.115735        0.014099        0.001676    0.175043   \n",
       "239       0.326648       0.131990        0.018210        0.002460    0.017017   \n",
       "240       0.148997       0.060468        0.004048        0.000259    0.009938   \n",
       "\n",
       "     Kms_Driven2  Kms_Driven3  Owner  Owner2  Owner3  Fuel_Type_Diesel  \\\n",
       "0       0.002915     0.000157    0.0     0.0     0.0               0.0   \n",
       "1       0.007395     0.000636    0.0     0.0     0.0               1.0   \n",
       "2       0.000189     0.000003    0.0     0.0     0.0               0.0   \n",
       "3       0.000107     0.000001    0.0     0.0     0.0               0.0   \n",
       "4       0.007207     0.000612    0.0     0.0     0.0               1.0   \n",
       "..           ...          ...    ...     ...     ...               ...   \n",
       "236     0.004620     0.000314    0.0     0.0     0.0               1.0   \n",
       "237     0.014399     0.001728    0.0     0.0     0.0               0.0   \n",
       "238     0.030929     0.005440    0.0     0.0     0.0               0.0   \n",
       "239     0.000323     0.000006    0.0     0.0     0.0               1.0   \n",
       "240     0.000118     0.000001    0.0     0.0     0.0               0.0   \n",
       "\n",
       "     Fuel_Type_Diesel2  Fuel_Type_Diesel3  Fuel_Type_Petrol  \\\n",
       "0                  0.0                0.0               1.0   \n",
       "1                  1.0                1.0               0.0   \n",
       "2                  0.0                0.0               1.0   \n",
       "3                  0.0                0.0               1.0   \n",
       "4                  1.0                1.0               0.0   \n",
       "..                 ...                ...               ...   \n",
       "236                1.0                1.0               0.0   \n",
       "237                0.0                0.0               1.0   \n",
       "238                0.0                0.0               1.0   \n",
       "239                1.0                1.0               0.0   \n",
       "240                0.0                0.0               1.0   \n",
       "\n",
       "     Seller_Type_Individual  Transmission_Manual       age      age2      age3  \n",
       "0                       0.0                  1.0  0.094118  0.266667  0.030281  \n",
       "1                       0.0                  1.0  0.137255  0.333333  0.052503  \n",
       "2                       0.0                  1.0  0.011765  0.066667  0.001709  \n",
       "3                       0.0                  1.0  0.247059  0.466667  0.124786  \n",
       "4                       0.0                  1.0  0.094118  0.266667  0.030281  \n",
       "..                      ...                  ...       ...       ...       ...  \n",
       "236                     0.0                  1.0  0.031373  0.133333  0.006349  \n",
       "237                     0.0                  1.0  0.058824  0.200000  0.015385  \n",
       "238                     0.0                  1.0  0.388235  0.600000  0.243956  \n",
       "239                     0.0                  1.0  0.011765  0.066667  0.001709  \n",
       "240                     0.0                  1.0  0.031373  0.133333  0.006349  \n",
       "\n",
       "[241 rows x 19 columns]"
      ]
     },
     "execution_count": 1492,
     "metadata": {},
     "output_type": "execute_result"
    }
   ],
   "source": [
    "\n",
    "nremov=Scaler.fit_transform(df_removed2_fold)\n",
    "nremov_df=pd.DataFrame(nremov,columns=['Selling_Price', 'Present_Price','Present_Price2','Present_Price3', 'Kms_Driven','Kms_Driven2' ,'Kms_Driven3',\n",
    "        'Owner','Owner2','Owner3','Fuel_Type_Diesel', 'Fuel_Type_Diesel2','Fuel_Type_Diesel3' ,'Fuel_Type_Petrol',\n",
    "        'Seller_Type_Individual', 'Transmission_Manual', 'age','age2','age3' ])\n",
    "nremov_df\n"
   ]
  },
  {
   "cell_type": "code",
   "execution_count": 1493,
   "id": "b4658d0a",
   "metadata": {},
   "outputs": [],
   "source": [
    "X =nremov_df.drop(['Selling_Price'],axis=1)\n",
    "y=nremov_df['Selling_Price'].values.reshape(-1,1)"
   ]
  },
  {
   "cell_type": "code",
   "execution_count": 1494,
   "id": "8bb7c6dc",
   "metadata": {},
   "outputs": [],
   "source": [
    "\n",
    "X_train , X_test , y_train , y_test=train_test_split(X,y,test_size=0.2 , random_state=0)"
   ]
  },
  {
   "cell_type": "code",
   "execution_count": 1495,
   "id": "710c6f45",
   "metadata": {},
   "outputs": [
    {
     "data": {
      "text/plain": [
       "LinearRegression()"
      ]
     },
     "execution_count": 1495,
     "metadata": {},
     "output_type": "execute_result"
    }
   ],
   "source": [
    "regressor=LinearRegression()\n",
    "regressor.fit(X_train , y_train)"
   ]
  },
  {
   "cell_type": "code",
   "execution_count": 1496,
   "id": "6b9985d0",
   "metadata": {},
   "outputs": [
    {
     "name": "stdout",
     "output_type": "stream",
     "text": [
      "[0.12689574]\n",
      "[[ 1.17515211e+00  1.21366137e+00 -1.39236813e+00 -5.81740672e-01\n",
      "   1.22862617e+00 -6.36447784e-01  1.03495425e-01 -1.13477173e-01\n",
      "  -1.85801372e-01  1.59740071e-02  1.59740071e-02  1.59740071e-02\n",
      "   1.33739271e-03 -1.94693396e-02  1.37556330e-04  2.85503319e-01\n",
      "  -3.59173749e-01 -3.55484083e-02]]\n"
     ]
    }
   ],
   "source": [
    "y_pred= regressor.predict(X_test)\n",
    "\n",
    "print(regressor.intercept_)\n",
    "print(regressor.coef_)"
   ]
  },
  {
   "cell_type": "code",
   "execution_count": 1497,
   "id": "070f41a2",
   "metadata": {},
   "outputs": [
    {
     "name": "stdout",
     "output_type": "stream",
     "text": [
      "Mean Absolute Error: 0.035162167215411905\n",
      "Mean Squared Error: 0.0028954429396421295\n",
      "Root Mean Squared Error: 0.053809320193086714\n",
      "r2_score degree 3 after deleting Bad Data fold: 0.8925435727400374\n"
     ]
    }
   ],
   "source": [
    "print('Mean Absolute Error:', metrics.mean_absolute_error(y_test, y_pred))  \n",
    "print('Mean Squared Error:', metrics.mean_squared_error(y_test, y_pred))  \n",
    "print('Root Mean Squared Error:', np.sqrt(metrics.mean_squared_error(y_test, y_pred)))\n",
    "print('r2_score degree 3 after deleting Bad Data fold:', metrics.r2_score(y_test,y_pred))"
   ]
  },
  {
   "cell_type": "code",
   "execution_count": 1498,
   "id": "430b32af",
   "metadata": {},
   "outputs": [],
   "source": [
    "##########################################################\n",
    "#r2_score linear regression model : 0.9144342972228514\n",
    "#r2_score model_degree2222 (one of degree2 models)  is: 0.9266918808384212\n",
    "# r2_score .................\n",
    "# I checked other models with more degrees and K fold evaluation but amonge all, I choosed first one \n",
    "#and in the function pred_val which is defined above i predict selling price by the DataFrame i made from user inputs"
   ]
  }
 ],
 "metadata": {
  "kernelspec": {
   "display_name": "Python 3",
   "language": "python",
   "name": "python3"
  },
  "language_info": {
   "codemirror_mode": {
    "name": "ipython",
    "version": 3
   },
   "file_extension": ".py",
   "mimetype": "text/x-python",
   "name": "python",
   "nbconvert_exporter": "python",
   "pygments_lexer": "ipython3",
   "version": "3.8.8"
  }
 },
 "nbformat": 4,
 "nbformat_minor": 5
}
